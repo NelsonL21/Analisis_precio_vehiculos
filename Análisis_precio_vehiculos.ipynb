{
 "cells": [
  {
   "cell_type": "markdown",
   "metadata": {},
   "source": [
    "# Análisis de precio de los vehículos"
   ]
  },
  {
   "cell_type": "markdown",
   "metadata": {
    "id": "AAm0phmwjCNT"
   },
   "source": [
    "En el presente trabajo de investigación se pretende determinar que factores permiten aumentar el precio de los vehículos dependiendo de diversas caracteristicas como el modelo del auto, su año de lanzamiento al mercado, la edad del mismo, su precio de venta, sus millas recorridas, entre otros.\n",
    "\n",
    "Se pretende primeramente limpiar los datos, eliminar la mayor cantidad posible de ausentes de la manera más óptima, y así comenzar a estudiar las relaciones entre estos y de esta forma llegar a la conclusiones pertienentes basado en diversas categorías."
   ]
  },
  {
   "cell_type": "markdown",
   "metadata": {
    "id": "vpY_evChjCNU"
   },
   "source": [
    "## Inicialización"
   ]
  },
  {
   "cell_type": "code",
   "execution_count": 1247,
   "metadata": {
    "id": "Az9xNzg1jCNW"
   },
   "outputs": [],
   "source": [
    "# Cargar todas las librerías\n",
    "import pandas as pd\n",
    "import numpy as np\n",
    "import math\n",
    "import matplotlib.pyplot as plt\n",
    "import seaborn\n"
   ]
  },
  {
   "cell_type": "code",
   "execution_count": 1248,
   "metadata": {
    "colab": {
     "base_uri": "https://localhost:8080/"
    },
    "id": "RGwjtt_2Boxe",
    "outputId": "0ee8c240-c81f-40ef-eac4-16cdef25ec82"
   },
   "outputs": [
    {
     "name": "stdout",
     "output_type": "stream",
     "text": [
      "Drive already mounted at /content/drive; to attempt to forcibly remount, call drive.mount(\"/content/drive\", force_remount=True).\n"
     ]
    }
   ],
   "source": [
    "from google.colab import drive\n",
    "drive.mount('/content/drive')"
   ]
  },
  {
   "cell_type": "markdown",
   "metadata": {
    "id": "63RSEB0FjCNY"
   },
   "source": [
    "### Cargar datos"
   ]
  },
  {
   "cell_type": "markdown",
   "metadata": {
    "id": "xUkpWk5EjCNZ"
   },
   "source": [
    "Se procede a cargar los datos"
   ]
  },
  {
   "cell_type": "code",
   "execution_count": 1249,
   "metadata": {
    "id": "1zpGCsqQjCNa"
   },
   "outputs": [],
   "source": [
    "# Carga el archivo de datos en un DataFrame\n",
    "try:\n",
    "  autos = pd.read_csv('/datasets/vehicles_us.csv')\n",
    "except:\n",
    "  autos = pd.read_csv('/content/drive/MyDrive/practicum/Sprint 3/vehicles_us (1).csv')\n"
   ]
  },
  {
   "cell_type": "markdown",
   "metadata": {
    "id": "_K3A97MdjCNa"
   },
   "source": [
    "### Explorar datos iniciales"
   ]
  },
  {
   "cell_type": "markdown",
   "metadata": {
    "id": "ECMWaAC2jCNc"
   },
   "source": [
    "El dataset contiene los siguientes campos:\n",
    "- `price`\n",
    "- `model_year`\n",
    "- `model`\n",
    "- `condition`\n",
    "- `cylinders`\n",
    "- `fuel` — gasolina, diesel, etc.\n",
    "- `odometer` — el millaje del vehículo cuando el anuncio fue publicado\n",
    "- `transmission`\n",
    "- `paint_color`\n",
    "- `is_4wd` — si el vehículo tiene tracción a las 4 ruedas (tipo Booleano)\n",
    "- `date_posted` — la fecha en la que el anuncio fue publicado\n",
    "- `days_listed` — desde la publicación hasta que se elimina\n",
    "\n",
    "Primeramente para estudiar los datos procedemos a mostrar las 10 primeras filas del DataFrame."
   ]
  },
  {
   "cell_type": "code",
   "execution_count": 1250,
   "metadata": {
    "colab": {
     "base_uri": "https://localhost:8080/",
     "height": 363
    },
    "id": "UHMSyrsxDU5E",
    "outputId": "5b6f0b8c-7444-4845-a2ed-6b6e3d1686da"
   },
   "outputs": [
    {
     "data": {
      "text/html": [
       "\n",
       "  <div id=\"df-c8eb551b-c987-40ed-8bf7-9534f8208bda\">\n",
       "    <div class=\"colab-df-container\">\n",
       "      <div>\n",
       "<style scoped>\n",
       "    .dataframe tbody tr th:only-of-type {\n",
       "        vertical-align: middle;\n",
       "    }\n",
       "\n",
       "    .dataframe tbody tr th {\n",
       "        vertical-align: top;\n",
       "    }\n",
       "\n",
       "    .dataframe thead th {\n",
       "        text-align: right;\n",
       "    }\n",
       "</style>\n",
       "<table border=\"1\" class=\"dataframe\">\n",
       "  <thead>\n",
       "    <tr style=\"text-align: right;\">\n",
       "      <th></th>\n",
       "      <th>price</th>\n",
       "      <th>model_year</th>\n",
       "      <th>model</th>\n",
       "      <th>condition</th>\n",
       "      <th>cylinders</th>\n",
       "      <th>fuel</th>\n",
       "      <th>odometer</th>\n",
       "      <th>transmission</th>\n",
       "      <th>type</th>\n",
       "      <th>paint_color</th>\n",
       "      <th>is_4wd</th>\n",
       "      <th>date_posted</th>\n",
       "      <th>days_listed</th>\n",
       "    </tr>\n",
       "  </thead>\n",
       "  <tbody>\n",
       "    <tr>\n",
       "      <th>0</th>\n",
       "      <td>9400</td>\n",
       "      <td>2011.0</td>\n",
       "      <td>bmw x5</td>\n",
       "      <td>good</td>\n",
       "      <td>6.0</td>\n",
       "      <td>gas</td>\n",
       "      <td>145000.0</td>\n",
       "      <td>automatic</td>\n",
       "      <td>SUV</td>\n",
       "      <td>NaN</td>\n",
       "      <td>1.0</td>\n",
       "      <td>2018-06-23</td>\n",
       "      <td>19</td>\n",
       "    </tr>\n",
       "    <tr>\n",
       "      <th>1</th>\n",
       "      <td>25500</td>\n",
       "      <td>NaN</td>\n",
       "      <td>ford f-150</td>\n",
       "      <td>good</td>\n",
       "      <td>6.0</td>\n",
       "      <td>gas</td>\n",
       "      <td>88705.0</td>\n",
       "      <td>automatic</td>\n",
       "      <td>pickup</td>\n",
       "      <td>white</td>\n",
       "      <td>1.0</td>\n",
       "      <td>2018-10-19</td>\n",
       "      <td>50</td>\n",
       "    </tr>\n",
       "    <tr>\n",
       "      <th>2</th>\n",
       "      <td>5500</td>\n",
       "      <td>2013.0</td>\n",
       "      <td>hyundai sonata</td>\n",
       "      <td>like new</td>\n",
       "      <td>4.0</td>\n",
       "      <td>gas</td>\n",
       "      <td>110000.0</td>\n",
       "      <td>automatic</td>\n",
       "      <td>sedan</td>\n",
       "      <td>red</td>\n",
       "      <td>NaN</td>\n",
       "      <td>2019-02-07</td>\n",
       "      <td>79</td>\n",
       "    </tr>\n",
       "    <tr>\n",
       "      <th>3</th>\n",
       "      <td>1500</td>\n",
       "      <td>2003.0</td>\n",
       "      <td>ford f-150</td>\n",
       "      <td>fair</td>\n",
       "      <td>8.0</td>\n",
       "      <td>gas</td>\n",
       "      <td>NaN</td>\n",
       "      <td>automatic</td>\n",
       "      <td>pickup</td>\n",
       "      <td>NaN</td>\n",
       "      <td>NaN</td>\n",
       "      <td>2019-03-22</td>\n",
       "      <td>9</td>\n",
       "    </tr>\n",
       "    <tr>\n",
       "      <th>4</th>\n",
       "      <td>14900</td>\n",
       "      <td>2017.0</td>\n",
       "      <td>chrysler 200</td>\n",
       "      <td>excellent</td>\n",
       "      <td>4.0</td>\n",
       "      <td>gas</td>\n",
       "      <td>80903.0</td>\n",
       "      <td>automatic</td>\n",
       "      <td>sedan</td>\n",
       "      <td>black</td>\n",
       "      <td>NaN</td>\n",
       "      <td>2019-04-02</td>\n",
       "      <td>28</td>\n",
       "    </tr>\n",
       "    <tr>\n",
       "      <th>5</th>\n",
       "      <td>14990</td>\n",
       "      <td>2014.0</td>\n",
       "      <td>chrysler 300</td>\n",
       "      <td>excellent</td>\n",
       "      <td>6.0</td>\n",
       "      <td>gas</td>\n",
       "      <td>57954.0</td>\n",
       "      <td>automatic</td>\n",
       "      <td>sedan</td>\n",
       "      <td>black</td>\n",
       "      <td>1.0</td>\n",
       "      <td>2018-06-20</td>\n",
       "      <td>15</td>\n",
       "    </tr>\n",
       "    <tr>\n",
       "      <th>6</th>\n",
       "      <td>12990</td>\n",
       "      <td>2015.0</td>\n",
       "      <td>toyota camry</td>\n",
       "      <td>excellent</td>\n",
       "      <td>4.0</td>\n",
       "      <td>gas</td>\n",
       "      <td>79212.0</td>\n",
       "      <td>automatic</td>\n",
       "      <td>sedan</td>\n",
       "      <td>white</td>\n",
       "      <td>NaN</td>\n",
       "      <td>2018-12-27</td>\n",
       "      <td>73</td>\n",
       "    </tr>\n",
       "    <tr>\n",
       "      <th>7</th>\n",
       "      <td>15990</td>\n",
       "      <td>2013.0</td>\n",
       "      <td>honda pilot</td>\n",
       "      <td>excellent</td>\n",
       "      <td>6.0</td>\n",
       "      <td>gas</td>\n",
       "      <td>109473.0</td>\n",
       "      <td>automatic</td>\n",
       "      <td>SUV</td>\n",
       "      <td>black</td>\n",
       "      <td>1.0</td>\n",
       "      <td>2019-01-07</td>\n",
       "      <td>68</td>\n",
       "    </tr>\n",
       "    <tr>\n",
       "      <th>8</th>\n",
       "      <td>11500</td>\n",
       "      <td>2012.0</td>\n",
       "      <td>kia sorento</td>\n",
       "      <td>excellent</td>\n",
       "      <td>4.0</td>\n",
       "      <td>gas</td>\n",
       "      <td>104174.0</td>\n",
       "      <td>automatic</td>\n",
       "      <td>SUV</td>\n",
       "      <td>NaN</td>\n",
       "      <td>1.0</td>\n",
       "      <td>2018-07-16</td>\n",
       "      <td>19</td>\n",
       "    </tr>\n",
       "    <tr>\n",
       "      <th>9</th>\n",
       "      <td>9200</td>\n",
       "      <td>2008.0</td>\n",
       "      <td>honda pilot</td>\n",
       "      <td>excellent</td>\n",
       "      <td>NaN</td>\n",
       "      <td>gas</td>\n",
       "      <td>147191.0</td>\n",
       "      <td>automatic</td>\n",
       "      <td>SUV</td>\n",
       "      <td>blue</td>\n",
       "      <td>1.0</td>\n",
       "      <td>2019-02-15</td>\n",
       "      <td>17</td>\n",
       "    </tr>\n",
       "  </tbody>\n",
       "</table>\n",
       "</div>\n",
       "      <button class=\"colab-df-convert\" onclick=\"convertToInteractive('df-c8eb551b-c987-40ed-8bf7-9534f8208bda')\"\n",
       "              title=\"Convert this dataframe to an interactive table.\"\n",
       "              style=\"display:none;\">\n",
       "        \n",
       "  <svg xmlns=\"http://www.w3.org/2000/svg\" height=\"24px\"viewBox=\"0 0 24 24\"\n",
       "       width=\"24px\">\n",
       "    <path d=\"M0 0h24v24H0V0z\" fill=\"none\"/>\n",
       "    <path d=\"M18.56 5.44l.94 2.06.94-2.06 2.06-.94-2.06-.94-.94-2.06-.94 2.06-2.06.94zm-11 1L8.5 8.5l.94-2.06 2.06-.94-2.06-.94L8.5 2.5l-.94 2.06-2.06.94zm10 10l.94 2.06.94-2.06 2.06-.94-2.06-.94-.94-2.06-.94 2.06-2.06.94z\"/><path d=\"M17.41 7.96l-1.37-1.37c-.4-.4-.92-.59-1.43-.59-.52 0-1.04.2-1.43.59L10.3 9.45l-7.72 7.72c-.78.78-.78 2.05 0 2.83L4 21.41c.39.39.9.59 1.41.59.51 0 1.02-.2 1.41-.59l7.78-7.78 2.81-2.81c.8-.78.8-2.07 0-2.86zM5.41 20L4 18.59l7.72-7.72 1.47 1.35L5.41 20z\"/>\n",
       "  </svg>\n",
       "      </button>\n",
       "      \n",
       "  <style>\n",
       "    .colab-df-container {\n",
       "      display:flex;\n",
       "      flex-wrap:wrap;\n",
       "      gap: 12px;\n",
       "    }\n",
       "\n",
       "    .colab-df-convert {\n",
       "      background-color: #E8F0FE;\n",
       "      border: none;\n",
       "      border-radius: 50%;\n",
       "      cursor: pointer;\n",
       "      display: none;\n",
       "      fill: #1967D2;\n",
       "      height: 32px;\n",
       "      padding: 0 0 0 0;\n",
       "      width: 32px;\n",
       "    }\n",
       "\n",
       "    .colab-df-convert:hover {\n",
       "      background-color: #E2EBFA;\n",
       "      box-shadow: 0px 1px 2px rgba(60, 64, 67, 0.3), 0px 1px 3px 1px rgba(60, 64, 67, 0.15);\n",
       "      fill: #174EA6;\n",
       "    }\n",
       "\n",
       "    [theme=dark] .colab-df-convert {\n",
       "      background-color: #3B4455;\n",
       "      fill: #D2E3FC;\n",
       "    }\n",
       "\n",
       "    [theme=dark] .colab-df-convert:hover {\n",
       "      background-color: #434B5C;\n",
       "      box-shadow: 0px 1px 3px 1px rgba(0, 0, 0, 0.15);\n",
       "      filter: drop-shadow(0px 1px 2px rgba(0, 0, 0, 0.3));\n",
       "      fill: #FFFFFF;\n",
       "    }\n",
       "  </style>\n",
       "\n",
       "      <script>\n",
       "        const buttonEl =\n",
       "          document.querySelector('#df-c8eb551b-c987-40ed-8bf7-9534f8208bda button.colab-df-convert');\n",
       "        buttonEl.style.display =\n",
       "          google.colab.kernel.accessAllowed ? 'block' : 'none';\n",
       "\n",
       "        async function convertToInteractive(key) {\n",
       "          const element = document.querySelector('#df-c8eb551b-c987-40ed-8bf7-9534f8208bda');\n",
       "          const dataTable =\n",
       "            await google.colab.kernel.invokeFunction('convertToInteractive',\n",
       "                                                     [key], {});\n",
       "          if (!dataTable) return;\n",
       "\n",
       "          const docLinkHtml = 'Like what you see? Visit the ' +\n",
       "            '<a target=\"_blank\" href=https://colab.research.google.com/notebooks/data_table.ipynb>data table notebook</a>'\n",
       "            + ' to learn more about interactive tables.';\n",
       "          element.innerHTML = '';\n",
       "          dataTable['output_type'] = 'display_data';\n",
       "          await google.colab.output.renderOutput(dataTable, element);\n",
       "          const docLink = document.createElement('div');\n",
       "          docLink.innerHTML = docLinkHtml;\n",
       "          element.appendChild(docLink);\n",
       "        }\n",
       "      </script>\n",
       "    </div>\n",
       "  </div>\n",
       "  "
      ],
      "text/plain": [
       "   price  model_year           model  condition  cylinders fuel  odometer  \\\n",
       "0   9400      2011.0          bmw x5       good        6.0  gas  145000.0   \n",
       "1  25500         NaN      ford f-150       good        6.0  gas   88705.0   \n",
       "2   5500      2013.0  hyundai sonata   like new        4.0  gas  110000.0   \n",
       "3   1500      2003.0      ford f-150       fair        8.0  gas       NaN   \n",
       "4  14900      2017.0    chrysler 200  excellent        4.0  gas   80903.0   \n",
       "5  14990      2014.0    chrysler 300  excellent        6.0  gas   57954.0   \n",
       "6  12990      2015.0    toyota camry  excellent        4.0  gas   79212.0   \n",
       "7  15990      2013.0     honda pilot  excellent        6.0  gas  109473.0   \n",
       "8  11500      2012.0     kia sorento  excellent        4.0  gas  104174.0   \n",
       "9   9200      2008.0     honda pilot  excellent        NaN  gas  147191.0   \n",
       "\n",
       "  transmission    type paint_color  is_4wd date_posted  days_listed  \n",
       "0    automatic     SUV         NaN     1.0  2018-06-23           19  \n",
       "1    automatic  pickup       white     1.0  2018-10-19           50  \n",
       "2    automatic   sedan         red     NaN  2019-02-07           79  \n",
       "3    automatic  pickup         NaN     NaN  2019-03-22            9  \n",
       "4    automatic   sedan       black     NaN  2019-04-02           28  \n",
       "5    automatic   sedan       black     1.0  2018-06-20           15  \n",
       "6    automatic   sedan       white     NaN  2018-12-27           73  \n",
       "7    automatic     SUV       black     1.0  2019-01-07           68  \n",
       "8    automatic     SUV         NaN     1.0  2018-07-16           19  \n",
       "9    automatic     SUV        blue     1.0  2019-02-15           17  "
      ]
     },
     "execution_count": 1250,
     "metadata": {},
     "output_type": "execute_result"
    }
   ],
   "source": [
    "# imprimiendo la información general/resumida sobre el DataFrame\n",
    "autos.head(10)"
   ]
  },
  {
   "cell_type": "markdown",
   "metadata": {
    "id": "8IwW1MtBEF-H"
   },
   "source": [
    "Para estudiar el comportamiento de los datos. y determinar valores ausentes y el tipo de dato apicamos la siguiente instrucción:"
   ]
  },
  {
   "cell_type": "code",
   "execution_count": 1251,
   "metadata": {
    "colab": {
     "base_uri": "https://localhost:8080/"
    },
    "id": "H_fwP-NbjCNd",
    "outputId": "1d84d0bd-ba01-4f5f-868e-f596c8fa61c1"
   },
   "outputs": [
    {
     "name": "stdout",
     "output_type": "stream",
     "text": [
      "<class 'pandas.core.frame.DataFrame'>\n",
      "RangeIndex: 51525 entries, 0 to 51524\n",
      "Data columns (total 13 columns):\n",
      " #   Column        Non-Null Count  Dtype  \n",
      "---  ------        --------------  -----  \n",
      " 0   price         51525 non-null  int64  \n",
      " 1   model_year    47906 non-null  float64\n",
      " 2   model         51525 non-null  object \n",
      " 3   condition     51525 non-null  object \n",
      " 4   cylinders     46265 non-null  float64\n",
      " 5   fuel          51525 non-null  object \n",
      " 6   odometer      43633 non-null  float64\n",
      " 7   transmission  51525 non-null  object \n",
      " 8   type          51525 non-null  object \n",
      " 9   paint_color   42258 non-null  object \n",
      " 10  is_4wd        25572 non-null  float64\n",
      " 11  date_posted   51525 non-null  object \n",
      " 12  days_listed   51525 non-null  int64  \n",
      "dtypes: float64(4), int64(2), object(7)\n",
      "memory usage: 5.1+ MB\n"
     ]
    }
   ],
   "source": [
    "autos.info()\n"
   ]
  },
  {
   "cell_type": "markdown",
   "metadata": {
    "id": "_k6CFY6xjCNf"
   },
   "source": [
    "Se puede observar que las columnas `model_year`, `cylinders`, `odometer`, `paint_color` y `is_4wd` cuentan con valores ausentes. Así mismo observamos que los tipo de datos son `enteros`, `coma flotante` y `objeto`. Sin embargo si leemos la referencia de las columnas vemos que también debería existir de tipo `DateTime`.\n",
    " \n",
    "\n",
    "Hay que analizar la caracteristica de la tracción en las 4 ruedas, ya que, muy probablemente se tomaron los valores que deberían ser `0` como `NAN` por lo que en realidad allí no hay valores nulos o estos pueden en su defecto sustituitse con `0`. Y esta es precisamente la columna con mayor catidad de valores asuentes"
   ]
  },
  {
   "cell_type": "markdown",
   "metadata": {
    "id": "_tWaSe5oHt5w"
   },
   "source": [
    "Para facilitar el trabajo posteriomente, Se procederá a ver los valores únicos de las columnas que presuntamente son categóricas."
   ]
  },
  {
   "cell_type": "code",
   "execution_count": 1252,
   "metadata": {
    "colab": {
     "base_uri": "https://localhost:8080/"
    },
    "id": "1SBlQ6ACH2hH",
    "outputId": "f932e02a-1afd-4e64-fcc8-391dead6e0d4"
   },
   "outputs": [
    {
     "data": {
      "text/plain": [
       "array([1908., 1929., 1936., 1948., 1949., 1954., 1955., 1958., 1960.,\n",
       "       1961., 1962., 1963., 1964., 1965., 1966., 1967., 1968., 1969.,\n",
       "       1970., 1971., 1972., 1973., 1974., 1975., 1976., 1977., 1978.,\n",
       "       1979., 1980., 1981., 1982., 1983., 1984., 1985., 1986., 1987.,\n",
       "       1988., 1989., 1990., 1991., 1992., 1993., 1994., 1995., 1996.,\n",
       "       1997., 1998., 1999., 2000., 2001., 2002., 2003., 2004., 2005.,\n",
       "       2006., 2007., 2008., 2009., 2010., 2011., 2012., 2013., 2014.,\n",
       "       2015., 2016., 2017., 2018., 2019.,   nan])"
      ]
     },
     "execution_count": 1252,
     "metadata": {},
     "output_type": "execute_result"
    }
   ],
   "source": [
    "autos['model_year'].sort_values().unique()"
   ]
  },
  {
   "cell_type": "code",
   "execution_count": 1253,
   "metadata": {
    "colab": {
     "base_uri": "https://localhost:8080/"
    },
    "id": "5BOy4GYfIDRU",
    "outputId": "d21ac580-f935-46db-b00f-ac3c4e134711"
   },
   "outputs": [
    {
     "data": {
      "text/plain": [
       "array(['acura tl', 'bmw x5', 'buick enclave', 'cadillac escalade',\n",
       "       'chevrolet camaro', 'chevrolet camaro lt coupe 2d',\n",
       "       'chevrolet colorado', 'chevrolet corvette', 'chevrolet cruze',\n",
       "       'chevrolet equinox', 'chevrolet impala', 'chevrolet malibu',\n",
       "       'chevrolet silverado', 'chevrolet silverado 1500',\n",
       "       'chevrolet silverado 1500 crew', 'chevrolet silverado 2500hd',\n",
       "       'chevrolet silverado 3500hd', 'chevrolet suburban',\n",
       "       'chevrolet tahoe', 'chevrolet trailblazer', 'chevrolet traverse',\n",
       "       'chrysler 200', 'chrysler 300', 'chrysler town & country',\n",
       "       'dodge charger', 'dodge dakota', 'dodge grand caravan',\n",
       "       'ford econoline', 'ford edge', 'ford escape', 'ford expedition',\n",
       "       'ford explorer', 'ford f-150', 'ford f-250', 'ford f-250 sd',\n",
       "       'ford f-250 super duty', 'ford f-350 sd', 'ford f150',\n",
       "       'ford f150 supercrew cab xlt', 'ford f250', 'ford f250 super duty',\n",
       "       'ford f350', 'ford f350 super duty', 'ford focus', 'ford focus se',\n",
       "       'ford fusion', 'ford fusion se', 'ford mustang',\n",
       "       'ford mustang gt coupe 2d', 'ford ranger', 'ford taurus',\n",
       "       'gmc acadia', 'gmc sierra', 'gmc sierra 1500', 'gmc sierra 2500hd',\n",
       "       'gmc yukon', 'honda accord', 'honda civic', 'honda civic lx',\n",
       "       'honda cr-v', 'honda odyssey', 'honda pilot', 'hyundai elantra',\n",
       "       'hyundai santa fe', 'hyundai sonata', 'jeep cherokee',\n",
       "       'jeep grand cherokee', 'jeep grand cherokee laredo',\n",
       "       'jeep liberty', 'jeep wrangler', 'jeep wrangler unlimited',\n",
       "       'kia sorento', 'kia soul', 'mercedes-benz benze sprinter 2500',\n",
       "       'nissan altima', 'nissan frontier', 'nissan frontier crew cab sv',\n",
       "       'nissan maxima', 'nissan murano', 'nissan rogue', 'nissan sentra',\n",
       "       'nissan versa', 'ram 1500', 'ram 2500', 'ram 3500',\n",
       "       'subaru forester', 'subaru impreza', 'subaru outback',\n",
       "       'toyota 4runner', 'toyota camry', 'toyota camry le',\n",
       "       'toyota corolla', 'toyota highlander', 'toyota prius',\n",
       "       'toyota rav4', 'toyota sienna', 'toyota tacoma', 'toyota tundra',\n",
       "       'volkswagen jetta', 'volkswagen passat'], dtype=object)"
      ]
     },
     "execution_count": 1253,
     "metadata": {},
     "output_type": "execute_result"
    }
   ],
   "source": [
    "autos['model'].sort_values().unique()\n"
   ]
  },
  {
   "cell_type": "code",
   "execution_count": 1254,
   "metadata": {
    "colab": {
     "base_uri": "https://localhost:8080/"
    },
    "id": "jiiLJt1WIbg8",
    "outputId": "f7fafc9d-518e-4e39-a326-703d44cbeb1a"
   },
   "outputs": [
    {
     "data": {
      "text/plain": [
       "array(['excellent', 'fair', 'good', 'like new', 'new', 'salvage'],\n",
       "      dtype=object)"
      ]
     },
     "execution_count": 1254,
     "metadata": {},
     "output_type": "execute_result"
    }
   ],
   "source": [
    "autos['condition'].sort_values().unique()\n"
   ]
  },
  {
   "cell_type": "code",
   "execution_count": 1255,
   "metadata": {
    "colab": {
     "base_uri": "https://localhost:8080/"
    },
    "id": "VwF8kEU_IoIw",
    "outputId": "a1b06d33-5ce9-42c4-dbb8-ae3c0583e5c2"
   },
   "outputs": [
    {
     "data": {
      "text/plain": [
       "array([ 3.,  4.,  5.,  6.,  8., 10., 12., nan])"
      ]
     },
     "execution_count": 1255,
     "metadata": {},
     "output_type": "execute_result"
    }
   ],
   "source": [
    "autos['cylinders'].sort_values().unique()\n"
   ]
  },
  {
   "cell_type": "code",
   "execution_count": 1256,
   "metadata": {
    "colab": {
     "base_uri": "https://localhost:8080/"
    },
    "id": "__RmPnZ0I6wM",
    "outputId": "25191f02-dfad-437d-9a1f-d49d0ea9e67e"
   },
   "outputs": [
    {
     "data": {
      "text/plain": [
       "array(['diesel', 'electric', 'gas', 'hybrid', 'other'], dtype=object)"
      ]
     },
     "execution_count": 1256,
     "metadata": {},
     "output_type": "execute_result"
    }
   ],
   "source": [
    "autos['fuel'].sort_values().unique()\n"
   ]
  },
  {
   "cell_type": "code",
   "execution_count": 1257,
   "metadata": {
    "colab": {
     "base_uri": "https://localhost:8080/"
    },
    "id": "LKSXYJY9I7lW",
    "outputId": "06594fc0-13af-4d17-dccf-76564d5a6920"
   },
   "outputs": [
    {
     "data": {
      "text/plain": [
       "array(['automatic', 'manual', 'other'], dtype=object)"
      ]
     },
     "execution_count": 1257,
     "metadata": {},
     "output_type": "execute_result"
    }
   ],
   "source": [
    "autos['transmission'].sort_values().unique()\n"
   ]
  },
  {
   "cell_type": "code",
   "execution_count": 1258,
   "metadata": {
    "colab": {
     "base_uri": "https://localhost:8080/"
    },
    "id": "pWXRlauZI7SG",
    "outputId": "3916fb4e-bf23-408f-cb7d-052bef6014c9"
   },
   "outputs": [
    {
     "data": {
      "text/plain": [
       "array(['SUV', 'bus', 'convertible', 'coupe', 'hatchback', 'mini-van',\n",
       "       'offroad', 'other', 'pickup', 'sedan', 'truck', 'van', 'wagon'],\n",
       "      dtype=object)"
      ]
     },
     "execution_count": 1258,
     "metadata": {},
     "output_type": "execute_result"
    }
   ],
   "source": [
    "autos['type'].sort_values().unique()\n"
   ]
  },
  {
   "cell_type": "code",
   "execution_count": 1259,
   "metadata": {
    "colab": {
     "base_uri": "https://localhost:8080/"
    },
    "id": "2weQYtChJWjg",
    "outputId": "484c557c-33ea-48ab-c19a-2e38a1175da6"
   },
   "outputs": [
    {
     "data": {
      "text/plain": [
       "array(['black', 'blue', 'brown', 'custom', 'green', 'grey', 'orange',\n",
       "       'purple', 'red', 'silver', 'white', 'yellow', nan], dtype=object)"
      ]
     },
     "execution_count": 1259,
     "metadata": {},
     "output_type": "execute_result"
    }
   ],
   "source": [
    "autos['paint_color'].sort_values().unique()\n"
   ]
  },
  {
   "cell_type": "code",
   "execution_count": 1260,
   "metadata": {
    "colab": {
     "base_uri": "https://localhost:8080/"
    },
    "id": "m6iHuPtfJYS0",
    "outputId": "81032fa4-d3c7-4051-ce65-9e30b6d555be"
   },
   "outputs": [
    {
     "data": {
      "text/plain": [
       "array([ 1., nan])"
      ]
     },
     "execution_count": 1260,
     "metadata": {},
     "output_type": "execute_result"
    }
   ],
   "source": [
    "autos['is_4wd'].sort_values().unique()\n"
   ]
  },
  {
   "cell_type": "markdown",
   "metadata": {
    "id": "cWrT8tq4jCNi"
   },
   "source": [
    "### Conclusiones y siguientes pasos\n",
    "\n",
    "Primeramente se puede concluir, que en diversas columnas el tipo de dato está errado, esto debido a que muchos son tiplo coma flotante, cuando deberián ser enteros. No puedes tener 1.5 tracción en 4ruedas, o tienes o no de igual forma que no existen 4.3 cilindros, siempre son números enteros.\n",
    "\n",
    "Del mismo modo, las columnas `date_posted` y `days_listed` deberían ser de tipo `DateType`.\n",
    "\n",
    "Así mismo existen valores ausentes que pueden ser sustituidos por otros mas racionales o lógicos como en el caso `is_4wd` donde NAN es calramente un 0 que significa Falso, al ser un booleano.\n",
    "\n",
    "A continuación, se realizará el debido cambio de estas variables, y se estudiará la forma optima para sustituir los valores ausentes.\n",
    "\n",
    "También se sustituirán los duplicados implicitos y explicitos, para poder realizar el correcto análisis de los datos."
   ]
  },
  {
   "cell_type": "markdown",
   "metadata": {
    "id": "WO4Sep-PjCNj"
   },
   "source": [
    "## Tratar los valores ausentes "
   ]
  },
  {
   "cell_type": "markdown",
   "metadata": {
    "id": "_ILMUVMYc8i4"
   },
   "source": [
    "Primeramente borramos todos los duplicados"
   ]
  },
  {
   "cell_type": "code",
   "execution_count": 1261,
   "metadata": {
    "id": "TwOcgNTocgWw"
   },
   "outputs": [],
   "source": [
    "autos = autos.drop_duplicates().reindex()"
   ]
  },
  {
   "cell_type": "markdown",
   "metadata": {
    "id": "yfnlhhWLjCNk"
   },
   "source": [
    "Las columnas con valores ausentes son las siguientes: `model_year`, `cylinders`, `odometer`, `paint_color` y `is_4wd`, como ya se había mencionado con anterioridad. Primeramente se estudiarán por separado, para luego determinar que hará con ellas en la siguiente sección."
   ]
  },
  {
   "cell_type": "markdown",
   "metadata": {
    "id": "w1zHHk_QR-18"
   },
   "source": [
    "Comenzaremos por `is_4wd` donde sabemos de natemanos que los valores NAN son en realidad 0 que simbolizan un valor de Falso."
   ]
  },
  {
   "cell_type": "code",
   "execution_count": 1262,
   "metadata": {
    "id": "mz9wMfkIjCNk"
   },
   "outputs": [],
   "source": [
    "autos['is_4wd'] = autos['is_4wd'].fillna(0)"
   ]
  },
  {
   "cell_type": "markdown",
   "metadata": {
    "id": "sgbNQjsAU2lo"
   },
   "source": [
    "Debido a las caracteríasticas de los valores que faltan, al ser data tecnica, no se pueden rellenar los valores ausentes de `model_year`, `cylinders` o de `paint_color` ya que estos valores dependen de multiples otros, que al no conocer, no se puede dar una respuesta concreta."
   ]
  },
  {
   "cell_type": "markdown",
   "metadata": {
    "id": "ClRimjfSZ0T5"
   },
   "source": [
    "Se procede entonces a estudiar `odometer` ya que en teoría podriamos sustituir los valores por la media o la mediana dependiendo de como se distribuyan los mismos."
   ]
  },
  {
   "cell_type": "code",
   "execution_count": 1263,
   "metadata": {
    "colab": {
     "base_uri": "https://localhost:8080/"
    },
    "id": "g4WfMdf8b4kT",
    "outputId": "9858192e-7f57-40e5-9b40-aff4d9c28fa7"
   },
   "outputs": [
    {
     "data": {
      "text/plain": [
       "count     43633.000000\n",
       "mean     115553.461738\n",
       "std       65094.611341\n",
       "min           0.000000\n",
       "25%       70000.000000\n",
       "50%      113000.000000\n",
       "75%      155000.000000\n",
       "max      990000.000000\n",
       "Name: odometer, dtype: float64"
      ]
     },
     "execution_count": 1263,
     "metadata": {},
     "output_type": "execute_result"
    }
   ],
   "source": [
    "autos['odometer'].describe()"
   ]
  },
  {
   "cell_type": "markdown",
   "metadata": {
    "id": "GH8oRjUqcd1J"
   },
   "source": [
    "Vemos que no existen valores demasiado dispersos, sin embargo, un auto nuevo, no puede tener el mismo kilometraje que uo viejo, aunque eso es algo relativo, en la mayoría de los casos esto se cumplirá es por ello que se saca la media del kilometraje recorrido por los autos tomando en cuenta su año de salida al mercado en grupos que se incrementan en 10 años, y sustituimos por esa media, los ausentes. "
   ]
  },
  {
   "cell_type": "code",
   "execution_count": 1264,
   "metadata": {
    "colab": {
     "base_uri": "https://localhost:8080/"
    },
    "id": "wP1ZZwGpcHsR",
    "outputId": "bbdb3c36-5da4-4f33-d095-76ee2725d460"
   },
   "outputs": [
    {
     "name": "stdout",
     "output_type": "stream",
     "text": [
      "<class 'pandas.core.frame.DataFrame'>\n",
      "Int64Index: 51525 entries, 0 to 51524\n",
      "Data columns (total 13 columns):\n",
      " #   Column        Non-Null Count  Dtype  \n",
      "---  ------        --------------  -----  \n",
      " 0   price         51525 non-null  int64  \n",
      " 1   model_year    47906 non-null  float64\n",
      " 2   model         51525 non-null  object \n",
      " 3   condition     51525 non-null  object \n",
      " 4   cylinders     46265 non-null  float64\n",
      " 5   fuel          51525 non-null  object \n",
      " 6   odometer      43633 non-null  float64\n",
      " 7   transmission  51525 non-null  object \n",
      " 8   type          51525 non-null  object \n",
      " 9   paint_color   42258 non-null  object \n",
      " 10  is_4wd        51525 non-null  float64\n",
      " 11  date_posted   51525 non-null  object \n",
      " 12  days_listed   51525 non-null  int64  \n",
      "dtypes: float64(4), int64(2), object(7)\n",
      "memory usage: 5.5+ MB\n"
     ]
    },
    {
     "name": "stderr",
     "output_type": "stream",
     "text": [
      "/usr/local/lib/python3.7/dist-packages/ipykernel_launcher.py:3: SettingWithCopyWarning: \n",
      "A value is trying to be set on a copy of a slice from a DataFrame.\n",
      "Try using .loc[row_indexer,col_indexer] = value instead\n",
      "\n",
      "See the caveats in the documentation: https://pandas.pydata.org/pandas-docs/stable/user_guide/indexing.html#returning-a-view-versus-a-copy\n",
      "  This is separate from the ipykernel package so we can avoid doing imports until\n"
     ]
    }
   ],
   "source": [
    "year = autos['model_year'].min()\n",
    "while year < 2030:\n",
    "  autos[autos['model_year']<= year]['odometer'] = autos[autos['model_year']<= year]['odometer'].fillna(autos[autos['model_year']<= year]['odometer'].mean())\n",
    "  year += 10\n",
    "\n",
    "autos.info()"
   ]
  },
  {
   "cell_type": "markdown",
   "metadata": {
    "id": "kb1feCFYqFhd"
   },
   "source": [
    "Por último sustituimos el año de los modelos ausentes por la media de todo el conjunto de datos."
   ]
  },
  {
   "cell_type": "code",
   "execution_count": 1265,
   "metadata": {
    "id": "_jgmmMNjkptX"
   },
   "outputs": [],
   "source": [
    "autos['odometer'] = autos['odometer'].fillna(autos['odometer'].mean())"
   ]
  },
  {
   "cell_type": "markdown",
   "metadata": {
    "id": "J7MQr-SIjCNl"
   },
   "source": [
    "## Corregir los tipos de datos"
   ]
  },
  {
   "cell_type": "markdown",
   "metadata": {
    "id": "dfeKxJnVgCFq"
   },
   "source": [
    "Ahora vamos a corregir los tipos de datos:\n",
    "\n",
    "- `price` ----------------------> No cambia\n",
    "- `model_year` -------------> Convertir a `DateType`\n",
    "- `model` ----------------------> No cambia\n",
    "- `condition` ---------------> No cambia\n",
    "- `cylinders` ---------------> Convertir a `int`\n",
    "- `fuel` ------------------------> No cambia\n",
    "- `odometer` -----------------> No cambia\n",
    "- `transmission` ----------> No cambia\n",
    "- `paint_color` ------------> No cambia\n",
    "- `is_4wd` ---------------------> Convertir a `int`\n",
    "- `date_posted` ------------> Convertir a `DateType`\n",
    "- `days_listed` ------------> No cambia"
   ]
  },
  {
   "cell_type": "code",
   "execution_count": 1266,
   "metadata": {
    "colab": {
     "base_uri": "https://localhost:8080/"
    },
    "id": "ruzLL-EdjCNm",
    "outputId": "175b3e0f-8453-41b2-c590-ee974a577ca0"
   },
   "outputs": [
    {
     "name": "stdout",
     "output_type": "stream",
     "text": [
      "<class 'pandas.core.frame.DataFrame'>\n",
      "Int64Index: 51525 entries, 0 to 51524\n",
      "Data columns (total 13 columns):\n",
      " #   Column        Non-Null Count  Dtype         \n",
      "---  ------        --------------  -----         \n",
      " 0   price         51525 non-null  int64         \n",
      " 1   model_year    47906 non-null  datetime64[ns]\n",
      " 2   model         51525 non-null  object        \n",
      " 3   condition     51525 non-null  object        \n",
      " 4   cylinders     46265 non-null  Int64         \n",
      " 5   fuel          51525 non-null  object        \n",
      " 6   odometer      51525 non-null  float64       \n",
      " 7   transmission  51525 non-null  object        \n",
      " 8   type          51525 non-null  object        \n",
      " 9   paint_color   42258 non-null  object        \n",
      " 10  is_4wd        51525 non-null  int64         \n",
      " 11  date_posted   51525 non-null  datetime64[ns]\n",
      " 12  days_listed   51525 non-null  int64         \n",
      "dtypes: Int64(1), datetime64[ns](2), float64(1), int64(3), object(6)\n",
      "memory usage: 5.6+ MB\n"
     ]
    }
   ],
   "source": [
    "autos['is_4wd'] = autos['is_4wd'].astype(int)\n",
    "autos['model_year'] = pd.to_datetime(autos['model_year'], format = '%Y')\n",
    "\n",
    "autos['cylinders'] = autos['cylinders'].astype('Int64')\n",
    "\n",
    "\n",
    "autos['date_posted'] = pd.to_datetime(autos['date_posted'])\n",
    "autos.info()"
   ]
  },
  {
   "cell_type": "code",
   "execution_count": 1267,
   "metadata": {
    "colab": {
     "base_uri": "https://localhost:8080/",
     "height": 206
    },
    "id": "S5q18baEzNsu",
    "outputId": "4c023313-810d-467b-81bc-2fac26f24a32"
   },
   "outputs": [
    {
     "data": {
      "text/html": [
       "\n",
       "  <div id=\"df-8c2c5a80-c0cd-4465-917e-fcadedd46d6f\">\n",
       "    <div class=\"colab-df-container\">\n",
       "      <div>\n",
       "<style scoped>\n",
       "    .dataframe tbody tr th:only-of-type {\n",
       "        vertical-align: middle;\n",
       "    }\n",
       "\n",
       "    .dataframe tbody tr th {\n",
       "        vertical-align: top;\n",
       "    }\n",
       "\n",
       "    .dataframe thead th {\n",
       "        text-align: right;\n",
       "    }\n",
       "</style>\n",
       "<table border=\"1\" class=\"dataframe\">\n",
       "  <thead>\n",
       "    <tr style=\"text-align: right;\">\n",
       "      <th></th>\n",
       "      <th>price</th>\n",
       "      <th>model_year</th>\n",
       "      <th>model</th>\n",
       "      <th>condition</th>\n",
       "      <th>cylinders</th>\n",
       "      <th>fuel</th>\n",
       "      <th>odometer</th>\n",
       "      <th>transmission</th>\n",
       "      <th>type</th>\n",
       "      <th>paint_color</th>\n",
       "      <th>is_4wd</th>\n",
       "      <th>date_posted</th>\n",
       "      <th>days_listed</th>\n",
       "    </tr>\n",
       "  </thead>\n",
       "  <tbody>\n",
       "    <tr>\n",
       "      <th>0</th>\n",
       "      <td>9400</td>\n",
       "      <td>2011-01-01</td>\n",
       "      <td>bmw x5</td>\n",
       "      <td>good</td>\n",
       "      <td>6</td>\n",
       "      <td>gas</td>\n",
       "      <td>145000.000000</td>\n",
       "      <td>automatic</td>\n",
       "      <td>SUV</td>\n",
       "      <td>NaN</td>\n",
       "      <td>1</td>\n",
       "      <td>2018-06-23</td>\n",
       "      <td>19</td>\n",
       "    </tr>\n",
       "    <tr>\n",
       "      <th>1</th>\n",
       "      <td>25500</td>\n",
       "      <td>NaT</td>\n",
       "      <td>ford f-150</td>\n",
       "      <td>good</td>\n",
       "      <td>6</td>\n",
       "      <td>gas</td>\n",
       "      <td>88705.000000</td>\n",
       "      <td>automatic</td>\n",
       "      <td>pickup</td>\n",
       "      <td>white</td>\n",
       "      <td>1</td>\n",
       "      <td>2018-10-19</td>\n",
       "      <td>50</td>\n",
       "    </tr>\n",
       "    <tr>\n",
       "      <th>2</th>\n",
       "      <td>5500</td>\n",
       "      <td>2013-01-01</td>\n",
       "      <td>hyundai sonata</td>\n",
       "      <td>like new</td>\n",
       "      <td>4</td>\n",
       "      <td>gas</td>\n",
       "      <td>110000.000000</td>\n",
       "      <td>automatic</td>\n",
       "      <td>sedan</td>\n",
       "      <td>red</td>\n",
       "      <td>0</td>\n",
       "      <td>2019-02-07</td>\n",
       "      <td>79</td>\n",
       "    </tr>\n",
       "    <tr>\n",
       "      <th>3</th>\n",
       "      <td>1500</td>\n",
       "      <td>2003-01-01</td>\n",
       "      <td>ford f-150</td>\n",
       "      <td>fair</td>\n",
       "      <td>8</td>\n",
       "      <td>gas</td>\n",
       "      <td>115553.461738</td>\n",
       "      <td>automatic</td>\n",
       "      <td>pickup</td>\n",
       "      <td>NaN</td>\n",
       "      <td>0</td>\n",
       "      <td>2019-03-22</td>\n",
       "      <td>9</td>\n",
       "    </tr>\n",
       "    <tr>\n",
       "      <th>4</th>\n",
       "      <td>14900</td>\n",
       "      <td>2017-01-01</td>\n",
       "      <td>chrysler 200</td>\n",
       "      <td>excellent</td>\n",
       "      <td>4</td>\n",
       "      <td>gas</td>\n",
       "      <td>80903.000000</td>\n",
       "      <td>automatic</td>\n",
       "      <td>sedan</td>\n",
       "      <td>black</td>\n",
       "      <td>0</td>\n",
       "      <td>2019-04-02</td>\n",
       "      <td>28</td>\n",
       "    </tr>\n",
       "  </tbody>\n",
       "</table>\n",
       "</div>\n",
       "      <button class=\"colab-df-convert\" onclick=\"convertToInteractive('df-8c2c5a80-c0cd-4465-917e-fcadedd46d6f')\"\n",
       "              title=\"Convert this dataframe to an interactive table.\"\n",
       "              style=\"display:none;\">\n",
       "        \n",
       "  <svg xmlns=\"http://www.w3.org/2000/svg\" height=\"24px\"viewBox=\"0 0 24 24\"\n",
       "       width=\"24px\">\n",
       "    <path d=\"M0 0h24v24H0V0z\" fill=\"none\"/>\n",
       "    <path d=\"M18.56 5.44l.94 2.06.94-2.06 2.06-.94-2.06-.94-.94-2.06-.94 2.06-2.06.94zm-11 1L8.5 8.5l.94-2.06 2.06-.94-2.06-.94L8.5 2.5l-.94 2.06-2.06.94zm10 10l.94 2.06.94-2.06 2.06-.94-2.06-.94-.94-2.06-.94 2.06-2.06.94z\"/><path d=\"M17.41 7.96l-1.37-1.37c-.4-.4-.92-.59-1.43-.59-.52 0-1.04.2-1.43.59L10.3 9.45l-7.72 7.72c-.78.78-.78 2.05 0 2.83L4 21.41c.39.39.9.59 1.41.59.51 0 1.02-.2 1.41-.59l7.78-7.78 2.81-2.81c.8-.78.8-2.07 0-2.86zM5.41 20L4 18.59l7.72-7.72 1.47 1.35L5.41 20z\"/>\n",
       "  </svg>\n",
       "      </button>\n",
       "      \n",
       "  <style>\n",
       "    .colab-df-container {\n",
       "      display:flex;\n",
       "      flex-wrap:wrap;\n",
       "      gap: 12px;\n",
       "    }\n",
       "\n",
       "    .colab-df-convert {\n",
       "      background-color: #E8F0FE;\n",
       "      border: none;\n",
       "      border-radius: 50%;\n",
       "      cursor: pointer;\n",
       "      display: none;\n",
       "      fill: #1967D2;\n",
       "      height: 32px;\n",
       "      padding: 0 0 0 0;\n",
       "      width: 32px;\n",
       "    }\n",
       "\n",
       "    .colab-df-convert:hover {\n",
       "      background-color: #E2EBFA;\n",
       "      box-shadow: 0px 1px 2px rgba(60, 64, 67, 0.3), 0px 1px 3px 1px rgba(60, 64, 67, 0.15);\n",
       "      fill: #174EA6;\n",
       "    }\n",
       "\n",
       "    [theme=dark] .colab-df-convert {\n",
       "      background-color: #3B4455;\n",
       "      fill: #D2E3FC;\n",
       "    }\n",
       "\n",
       "    [theme=dark] .colab-df-convert:hover {\n",
       "      background-color: #434B5C;\n",
       "      box-shadow: 0px 1px 3px 1px rgba(0, 0, 0, 0.15);\n",
       "      filter: drop-shadow(0px 1px 2px rgba(0, 0, 0, 0.3));\n",
       "      fill: #FFFFFF;\n",
       "    }\n",
       "  </style>\n",
       "\n",
       "      <script>\n",
       "        const buttonEl =\n",
       "          document.querySelector('#df-8c2c5a80-c0cd-4465-917e-fcadedd46d6f button.colab-df-convert');\n",
       "        buttonEl.style.display =\n",
       "          google.colab.kernel.accessAllowed ? 'block' : 'none';\n",
       "\n",
       "        async function convertToInteractive(key) {\n",
       "          const element = document.querySelector('#df-8c2c5a80-c0cd-4465-917e-fcadedd46d6f');\n",
       "          const dataTable =\n",
       "            await google.colab.kernel.invokeFunction('convertToInteractive',\n",
       "                                                     [key], {});\n",
       "          if (!dataTable) return;\n",
       "\n",
       "          const docLinkHtml = 'Like what you see? Visit the ' +\n",
       "            '<a target=\"_blank\" href=https://colab.research.google.com/notebooks/data_table.ipynb>data table notebook</a>'\n",
       "            + ' to learn more about interactive tables.';\n",
       "          element.innerHTML = '';\n",
       "          dataTable['output_type'] = 'display_data';\n",
       "          await google.colab.output.renderOutput(dataTable, element);\n",
       "          const docLink = document.createElement('div');\n",
       "          docLink.innerHTML = docLinkHtml;\n",
       "          element.appendChild(docLink);\n",
       "        }\n",
       "      </script>\n",
       "    </div>\n",
       "  </div>\n",
       "  "
      ],
      "text/plain": [
       "   price model_year           model  condition  cylinders fuel       odometer  \\\n",
       "0   9400 2011-01-01          bmw x5       good          6  gas  145000.000000   \n",
       "1  25500        NaT      ford f-150       good          6  gas   88705.000000   \n",
       "2   5500 2013-01-01  hyundai sonata   like new          4  gas  110000.000000   \n",
       "3   1500 2003-01-01      ford f-150       fair          8  gas  115553.461738   \n",
       "4  14900 2017-01-01    chrysler 200  excellent          4  gas   80903.000000   \n",
       "\n",
       "  transmission    type paint_color  is_4wd date_posted  days_listed  \n",
       "0    automatic     SUV         NaN       1  2018-06-23           19  \n",
       "1    automatic  pickup       white       1  2018-10-19           50  \n",
       "2    automatic   sedan         red       0  2019-02-07           79  \n",
       "3    automatic  pickup         NaN       0  2019-03-22            9  \n",
       "4    automatic   sedan       black       0  2019-04-02           28  "
      ]
     },
     "execution_count": 1267,
     "metadata": {},
     "output_type": "execute_result"
    }
   ],
   "source": [
    "autos.head()"
   ]
  },
  {
   "cell_type": "markdown",
   "metadata": {
    "id": "bCo0KGS0qiW9"
   },
   "source": [
    "Para determinar que proporción de los datos son ausentes. Vamos a calcularlo a continuación ya que si es poca pueden eliminarse."
   ]
  },
  {
   "cell_type": "markdown",
   "metadata": {
    "id": "9qOzBgofsPC7"
   },
   "source": [
    "Porcentaje de datos en la columna `model_year` ausentes:"
   ]
  },
  {
   "cell_type": "code",
   "execution_count": 1268,
   "metadata": {
    "colab": {
     "base_uri": "https://localhost:8080/"
    },
    "id": "s_UOK5pqqiGV",
    "outputId": "31e5322e-1ed7-43de-bd35-3327928ab3c0"
   },
   "outputs": [
    {
     "data": {
      "text/plain": [
       "7.023774866569626"
      ]
     },
     "execution_count": 1268,
     "metadata": {},
     "output_type": "execute_result"
    }
   ],
   "source": [
    "(len(autos[autos['model_year'].isna()])*100)/len(autos['model_year'])"
   ]
  },
  {
   "cell_type": "markdown",
   "metadata": {
    "id": "456wKwGYslgf"
   },
   "source": [
    "Porcentaje de datos en la columna `cylinders` ausentes:"
   ]
  },
  {
   "cell_type": "code",
   "execution_count": 1269,
   "metadata": {
    "colab": {
     "base_uri": "https://localhost:8080/"
    },
    "id": "vYp-dKM5sxDx",
    "outputId": "2835b186-6262-4dd8-ed88-e5b2bbb8ca6b"
   },
   "outputs": [
    {
     "data": {
      "text/plain": [
       "10.208636584182436"
      ]
     },
     "execution_count": 1269,
     "metadata": {},
     "output_type": "execute_result"
    }
   ],
   "source": [
    "(len(autos[autos['cylinders'].isna()])*100)/len(autos['cylinders'])"
   ]
  },
  {
   "cell_type": "markdown",
   "metadata": {
    "id": "x7RvSff7sgo2"
   },
   "source": [
    "Porcentaje de datos en la columna `paint_color` ausentes:"
   ]
  },
  {
   "cell_type": "code",
   "execution_count": 1270,
   "metadata": {
    "colab": {
     "base_uri": "https://localhost:8080/"
    },
    "id": "sgVkr8risxbH",
    "outputId": "b4376d9a-17a6-4e26-bff5-fa352abb5b7a"
   },
   "outputs": [
    {
     "data": {
      "text/plain": [
       "17.985443959243085"
      ]
     },
     "execution_count": 1270,
     "metadata": {},
     "output_type": "execute_result"
    }
   ],
   "source": [
    "(len(autos[autos['paint_color'].isna()])*100)/len(autos['paint_color'])"
   ]
  },
  {
   "cell_type": "markdown",
   "metadata": {
    "id": "t7rbyhFCs9ND"
   },
   "source": [
    "Todas son porciones significativas de los datos, las cuales no se pueden borrar."
   ]
  },
  {
   "cell_type": "markdown",
   "metadata": {
    "id": "Y0DnhKWyjCNn"
   },
   "source": [
    "## Enriquecer datos"
   ]
  },
  {
   "cell_type": "markdown",
   "metadata": {
    "id": "KFA9FCgEjCNn"
   },
   "source": [
    "A continuación se generarán 2 columnas más, una de ellas con los años desde que el carro salió al mercado hasta que lo publicaron para la venta `years_to_bougth`. Y otra con el promedio de kilometros recorridos por año `odometer_mean` "
   ]
  },
  {
   "cell_type": "code",
   "execution_count": 1271,
   "metadata": {
    "id": "99ELTXrsjCNp"
   },
   "outputs": [],
   "source": [
    "# Agrega los años del vehículo cuando el anuncio se colocó\n",
    "lista = []\n",
    "autos['years_to_bougth'] = autos['date_posted']-autos['model_year']\n",
    "for i in autos['years_to_bougth']:\n",
    "  if i.days < 0:\n",
    "    list.append(np.nan)\n",
    "  else:\n",
    "    try:\n",
    "      lista.append(math.floor(i.days/365))\n",
    "    except:\n",
    "      lista.append(np.nan)\n",
    "\n",
    "autos['years_to_bougth'] = lista\n"
   ]
  },
  {
   "cell_type": "code",
   "execution_count": 1272,
   "metadata": {
    "id": "x14nJXSnjCNq"
   },
   "outputs": [],
   "source": [
    "# Agrega el millaje promedio del vehículo por año\n",
    "autos['odometer_mean'] = round(autos['odometer'] / autos['years_to_bougth'])"
   ]
  },
  {
   "cell_type": "markdown",
   "metadata": {
    "id": "LMk3hwWYtvpq"
   },
   "source": [
    "Como tenemos autos que fueron vendidos el mismo año de fabricación, tendremos 0 años cumplidos, por lo que al realizar la división nos dará infinito. Para que esto no ocurra, vamos a cambiar los valores de infinito por el recorrido que lleva el auto durante ese año."
   ]
  },
  {
   "cell_type": "code",
   "execution_count": 1273,
   "metadata": {
    "id": "T_CSZEozoySs"
   },
   "outputs": [],
   "source": [
    "lista_index = list(autos[autos['odometer_mean'] == np.inf].index)\n",
    "\n",
    "for i in lista_index:\n",
    "  autos.loc[i,'odometer_mean'] = autos.loc[i,'odometer']"
   ]
  },
  {
   "cell_type": "markdown",
   "metadata": {
    "id": "eMhlT16-jCNt"
   },
   "source": [
    "## Comprobar datos limpios"
   ]
  },
  {
   "cell_type": "code",
   "execution_count": 1274,
   "metadata": {
    "colab": {
     "base_uri": "https://localhost:8080/"
    },
    "id": "hLOuLZXbjCNu",
    "outputId": "0ac89367-218a-45bd-a1ad-d327cbb283b3"
   },
   "outputs": [
    {
     "name": "stdout",
     "output_type": "stream",
     "text": [
      "<class 'pandas.core.frame.DataFrame'>\n",
      "Int64Index: 51525 entries, 0 to 51524\n",
      "Data columns (total 15 columns):\n",
      " #   Column           Non-Null Count  Dtype         \n",
      "---  ------           --------------  -----         \n",
      " 0   price            51525 non-null  int64         \n",
      " 1   model_year       47906 non-null  datetime64[ns]\n",
      " 2   model            51525 non-null  object        \n",
      " 3   condition        51525 non-null  object        \n",
      " 4   cylinders        46265 non-null  Int64         \n",
      " 5   fuel             51525 non-null  object        \n",
      " 6   odometer         51525 non-null  float64       \n",
      " 7   transmission     51525 non-null  object        \n",
      " 8   type             51525 non-null  object        \n",
      " 9   paint_color      42258 non-null  object        \n",
      " 10  is_4wd           51525 non-null  int64         \n",
      " 11  date_posted      51525 non-null  datetime64[ns]\n",
      " 12  days_listed      51525 non-null  int64         \n",
      " 13  years_to_bougth  47906 non-null  float64       \n",
      " 14  odometer_mean    47904 non-null  float64       \n",
      "dtypes: Int64(1), datetime64[ns](2), float64(3), int64(3), object(6)\n",
      "memory usage: 8.4+ MB\n"
     ]
    }
   ],
   "source": [
    "# imprime la información general/resumida sobre el DataFrame\n",
    "autos.info()\n"
   ]
  },
  {
   "cell_type": "code",
   "execution_count": 1275,
   "metadata": {
    "colab": {
     "base_uri": "https://localhost:8080/",
     "height": 340
    },
    "id": "6QJUrz7YjCNv",
    "outputId": "a97b9f44-a9d0-4056-8e1d-0b1438aec676"
   },
   "outputs": [
    {
     "data": {
      "text/html": [
       "\n",
       "  <div id=\"df-b1c36d4c-8b0f-4cbf-a128-5eedb04233cf\">\n",
       "    <div class=\"colab-df-container\">\n",
       "      <div>\n",
       "<style scoped>\n",
       "    .dataframe tbody tr th:only-of-type {\n",
       "        vertical-align: middle;\n",
       "    }\n",
       "\n",
       "    .dataframe tbody tr th {\n",
       "        vertical-align: top;\n",
       "    }\n",
       "\n",
       "    .dataframe thead th {\n",
       "        text-align: right;\n",
       "    }\n",
       "</style>\n",
       "<table border=\"1\" class=\"dataframe\">\n",
       "  <thead>\n",
       "    <tr style=\"text-align: right;\">\n",
       "      <th></th>\n",
       "      <th>price</th>\n",
       "      <th>model_year</th>\n",
       "      <th>model</th>\n",
       "      <th>condition</th>\n",
       "      <th>cylinders</th>\n",
       "      <th>fuel</th>\n",
       "      <th>odometer</th>\n",
       "      <th>transmission</th>\n",
       "      <th>type</th>\n",
       "      <th>paint_color</th>\n",
       "      <th>is_4wd</th>\n",
       "      <th>date_posted</th>\n",
       "      <th>days_listed</th>\n",
       "      <th>years_to_bougth</th>\n",
       "      <th>odometer_mean</th>\n",
       "    </tr>\n",
       "  </thead>\n",
       "  <tbody>\n",
       "    <tr>\n",
       "      <th>0</th>\n",
       "      <td>9400</td>\n",
       "      <td>2011-01-01</td>\n",
       "      <td>bmw x5</td>\n",
       "      <td>good</td>\n",
       "      <td>6</td>\n",
       "      <td>gas</td>\n",
       "      <td>145000.000000</td>\n",
       "      <td>automatic</td>\n",
       "      <td>SUV</td>\n",
       "      <td>NaN</td>\n",
       "      <td>1</td>\n",
       "      <td>2018-06-23</td>\n",
       "      <td>19</td>\n",
       "      <td>7.0</td>\n",
       "      <td>20714.0</td>\n",
       "    </tr>\n",
       "    <tr>\n",
       "      <th>1</th>\n",
       "      <td>25500</td>\n",
       "      <td>NaT</td>\n",
       "      <td>ford f-150</td>\n",
       "      <td>good</td>\n",
       "      <td>6</td>\n",
       "      <td>gas</td>\n",
       "      <td>88705.000000</td>\n",
       "      <td>automatic</td>\n",
       "      <td>pickup</td>\n",
       "      <td>white</td>\n",
       "      <td>1</td>\n",
       "      <td>2018-10-19</td>\n",
       "      <td>50</td>\n",
       "      <td>NaN</td>\n",
       "      <td>NaN</td>\n",
       "    </tr>\n",
       "    <tr>\n",
       "      <th>2</th>\n",
       "      <td>5500</td>\n",
       "      <td>2013-01-01</td>\n",
       "      <td>hyundai sonata</td>\n",
       "      <td>like new</td>\n",
       "      <td>4</td>\n",
       "      <td>gas</td>\n",
       "      <td>110000.000000</td>\n",
       "      <td>automatic</td>\n",
       "      <td>sedan</td>\n",
       "      <td>red</td>\n",
       "      <td>0</td>\n",
       "      <td>2019-02-07</td>\n",
       "      <td>79</td>\n",
       "      <td>6.0</td>\n",
       "      <td>18333.0</td>\n",
       "    </tr>\n",
       "    <tr>\n",
       "      <th>3</th>\n",
       "      <td>1500</td>\n",
       "      <td>2003-01-01</td>\n",
       "      <td>ford f-150</td>\n",
       "      <td>fair</td>\n",
       "      <td>8</td>\n",
       "      <td>gas</td>\n",
       "      <td>115553.461738</td>\n",
       "      <td>automatic</td>\n",
       "      <td>pickup</td>\n",
       "      <td>NaN</td>\n",
       "      <td>0</td>\n",
       "      <td>2019-03-22</td>\n",
       "      <td>9</td>\n",
       "      <td>16.0</td>\n",
       "      <td>7222.0</td>\n",
       "    </tr>\n",
       "    <tr>\n",
       "      <th>4</th>\n",
       "      <td>14900</td>\n",
       "      <td>2017-01-01</td>\n",
       "      <td>chrysler 200</td>\n",
       "      <td>excellent</td>\n",
       "      <td>4</td>\n",
       "      <td>gas</td>\n",
       "      <td>80903.000000</td>\n",
       "      <td>automatic</td>\n",
       "      <td>sedan</td>\n",
       "      <td>black</td>\n",
       "      <td>0</td>\n",
       "      <td>2019-04-02</td>\n",
       "      <td>28</td>\n",
       "      <td>2.0</td>\n",
       "      <td>40452.0</td>\n",
       "    </tr>\n",
       "  </tbody>\n",
       "</table>\n",
       "</div>\n",
       "      <button class=\"colab-df-convert\" onclick=\"convertToInteractive('df-b1c36d4c-8b0f-4cbf-a128-5eedb04233cf')\"\n",
       "              title=\"Convert this dataframe to an interactive table.\"\n",
       "              style=\"display:none;\">\n",
       "        \n",
       "  <svg xmlns=\"http://www.w3.org/2000/svg\" height=\"24px\"viewBox=\"0 0 24 24\"\n",
       "       width=\"24px\">\n",
       "    <path d=\"M0 0h24v24H0V0z\" fill=\"none\"/>\n",
       "    <path d=\"M18.56 5.44l.94 2.06.94-2.06 2.06-.94-2.06-.94-.94-2.06-.94 2.06-2.06.94zm-11 1L8.5 8.5l.94-2.06 2.06-.94-2.06-.94L8.5 2.5l-.94 2.06-2.06.94zm10 10l.94 2.06.94-2.06 2.06-.94-2.06-.94-.94-2.06-.94 2.06-2.06.94z\"/><path d=\"M17.41 7.96l-1.37-1.37c-.4-.4-.92-.59-1.43-.59-.52 0-1.04.2-1.43.59L10.3 9.45l-7.72 7.72c-.78.78-.78 2.05 0 2.83L4 21.41c.39.39.9.59 1.41.59.51 0 1.02-.2 1.41-.59l7.78-7.78 2.81-2.81c.8-.78.8-2.07 0-2.86zM5.41 20L4 18.59l7.72-7.72 1.47 1.35L5.41 20z\"/>\n",
       "  </svg>\n",
       "      </button>\n",
       "      \n",
       "  <style>\n",
       "    .colab-df-container {\n",
       "      display:flex;\n",
       "      flex-wrap:wrap;\n",
       "      gap: 12px;\n",
       "    }\n",
       "\n",
       "    .colab-df-convert {\n",
       "      background-color: #E8F0FE;\n",
       "      border: none;\n",
       "      border-radius: 50%;\n",
       "      cursor: pointer;\n",
       "      display: none;\n",
       "      fill: #1967D2;\n",
       "      height: 32px;\n",
       "      padding: 0 0 0 0;\n",
       "      width: 32px;\n",
       "    }\n",
       "\n",
       "    .colab-df-convert:hover {\n",
       "      background-color: #E2EBFA;\n",
       "      box-shadow: 0px 1px 2px rgba(60, 64, 67, 0.3), 0px 1px 3px 1px rgba(60, 64, 67, 0.15);\n",
       "      fill: #174EA6;\n",
       "    }\n",
       "\n",
       "    [theme=dark] .colab-df-convert {\n",
       "      background-color: #3B4455;\n",
       "      fill: #D2E3FC;\n",
       "    }\n",
       "\n",
       "    [theme=dark] .colab-df-convert:hover {\n",
       "      background-color: #434B5C;\n",
       "      box-shadow: 0px 1px 3px 1px rgba(0, 0, 0, 0.15);\n",
       "      filter: drop-shadow(0px 1px 2px rgba(0, 0, 0, 0.3));\n",
       "      fill: #FFFFFF;\n",
       "    }\n",
       "  </style>\n",
       "\n",
       "      <script>\n",
       "        const buttonEl =\n",
       "          document.querySelector('#df-b1c36d4c-8b0f-4cbf-a128-5eedb04233cf button.colab-df-convert');\n",
       "        buttonEl.style.display =\n",
       "          google.colab.kernel.accessAllowed ? 'block' : 'none';\n",
       "\n",
       "        async function convertToInteractive(key) {\n",
       "          const element = document.querySelector('#df-b1c36d4c-8b0f-4cbf-a128-5eedb04233cf');\n",
       "          const dataTable =\n",
       "            await google.colab.kernel.invokeFunction('convertToInteractive',\n",
       "                                                     [key], {});\n",
       "          if (!dataTable) return;\n",
       "\n",
       "          const docLinkHtml = 'Like what you see? Visit the ' +\n",
       "            '<a target=\"_blank\" href=https://colab.research.google.com/notebooks/data_table.ipynb>data table notebook</a>'\n",
       "            + ' to learn more about interactive tables.';\n",
       "          element.innerHTML = '';\n",
       "          dataTable['output_type'] = 'display_data';\n",
       "          await google.colab.output.renderOutput(dataTable, element);\n",
       "          const docLink = document.createElement('div');\n",
       "          docLink.innerHTML = docLinkHtml;\n",
       "          element.appendChild(docLink);\n",
       "        }\n",
       "      </script>\n",
       "    </div>\n",
       "  </div>\n",
       "  "
      ],
      "text/plain": [
       "   price model_year           model  condition  cylinders fuel       odometer  \\\n",
       "0   9400 2011-01-01          bmw x5       good          6  gas  145000.000000   \n",
       "1  25500        NaT      ford f-150       good          6  gas   88705.000000   \n",
       "2   5500 2013-01-01  hyundai sonata   like new          4  gas  110000.000000   \n",
       "3   1500 2003-01-01      ford f-150       fair          8  gas  115553.461738   \n",
       "4  14900 2017-01-01    chrysler 200  excellent          4  gas   80903.000000   \n",
       "\n",
       "  transmission    type paint_color  is_4wd date_posted  days_listed  \\\n",
       "0    automatic     SUV         NaN       1  2018-06-23           19   \n",
       "1    automatic  pickup       white       1  2018-10-19           50   \n",
       "2    automatic   sedan         red       0  2019-02-07           79   \n",
       "3    automatic  pickup         NaN       0  2019-03-22            9   \n",
       "4    automatic   sedan       black       0  2019-04-02           28   \n",
       "\n",
       "   years_to_bougth  odometer_mean  \n",
       "0              7.0        20714.0  \n",
       "1              NaN            NaN  \n",
       "2              6.0        18333.0  \n",
       "3             16.0         7222.0  \n",
       "4              2.0        40452.0  "
      ]
     },
     "execution_count": 1275,
     "metadata": {},
     "output_type": "execute_result"
    }
   ],
   "source": [
    "# imprimir una muestra de datos\n",
    "autos.head()\n"
   ]
  },
  {
   "cell_type": "markdown",
   "metadata": {
    "id": "wy8-AvkfjCNw"
   },
   "source": [
    "## Estudiar parámetros principales\n",
    "\n",
    "Los parámetros son:\n",
    "- Precio\n",
    "- Los años del vehículo cuando el anuncio se colocó\n",
    "- Millaje\n",
    "- Número de cilindros\n",
    "- Estado"
   ]
  },
  {
   "cell_type": "markdown",
   "metadata": {
    "id": "d56EHYpDjCNw"
   },
   "source": [
    "Primeramente estudiaremos cules son los quartiles de nuestras columnas numéricas, para poder determinar los valores atípicos y tratarlos con el criterio apropiado."
   ]
  },
  {
   "cell_type": "code",
   "execution_count": 1276,
   "metadata": {
    "colab": {
     "base_uri": "https://localhost:8080/",
     "height": 300
    },
    "id": "vohSORs5mDxp",
    "outputId": "5f07a049-1cb7-4d5f-a038-f7e32e7134e8"
   },
   "outputs": [
    {
     "data": {
      "text/html": [
       "\n",
       "  <div id=\"df-b29f1bf2-0b90-4050-a2b5-651817572be9\">\n",
       "    <div class=\"colab-df-container\">\n",
       "      <div>\n",
       "<style scoped>\n",
       "    .dataframe tbody tr th:only-of-type {\n",
       "        vertical-align: middle;\n",
       "    }\n",
       "\n",
       "    .dataframe tbody tr th {\n",
       "        vertical-align: top;\n",
       "    }\n",
       "\n",
       "    .dataframe thead th {\n",
       "        text-align: right;\n",
       "    }\n",
       "</style>\n",
       "<table border=\"1\" class=\"dataframe\">\n",
       "  <thead>\n",
       "    <tr style=\"text-align: right;\">\n",
       "      <th></th>\n",
       "      <th>price</th>\n",
       "      <th>cylinders</th>\n",
       "      <th>odometer</th>\n",
       "      <th>is_4wd</th>\n",
       "      <th>days_listed</th>\n",
       "      <th>years_to_bougth</th>\n",
       "      <th>odometer_mean</th>\n",
       "    </tr>\n",
       "  </thead>\n",
       "  <tbody>\n",
       "    <tr>\n",
       "      <th>count</th>\n",
       "      <td>51525.000000</td>\n",
       "      <td>46265.000000</td>\n",
       "      <td>51525.000000</td>\n",
       "      <td>51525.000000</td>\n",
       "      <td>51525.00000</td>\n",
       "      <td>47906.000000</td>\n",
       "      <td>47904.000000</td>\n",
       "    </tr>\n",
       "    <tr>\n",
       "      <th>mean</th>\n",
       "      <td>12132.464920</td>\n",
       "      <td>6.125235</td>\n",
       "      <td>115553.461738</td>\n",
       "      <td>0.496303</td>\n",
       "      <td>39.55476</td>\n",
       "      <td>8.563165</td>\n",
       "      <td>19446.720815</td>\n",
       "    </tr>\n",
       "    <tr>\n",
       "      <th>std</th>\n",
       "      <td>10040.803015</td>\n",
       "      <td>1.660360</td>\n",
       "      <td>59902.205520</td>\n",
       "      <td>0.499991</td>\n",
       "      <td>28.20427</td>\n",
       "      <td>6.299370</td>\n",
       "      <td>17542.651178</td>\n",
       "    </tr>\n",
       "    <tr>\n",
       "      <th>min</th>\n",
       "      <td>1.000000</td>\n",
       "      <td>3.000000</td>\n",
       "      <td>0.000000</td>\n",
       "      <td>0.000000</td>\n",
       "      <td>0.00000</td>\n",
       "      <td>0.000000</td>\n",
       "      <td>0.000000</td>\n",
       "    </tr>\n",
       "    <tr>\n",
       "      <th>25%</th>\n",
       "      <td>5000.000000</td>\n",
       "      <td>4.000000</td>\n",
       "      <td>79181.000000</td>\n",
       "      <td>0.000000</td>\n",
       "      <td>19.00000</td>\n",
       "      <td>4.000000</td>\n",
       "      <td>10500.000000</td>\n",
       "    </tr>\n",
       "    <tr>\n",
       "      <th>50%</th>\n",
       "      <td>9000.000000</td>\n",
       "      <td>6.000000</td>\n",
       "      <td>115553.461738</td>\n",
       "      <td>0.000000</td>\n",
       "      <td>33.00000</td>\n",
       "      <td>7.000000</td>\n",
       "      <td>15067.500000</td>\n",
       "    </tr>\n",
       "    <tr>\n",
       "      <th>75%</th>\n",
       "      <td>16839.000000</td>\n",
       "      <td>8.000000</td>\n",
       "      <td>146541.000000</td>\n",
       "      <td>1.000000</td>\n",
       "      <td>53.00000</td>\n",
       "      <td>12.000000</td>\n",
       "      <td>22418.500000</td>\n",
       "    </tr>\n",
       "    <tr>\n",
       "      <th>max</th>\n",
       "      <td>375000.000000</td>\n",
       "      <td>12.000000</td>\n",
       "      <td>990000.000000</td>\n",
       "      <td>1.000000</td>\n",
       "      <td>271.00000</td>\n",
       "      <td>110.000000</td>\n",
       "      <td>373200.000000</td>\n",
       "    </tr>\n",
       "  </tbody>\n",
       "</table>\n",
       "</div>\n",
       "      <button class=\"colab-df-convert\" onclick=\"convertToInteractive('df-b29f1bf2-0b90-4050-a2b5-651817572be9')\"\n",
       "              title=\"Convert this dataframe to an interactive table.\"\n",
       "              style=\"display:none;\">\n",
       "        \n",
       "  <svg xmlns=\"http://www.w3.org/2000/svg\" height=\"24px\"viewBox=\"0 0 24 24\"\n",
       "       width=\"24px\">\n",
       "    <path d=\"M0 0h24v24H0V0z\" fill=\"none\"/>\n",
       "    <path d=\"M18.56 5.44l.94 2.06.94-2.06 2.06-.94-2.06-.94-.94-2.06-.94 2.06-2.06.94zm-11 1L8.5 8.5l.94-2.06 2.06-.94-2.06-.94L8.5 2.5l-.94 2.06-2.06.94zm10 10l.94 2.06.94-2.06 2.06-.94-2.06-.94-.94-2.06-.94 2.06-2.06.94z\"/><path d=\"M17.41 7.96l-1.37-1.37c-.4-.4-.92-.59-1.43-.59-.52 0-1.04.2-1.43.59L10.3 9.45l-7.72 7.72c-.78.78-.78 2.05 0 2.83L4 21.41c.39.39.9.59 1.41.59.51 0 1.02-.2 1.41-.59l7.78-7.78 2.81-2.81c.8-.78.8-2.07 0-2.86zM5.41 20L4 18.59l7.72-7.72 1.47 1.35L5.41 20z\"/>\n",
       "  </svg>\n",
       "      </button>\n",
       "      \n",
       "  <style>\n",
       "    .colab-df-container {\n",
       "      display:flex;\n",
       "      flex-wrap:wrap;\n",
       "      gap: 12px;\n",
       "    }\n",
       "\n",
       "    .colab-df-convert {\n",
       "      background-color: #E8F0FE;\n",
       "      border: none;\n",
       "      border-radius: 50%;\n",
       "      cursor: pointer;\n",
       "      display: none;\n",
       "      fill: #1967D2;\n",
       "      height: 32px;\n",
       "      padding: 0 0 0 0;\n",
       "      width: 32px;\n",
       "    }\n",
       "\n",
       "    .colab-df-convert:hover {\n",
       "      background-color: #E2EBFA;\n",
       "      box-shadow: 0px 1px 2px rgba(60, 64, 67, 0.3), 0px 1px 3px 1px rgba(60, 64, 67, 0.15);\n",
       "      fill: #174EA6;\n",
       "    }\n",
       "\n",
       "    [theme=dark] .colab-df-convert {\n",
       "      background-color: #3B4455;\n",
       "      fill: #D2E3FC;\n",
       "    }\n",
       "\n",
       "    [theme=dark] .colab-df-convert:hover {\n",
       "      background-color: #434B5C;\n",
       "      box-shadow: 0px 1px 3px 1px rgba(0, 0, 0, 0.15);\n",
       "      filter: drop-shadow(0px 1px 2px rgba(0, 0, 0, 0.3));\n",
       "      fill: #FFFFFF;\n",
       "    }\n",
       "  </style>\n",
       "\n",
       "      <script>\n",
       "        const buttonEl =\n",
       "          document.querySelector('#df-b29f1bf2-0b90-4050-a2b5-651817572be9 button.colab-df-convert');\n",
       "        buttonEl.style.display =\n",
       "          google.colab.kernel.accessAllowed ? 'block' : 'none';\n",
       "\n",
       "        async function convertToInteractive(key) {\n",
       "          const element = document.querySelector('#df-b29f1bf2-0b90-4050-a2b5-651817572be9');\n",
       "          const dataTable =\n",
       "            await google.colab.kernel.invokeFunction('convertToInteractive',\n",
       "                                                     [key], {});\n",
       "          if (!dataTable) return;\n",
       "\n",
       "          const docLinkHtml = 'Like what you see? Visit the ' +\n",
       "            '<a target=\"_blank\" href=https://colab.research.google.com/notebooks/data_table.ipynb>data table notebook</a>'\n",
       "            + ' to learn more about interactive tables.';\n",
       "          element.innerHTML = '';\n",
       "          dataTable['output_type'] = 'display_data';\n",
       "          await google.colab.output.renderOutput(dataTable, element);\n",
       "          const docLink = document.createElement('div');\n",
       "          docLink.innerHTML = docLinkHtml;\n",
       "          element.appendChild(docLink);\n",
       "        }\n",
       "      </script>\n",
       "    </div>\n",
       "  </div>\n",
       "  "
      ],
      "text/plain": [
       "               price     cylinders       odometer        is_4wd  days_listed  \\\n",
       "count   51525.000000  46265.000000   51525.000000  51525.000000  51525.00000   \n",
       "mean    12132.464920      6.125235  115553.461738      0.496303     39.55476   \n",
       "std     10040.803015      1.660360   59902.205520      0.499991     28.20427   \n",
       "min         1.000000      3.000000       0.000000      0.000000      0.00000   \n",
       "25%      5000.000000      4.000000   79181.000000      0.000000     19.00000   \n",
       "50%      9000.000000      6.000000  115553.461738      0.000000     33.00000   \n",
       "75%     16839.000000      8.000000  146541.000000      1.000000     53.00000   \n",
       "max    375000.000000     12.000000  990000.000000      1.000000    271.00000   \n",
       "\n",
       "       years_to_bougth  odometer_mean  \n",
       "count     47906.000000   47904.000000  \n",
       "mean          8.563165   19446.720815  \n",
       "std           6.299370   17542.651178  \n",
       "min           0.000000       0.000000  \n",
       "25%           4.000000   10500.000000  \n",
       "50%           7.000000   15067.500000  \n",
       "75%          12.000000   22418.500000  \n",
       "max         110.000000  373200.000000  "
      ]
     },
     "execution_count": 1276,
     "metadata": {},
     "output_type": "execute_result"
    }
   ],
   "source": [
    "autos.describe()"
   ]
  },
  {
   "cell_type": "markdown",
   "metadata": {
    "id": "2K_IEHe3wwxj"
   },
   "source": [
    "Comenzaremos estudiando el precio de los autos. Para ello aplicaremos un histograma "
   ]
  },
  {
   "cell_type": "code",
   "execution_count": 1277,
   "metadata": {
    "colab": {
     "base_uri": "https://localhost:8080/",
     "height": 610
    },
    "id": "O7ngst1RjCNx",
    "outputId": "08c8ba81-8d91-4b36-89e5-b8b7cf1179a1"
   },
   "outputs": [
    {
     "data": {
      "image/png": "[encoded data removed]",
      "text/plain": [
       "<Figure size 720x720 with 1 Axes>"
      ]
     },
     "metadata": {},
     "output_type": "display_data"
    }
   ],
   "source": [
    "#\n",
    "autos.hist('price' ,bins = 100, figsize = (10,10))\n",
    "plt.show()\n"
   ]
  },
  {
   "cell_type": "markdown",
   "metadata": {
    "id": "WwABuOzFApOg"
   },
   "source": [
    "Como se puede observar hay una gran cantidad de valores atípicos por encima de los 50000. Para comproobar esto, haremos un gráfico de caja y bigotes"
   ]
  },
  {
   "cell_type": "code",
   "execution_count": 1278,
   "metadata": {
    "colab": {
     "base_uri": "https://localhost:8080/",
     "height": 594
    },
    "id": "0i5j3izKlVNH",
    "outputId": "53e7c567-6ac8-4208-81b1-eb261cdaa811"
   },
   "outputs": [
    {
     "data": {
      "image/png": "[encoded data removed]",
      "text/plain": [
       "<Figure size 720x720 with 1 Axes>"
      ]
     },
     "metadata": {},
     "output_type": "display_data"
    }
   ],
   "source": [
    "autos.boxplot('price', figsize = (10,10))\n",
    "plt.show()\n"
   ]
  },
  {
   "cell_type": "markdown",
   "metadata": {
    "id": "_KiJPXhNBJkl"
   },
   "source": [
    "Analizando este gráfico, podemos observar, que valores por encima de los 30000 pueden ser considerados como  atípicos. Sin embargo, de mabos gráficos podemos observar, que hay mucho valores extrañamente cercanos a 0 que no deberían de estar allí, ya que aún cunado no se nos especifica la moneda, ningún auto, bajo ninguna denomiinación estará en torno a esos valores. Se podría decir que por debajo de 1000 ya es poco usual."
   ]
  },
  {
   "cell_type": "code",
   "execution_count": 1279,
   "metadata": {
    "colab": {
     "base_uri": "https://localhost:8080/",
     "height": 610
    },
    "id": "VjGPhmU3jCNx",
    "outputId": "941dde1c-7dea-45ed-88ec-8511c1c2142a"
   },
   "outputs": [
    {
     "data": {
      "image/png": "[encoded data removed]",
      "text/plain": [
       "<Figure size 720x720 with 1 Axes>"
      ]
     },
     "metadata": {},
     "output_type": "display_data"
    }
   ],
   "source": [
    "#\n",
    "autos.query('price < 50000').hist('price' ,bins = 50, figsize = (10,10))\n",
    "plt.show()"
   ]
  },
  {
   "cell_type": "markdown",
   "metadata": {
    "id": "Gnh3SQGfCKji"
   },
   "source": [
    "Estudiando aún más de cerca vemos un poco más de 1500 autos estan valorados en cifras muy cercanas a 0. Esto puede ser un punto a tratar más asdelnate. A continuación veremos los valores atípicos por encima de los 50000."
   ]
  },
  {
   "cell_type": "code",
   "execution_count": 1280,
   "metadata": {
    "colab": {
     "base_uri": "https://localhost:8080/",
     "height": 610
    },
    "id": "R0dLoqBMIfnO",
    "outputId": "2970e051-c613-4adf-9aa4-fbfeb446fa76"
   },
   "outputs": [
    {
     "data": {
      "image/png": "[encoded data removed]",
      "text/plain": [
       "<Figure size 720x720 with 1 Axes>"
      ]
     },
     "metadata": {},
     "output_type": "display_data"
    }
   ],
   "source": [
    "autos.query('price > 50000').hist('price' ,bins = 50, figsize = (10,10))\n",
    "plt.show()\n"
   ]
  },
  {
   "cell_type": "code",
   "execution_count": 1281,
   "metadata": {
    "colab": {
     "base_uri": "https://localhost:8080/"
    },
    "id": "0-Jwz57RHXBZ",
    "outputId": "a0af92a1-1bab-4ae7-ccce-646de5a8dd3a"
   },
   "outputs": [
    {
     "data": {
      "text/plain": [
       "227"
      ]
     },
     "execution_count": 1281,
     "metadata": {},
     "output_type": "execute_result"
    }
   ],
   "source": [
    "autos.query('price > 50000')['price'].count()"
   ]
  },
  {
   "cell_type": "markdown",
   "metadata": {
    "id": "UvObePOjKz8s"
   },
   "source": [
    "Aunque son pocos valores. Son lo suficientemente grandes como para afectar la media de la distribución tal como se ve en los histogramas anteriores y en análisis de los quartiles. "
   ]
  },
  {
   "cell_type": "markdown",
   "metadata": {
    "id": "eWGK5nlbVxqx"
   },
   "source": [
    "A continuación estudiaremos de forma similar los valores atípicosde los años del vehículo cuando el anuncio se colocó"
   ]
  },
  {
   "cell_type": "code",
   "execution_count": 1282,
   "metadata": {
    "colab": {
     "base_uri": "https://localhost:8080/",
     "height": 610
    },
    "id": "EcQw5_DejCNy",
    "outputId": "50f64a4d-f4d1-4225-dd0d-85e1802e6de3"
   },
   "outputs": [
    {
     "data": {
      "image/png": "[encoded data removed]",
      "text/plain": [
       "<Figure size 720x720 with 1 Axes>"
      ]
     },
     "metadata": {},
     "output_type": "display_data"
    }
   ],
   "source": [
    "#\n",
    "autos.hist('years_to_bougth' ,bins = 50, figsize = (10,10))\n",
    "plt.show()\n"
   ]
  },
  {
   "cell_type": "markdown",
   "metadata": {
    "id": "-nBtWt1aWvvX"
   },
   "source": [
    "Como podemos observar, la mayoría de las personas vende sus autos entre 0 y 25 años luego de que el mismo saliera a la venta por primera vez. Cabe destacar que sto no quiere decir, cuanto tiempo una persona tuvo un auto, sino cuanto leva en circulación. \n",
    "\n",
    "Ahora bien, es anormalemente extraño, ver autos de incluso más de 60 años. Estamos hablando de autos de la epoca de los 60. Para estudiar mejor esto, observemos el siguiente gáfico de caja y bigotes."
   ]
  },
  {
   "cell_type": "code",
   "execution_count": 1283,
   "metadata": {
    "colab": {
     "base_uri": "https://localhost:8080/",
     "height": 595
    },
    "id": "P-jctYdTWbwW",
    "outputId": "3456cc19-3b97-4933-991e-dd1e70d2b8b8"
   },
   "outputs": [
    {
     "data": {
      "image/png": "[encoded data removed]",
      "text/plain": [
       "<Figure size 720x720 with 1 Axes>"
      ]
     },
     "metadata": {},
     "output_type": "display_data"
    }
   ],
   "source": [
    "autos.boxplot('years_to_bougth', figsize = (10,10))\n",
    "plt.show()\n"
   ]
  },
  {
   "cell_type": "markdown",
   "metadata": {
    "id": "gzPn3tfsXlug"
   },
   "source": [
    "Aquí se puede observar mejor. Hubo autos con incluso más de 80 años de antiguedad. Así que o se trata de un error en los datos, o se vedió uno de los primeros ejemplares de autos del mundo."
   ]
  },
  {
   "cell_type": "markdown",
   "metadata": {
    "id": "9i3bAL6KYPqG"
   },
   "source": [
    "A continuación se analizará el millaje recorrido por los autos, para observar sus valores atípicos."
   ]
  },
  {
   "cell_type": "code",
   "execution_count": 1284,
   "metadata": {
    "colab": {
     "base_uri": "https://localhost:8080/",
     "height": 623
    },
    "id": "5VHBkSDxjCNy",
    "outputId": "f3562da3-21b6-4676-ba60-c5405eb4669e"
   },
   "outputs": [
    {
     "data": {
      "image/png": "[encoded data removed]",
      "text/plain": [
       "<Figure size 720x720 with 1 Axes>"
      ]
     },
     "metadata": {},
     "output_type": "display_data"
    }
   ],
   "source": [
    "#\n",
    "autos.hist('odometer' ,bins = 100, figsize = (10,10))\n",
    "plt.show()\n",
    "\n"
   ]
  },
  {
   "cell_type": "markdown",
   "metadata": {
    "id": "MNuy6JmSiuZH"
   },
   "source": [
    "Como podemos observar har valores atipicos muy cercanos al 0. Habría que comparar con elaño para determinar si el carro no ha sido usado o si por el contrario es un error de los datos. Por otro lado vemos que hay valores muy por encima de los 400000 millas, es decir 644000 kilómetros. Lo que ya está muy por encima de un kilometraje alto para un auto. Nuevamene hay que comparar con las fechas para determinar si es por los años, porque lo han usado mucho oun simple error en la data."
   ]
  },
  {
   "cell_type": "markdown",
   "metadata": {
    "id": "oTTtI2HgiuTd"
   },
   "source": [
    "Observe el siguinete gráfico"
   ]
  },
  {
   "cell_type": "code",
   "execution_count": 1285,
   "metadata": {
    "colab": {
     "base_uri": "https://localhost:8080/",
     "height": 605
    },
    "id": "YmaTWQZBaAGW",
    "outputId": "f0aea668-3ff6-452c-8770-ebdc1f45b186"
   },
   "outputs": [
    {
     "data": {
      "image/png": "[encoded data removed]",
      "text/plain": [
       "<Figure size 720x720 with 1 Axes>"
      ]
     },
     "metadata": {},
     "output_type": "display_data"
    }
   ],
   "source": [
    "autos.boxplot('odometer', figsize = (10,10))\n",
    "plt.show()\n"
   ]
  },
  {
   "cell_type": "markdown",
   "metadata": {
    "id": "ChFvogqejpLu"
   },
   "source": [
    "Este gráfico concurda perfectamente con lo que sucede en la vida real. Un auto se considera con mucho uso luego de los 300000 millas recorridas. Vemos enconces que hay mucho valores atípicos incluso algunos llegando al 1000000 de millas, una cifra demasiado elevada para cualquier auto."
   ]
  },
  {
   "cell_type": "code",
   "execution_count": 1286,
   "metadata": {
    "colab": {
     "base_uri": "https://localhost:8080/",
     "height": 610
    },
    "id": "bPSQpULYjCNz",
    "outputId": "f66c2805-319c-49ae-dfa4-b6417284d7e6"
   },
   "outputs": [
    {
     "data": {
      "image/png": "[encoded data removed]",
      "text/plain": [
       "<Figure size 720x720 with 1 Axes>"
      ]
     },
     "metadata": {},
     "output_type": "display_data"
    }
   ],
   "source": [
    "#\n",
    "autos.hist('cylinders' ,bins = 100, figsize = (10,10))\n",
    "plt.show()\n",
    "\n"
   ]
  },
  {
   "cell_type": "code",
   "execution_count": 1287,
   "metadata": {
    "colab": {
     "base_uri": "https://localhost:8080/",
     "height": 594
    },
    "id": "vA4mRGb0mpCo",
    "outputId": "10e7e003-77ad-4d08-c308-171dceb9dc96"
   },
   "outputs": [
    {
     "data": {
      "image/png": "[encoded data removed]",
      "text/plain": [
       "<Figure size 720x720 with 1 Axes>"
      ]
     },
     "metadata": {},
     "output_type": "display_data"
    }
   ],
   "source": [
    "autos.boxplot('cylinders', figsize = (10,10))\n",
    "plt.show()\n"
   ]
  },
  {
   "cell_type": "markdown",
   "metadata": {
    "id": "yVGko0Z-mwgw"
   },
   "source": [
    "Claramente en los cilindros no hay valores atípicos, se podría decir que son valores poco usuales como autos de 12, 5 y 3 cilindros. No son muy habituales de ver, sin embargo no se considera que afecten el análisis."
   ]
  },
  {
   "cell_type": "code",
   "execution_count": 1288,
   "metadata": {
    "colab": {
     "base_uri": "https://localhost:8080/",
     "height": 325
    },
    "id": "DqXy1F-HjCN0",
    "outputId": "8cb4cc19-8538-4c7f-a914-f36188e3f282"
   },
   "outputs": [
    {
     "data": {
      "image/png": "[encoded data removed]",
      "text/plain": [
       "<Figure size 432x288 with 1 Axes>"
      ]
     },
     "metadata": {},
     "output_type": "display_data"
    }
   ],
   "source": [
    "#\n",
    "autos.pivot_table(index = 'condition', aggfunc = 'count')['model'].plot(kind = 'bar')\n",
    "plt.show()\n"
   ]
  },
  {
   "cell_type": "markdown",
   "metadata": {
    "id": "uA_wxTnUnOlT"
   },
   "source": [
    "Por último en ese gráfico de barras podemos ver que no existen valores atípicos, y que la gran mayoria de carros son usados, de allí que el millaje recorrido por los vehículos fuese elevado en la gran mayoria de los casos."
   ]
  },
  {
   "cell_type": "markdown",
   "metadata": {
    "id": "8xOBSqIKjCN1"
   },
   "source": [
    "## Estudiar y tratar valores atípicos\n",
    "\n"
   ]
  },
  {
   "cell_type": "markdown",
   "metadata": {
    "id": "IfWhz9yCI7d0"
   },
   "source": [
    "Primeramente determinemos los limites inferiores y superiores de los precios. Para ello se analiza más de cerca la distribución de los datos:\n",
    "\n"
   ]
  },
  {
   "cell_type": "code",
   "execution_count": 1289,
   "metadata": {
    "colab": {
     "base_uri": "https://localhost:8080/",
     "height": 610
    },
    "id": "NnYCRNuPJ3Lu",
    "outputId": "6e5c84b6-e873-426d-df10-a8473e3d0c7e"
   },
   "outputs": [
    {
     "data": {
      "image/png": "[encoded data removed]",
      "text/plain": [
       "<Figure size 720x720 with 1 Axes>"
      ]
     },
     "metadata": {},
     "output_type": "display_data"
    }
   ],
   "source": [
    "autos.query('price < 10000').hist('price' ,bins = 50, figsize = (10,10))\n",
    "plt.show()\n"
   ]
  },
  {
   "cell_type": "markdown",
   "metadata": {
    "id": "eSZZbCFdCiv-"
   },
   "source": [
    "Observando esto se decide calcular la proproción de datos inferiores a 1000 y de no ser tan significativa, se eliminarán para evitar que esto pueda sesgar los cálculos posteriores."
   ]
  },
  {
   "cell_type": "code",
   "execution_count": 1290,
   "metadata": {
    "colab": {
     "base_uri": "https://localhost:8080/"
    },
    "id": "pfFgfFxrDTZ3",
    "outputId": "e1d0b73a-dda6-4fcf-bedb-8d4e825ed12c"
   },
   "outputs": [
    {
     "data": {
      "text/plain": [
       "2.7248908296943233"
      ]
     },
     "execution_count": 1290,
     "metadata": {},
     "output_type": "execute_result"
    }
   ],
   "source": [
    "autos.query('price < 1000')['price'].count()*100/autos['price'].count()"
   ]
  },
  {
   "cell_type": "markdown",
   "metadata": {
    "id": "-qzZBMZMEBM9"
   },
   "source": [
    "Solo se perderá un 3% de los datos, una medida a tomar para evitar problemas a futuro. "
   ]
  },
  {
   "cell_type": "code",
   "execution_count": 1291,
   "metadata": {
    "id": "V7aRQgBDELZU"
   },
   "outputs": [],
   "source": [
    "autos_sin_a = autos.copy()\n",
    "autos_sin_a.drop(autos_sin_a.query('price < 1000').index,axis = 0, inplace = True)\n"
   ]
  },
  {
   "cell_type": "markdown",
   "metadata": {
    "id": "6D1250LEkx4k"
   },
   "source": [
    "En consiguiente se estudia el límite superior para os valores atípicos. Basándonos en el gráfico de caja y bigotes descrito anteriormen te se decide truncar los precios en 50000."
   ]
  },
  {
   "cell_type": "code",
   "execution_count": 1292,
   "metadata": {
    "id": "d9Cd79FilMZd"
   },
   "outputs": [],
   "source": [
    "autos_sin_a.drop(autos_sin_a.query('price > 50000').index, axis = 0, inplace = True)"
   ]
  },
  {
   "cell_type": "code",
   "execution_count": 1293,
   "metadata": {
    "colab": {
     "base_uri": "https://localhost:8080/",
     "height": 322
    },
    "id": "Gz_CfOQzGbWt",
    "outputId": "286facba-3918-49eb-91e5-fc6384554ee9"
   },
   "outputs": [
    {
     "data": {
      "image/png": "[encoded data removed]",
      "text/plain": [
       "<Figure size 432x360 with 1 Axes>"
      ]
     },
     "metadata": {},
     "output_type": "display_data"
    }
   ],
   "source": [
    "autos_sin_a.boxplot('price', figsize = (6,5))\n",
    "plt.show()\n"
   ]
  },
  {
   "cell_type": "markdown",
   "metadata": {
    "id": "BBq2FFplGkxk"
   },
   "source": [
    "Estos valores tiene más sentido, ahora bién tenemos que repetir el procedimiento para los años del auto hasta la fecha del anuncio.\n",
    "\n",
    "Como este proceso se va a repetir para cada una de las columnas se decide hacer una función que permita hacer todo este procedimiento anterior y así tuncar limites superiores e inferiores."
   ]
  },
  {
   "cell_type": "code",
   "execution_count": 1294,
   "metadata": {
    "id": "nu38ys0OnE9Y"
   },
   "outputs": [],
   "source": [
    "def drop_lim(DF, lim_inf, lim_sup, colum):\n",
    "  DF.drop(autos_sin_a.query(f'{colum} > {lim_sup}').index, axis = 0, inplace = True)\n",
    "  DF.drop(autos_sin_a.query(f'{colum} < {lim_inf}').index, axis = 0, inplace = True)\n",
    "  DF.boxplot(colum,figsize = (6,5))"
   ]
  },
  {
   "cell_type": "markdown",
   "metadata": {
    "id": "JzxsyNfYw_DW"
   },
   "source": [
    "Se decide truncar los datos entre 0 y 20 años para su compra, ya que son carros un poco más modernos, Carros más antiguos ya entran casi en una categoría para coleccionistas. A continuación podemos observar como desaparecieron los valores atípicos"
   ]
  },
  {
   "cell_type": "code",
   "execution_count": 1295,
   "metadata": {
    "colab": {
     "base_uri": "https://localhost:8080/",
     "height": 323
    },
    "id": "rXFIdvXKpjeX",
    "outputId": "e56cb08e-55df-4c6c-da4b-c111ac6a2605"
   },
   "outputs": [
    {
     "data": {
      "image/png": "[encoded data removed]",
      "text/plain": [
       "<Figure size 432x360 with 1 Axes>"
      ]
     },
     "metadata": {},
     "output_type": "display_data"
    }
   ],
   "source": [
    "drop_lim(autos_sin_a, 0, 20, 'years_to_bougth')"
   ]
  },
  {
   "cell_type": "markdown",
   "metadata": {
    "id": "h-DORo64xaLo"
   },
   "source": [
    "Ahora bien, haciendo un análisis se considera que el millaje adecuado de un auto de unos 20 años de uso no debería ser superior a las 300000 millas. Es por ello que truncaremos en estos valores. Aún así estamos dejando algúnos atípicos, pero son necesarios para que sea consono con la realidad, ya que hay autos que se usan demasiado por diversos motivos."
   ]
  },
  {
   "cell_type": "code",
   "execution_count": 1296,
   "metadata": {
    "colab": {
     "base_uri": "https://localhost:8080/",
     "height": 322
    },
    "id": "VLtDxjGHuYTB",
    "outputId": "7ade0fb1-1c5e-453a-fa4d-864f32a746ce"
   },
   "outputs": [
    {
     "data": {
      "image/png": "[encoded data removed]",
      "text/plain": [
       "<Figure size 432x360 with 1 Axes>"
      ]
     },
     "metadata": {},
     "output_type": "display_data"
    }
   ],
   "source": [
    "drop_lim(autos_sin_a, 0, 300000, 'odometer')"
   ]
  },
  {
   "cell_type": "markdown",
   "metadata": {
    "id": "GxKgOJ1FyVNn"
   },
   "source": [
    "Ahora bién los cilindros no tiene valores atípicos, y el estado tampoco. O almenos no son nada de que preocuparse."
   ]
  },
  {
   "cell_type": "markdown",
   "metadata": {
    "id": "K3uaecYZjCN3"
   },
   "source": [
    "## Estudiar parámetros principales sin valores atípicos"
   ]
  },
  {
   "cell_type": "markdown",
   "metadata": {
    "id": "wFUkrFAwjCN3"
   },
   "source": [
    "Para realizar un análisis más profundo, se procede a comparar los histogramas sin y con datos atípicos. Para ello se crea una función que muestra ambos en un mismo plot."
   ]
  },
  {
   "cell_type": "code",
   "execution_count": 1297,
   "metadata": {
    "id": "lO-hz336jCN3"
   },
   "outputs": [],
   "source": [
    "def graficos_hist(colums):\n",
    "  fig, ax = plt.subplots(1,2)\n",
    "  fig.set_size_inches(10,5)\n",
    "\n",
    "  ax[0].set_title(f'Columna: \"{colums}\" con atípicos')\n",
    "  ax[0].hist(autos[colums] ,bins = 50)\n",
    "\n",
    "  ax[1].set_title(f'Columna: \"{colums}\" sin atípicos')\n",
    "  ax[1].hist(autos_sin_a[colums] ,bins = 50)\n",
    "  plt.show()"
   ]
  },
  {
   "cell_type": "markdown",
   "metadata": {
    "id": "RxTmtjUQAioI"
   },
   "source": [
    "Primero analizamos el precio."
   ]
  },
  {
   "cell_type": "code",
   "execution_count": 1298,
   "metadata": {
    "colab": {
     "base_uri": "https://localhost:8080/",
     "height": 338
    },
    "id": "eQosR-cV841l",
    "outputId": "a349888c-95fa-407b-9b56-63160ee0bdcb"
   },
   "outputs": [
    {
     "data": {
      "image/png": "[encoded data removed]",
      "text/plain": [
       "<Figure size 720x360 with 2 Axes>"
      ]
     },
     "metadata": {},
     "output_type": "display_data"
    }
   ],
   "source": [
    "graficos_hist('price')"
   ]
  },
  {
   "cell_type": "markdown",
   "metadata": {
    "id": "HyKVhxFxApjL"
   },
   "source": [
    "Se visualiza como ahora no tenemos los valores inferiores a 1000, lo cual hace sentido, ya que los autos por lo genral son costosos. Así mismo eliminamos los autos exceivamente caros, que son ya de un target muy alto, que muy pocas personas pueden permitirse."
   ]
  },
  {
   "cell_type": "markdown",
   "metadata": {
    "id": "xjOknv7lBJv4"
   },
   "source": [
    "Ahora estudiamos los años del auto en el mercado"
   ]
  },
  {
   "cell_type": "code",
   "execution_count": 1299,
   "metadata": {
    "colab": {
     "base_uri": "https://localhost:8080/",
     "height": 338
    },
    "id": "e-wxdFkf9Hts",
    "outputId": "755475b9-1795-49a7-d67a-9a43897400ef"
   },
   "outputs": [
    {
     "data": {
      "image/png": "[encoded data removed]",
      "text/plain": [
       "<Figure size 720x360 with 2 Axes>"
      ]
     },
     "metadata": {},
     "output_type": "display_data"
    }
   ],
   "source": [
    "graficos_hist('years_to_bougth')\n"
   ]
  },
  {
   "cell_type": "markdown",
   "metadata": {
    "id": "NO07ZhoFBW34"
   },
   "source": [
    "Como podemos observar, ahora si se muetra la discretización característica de los datos de años concretos. Y eliminamos los valores de los autos que son más antiguos, permitiendionos ver como que existen varios autos con menos de 5 años en el mercado, bastante nuevos y atractivos para los consumidores. De no haberlos segmentado, esto pudo ser dificil de ver."
   ]
  },
  {
   "cell_type": "markdown",
   "metadata": {
    "id": "OC6FhSokCbfY"
   },
   "source": [
    "Por último, se estudia el millaje de los autos."
   ]
  },
  {
   "cell_type": "code",
   "execution_count": 1300,
   "metadata": {
    "colab": {
     "base_uri": "https://localhost:8080/",
     "height": 351
    },
    "id": "Wb019ySy_pKz",
    "outputId": "8a825d12-7be1-4832-f28d-b4be50f8fc61"
   },
   "outputs": [
    {
     "data": {
      "image/png": "[encoded data removed]",
      "text/plain": [
       "<Figure size 720x360 with 2 Axes>"
      ]
     },
     "metadata": {},
     "output_type": "display_data"
    }
   ],
   "source": [
    "graficos_hist('odometer')"
   ]
  },
  {
   "cell_type": "markdown",
   "metadata": {
    "id": "ew5oBOrCDW73"
   },
   "source": [
    "Se logran observar autos que van desde 0 kilómetros, hasta 300000, donde hay una clara tendencia de vender los autosluego de recorrer 115553 millas. (Este dato tan exacto se obtuvo del describe hecho anteriormente) Se evidencia un posible error en la data, ya que millajes superiores a los 400000 millas, es algo incluso dificil de lograr."
   ]
  },
  {
   "cell_type": "markdown",
   "metadata": {
    "id": "3yFpAYUqjCN4"
   },
   "source": [
    "## Periodo de colocación de los anuncios\n",
    "\n",
    "Para poder determinar el periodo de colocación habitual de un anuncio, primero debemos determinar en nuestro dataframe sin atípicos cual es la media y mediana general dentro de `days_listed`,luego se debe establecer un criterio que permita estudiar que ¿Que hace que se venda rápido un auto? ¿su kilometraje? ¿su color? ¿su precio? ¿su modelo? Y de esta manera tamabién saber cuando el tiempo fue anormalemnete corto o largo. Esto es lo que vamos a estudiar a continuación "
   ]
  },
  {
   "cell_type": "markdown",
   "metadata": {
    "id": "hDSOEETZKcsp"
   },
   "source": [
    "Primeramente observamos la media y mediana general:"
   ]
  },
  {
   "cell_type": "code",
   "execution_count": 1301,
   "metadata": {
    "colab": {
     "base_uri": "https://localhost:8080/"
    },
    "id": "XOzXNBRTjCN4",
    "outputId": "6b8c3634-f5a2-4ef9-90a8-3d051a2c3714"
   },
   "outputs": [
    {
     "data": {
      "text/plain": [
       "count    48111.00000\n",
       "mean        39.56883\n",
       "std         28.22739\n",
       "min          0.00000\n",
       "25%         19.00000\n",
       "50%         33.00000\n",
       "75%         53.00000\n",
       "max        271.00000\n",
       "Name: days_listed, dtype: float64"
      ]
     },
     "execution_count": 1301,
     "metadata": {},
     "output_type": "execute_result"
    }
   ],
   "source": [
    "autos_sin_a['days_listed'].describe()"
   ]
  },
  {
   "cell_type": "markdown",
   "metadata": {
    "id": "k6Aih1VsK6EQ"
   },
   "source": [
    "Vemos que de media, se tardan aproximadamente 40 días en vender un auto. Sin embargo, La mediana de los valores, está en torno a los 33 días, esto es debido a los valorea típicos presentes en esta distribución. Del mismo modo, podemos ver que existen autos que fueron vendidos de inmediato e incluso algunos que se vendieron luego de meses."
   ]
  },
  {
   "cell_type": "code",
   "execution_count": 1302,
   "metadata": {
    "colab": {
     "base_uri": "https://localhost:8080/",
     "height": 393
    },
    "id": "LSIZK2I2KxNK",
    "outputId": "a0421919-d771-44e5-c51b-32001902eaab"
   },
   "outputs": [
    {
     "data": {
      "image/png": "[encoded data removed]",
      "text/plain": [
       "<Figure size 720x432 with 1 Axes>"
      ]
     },
     "metadata": {},
     "output_type": "display_data"
    }
   ],
   "source": [
    "autos_sin_a.hist('days_listed', bins = 50, figsize = (10,6))\n",
    "plt.show()\n"
   ]
  },
  {
   "cell_type": "code",
   "execution_count": 1303,
   "metadata": {
    "colab": {
     "base_uri": "https://localhost:8080/",
     "height": 432
    },
    "id": "65uNVnh3L_5K",
    "outputId": "41c2f430-f766-43df-ea6a-f60ec51e9da0"
   },
   "outputs": [
    {
     "data": {
      "image/png": "[encoded data removed]",
      "text/plain": [
       "<Figure size 720x504 with 1 Axes>"
      ]
     },
     "metadata": {},
     "output_type": "display_data"
    }
   ],
   "source": [
    "autos_sin_a.boxplot('days_listed',figsize = (10,7))\n",
    "plt.show()"
   ]
  },
  {
   "cell_type": "markdown",
   "metadata": {
    "id": "vG9n9vilNEN6"
   },
   "source": [
    "De estos gráficos podemos observar que los valores por encima de los 100 días ya se consideran atípicos, es decir, un auto debería venderse en menos de 3 meses, de lo contrario, incluso el 75% de ellos se vende en menos de 2, de no se así, algo sucede. Eso es lo que se pretende estudiar a continuación."
   ]
  },
  {
   "cell_type": "code",
   "execution_count": 1304,
   "metadata": {
    "colab": {
     "base_uri": "https://localhost:8080/",
     "height": 394
    },
    "id": "JbaaWHkCYYej",
    "outputId": "267fd4ec-5afa-4abf-dba9-4c1a0143e92a"
   },
   "outputs": [
    {
     "data": {
      "text/html": [
       "\n",
       "  <div id=\"df-9293f3b5-1c7f-4f46-8ee3-888c2117853c\">\n",
       "    <div class=\"colab-df-container\">\n",
       "      <div>\n",
       "<style scoped>\n",
       "    .dataframe tbody tr th:only-of-type {\n",
       "        vertical-align: middle;\n",
       "    }\n",
       "\n",
       "    .dataframe tbody tr th {\n",
       "        vertical-align: top;\n",
       "    }\n",
       "\n",
       "    .dataframe thead th {\n",
       "        text-align: right;\n",
       "    }\n",
       "</style>\n",
       "<table border=\"1\" class=\"dataframe\">\n",
       "  <thead>\n",
       "    <tr style=\"text-align: right;\">\n",
       "      <th></th>\n",
       "      <th>days_listed</th>\n",
       "      <th>odometer</th>\n",
       "      <th>price</th>\n",
       "    </tr>\n",
       "    <tr>\n",
       "      <th>model</th>\n",
       "      <th></th>\n",
       "      <th></th>\n",
       "      <th></th>\n",
       "    </tr>\n",
       "  </thead>\n",
       "  <tbody>\n",
       "    <tr>\n",
       "      <th>dodge dakota</th>\n",
       "      <td>35.487805</td>\n",
       "      <td>142497.171504</td>\n",
       "      <td>5360.600000</td>\n",
       "    </tr>\n",
       "    <tr>\n",
       "      <th>ford f250</th>\n",
       "      <td>36.193333</td>\n",
       "      <td>131100.615162</td>\n",
       "      <td>18076.046667</td>\n",
       "    </tr>\n",
       "    <tr>\n",
       "      <th>honda pilot</th>\n",
       "      <td>37.109272</td>\n",
       "      <td>137192.286838</td>\n",
       "      <td>9728.543046</td>\n",
       "    </tr>\n",
       "    <tr>\n",
       "      <th>volkswagen passat</th>\n",
       "      <td>37.233038</td>\n",
       "      <td>90632.204248</td>\n",
       "      <td>8719.185841</td>\n",
       "    </tr>\n",
       "    <tr>\n",
       "      <th>hyundai elantra</th>\n",
       "      <td>37.420673</td>\n",
       "      <td>92624.378729</td>\n",
       "      <td>7461.860577</td>\n",
       "    </tr>\n",
       "    <tr>\n",
       "      <th>nissan maxima</th>\n",
       "      <td>37.512635</td>\n",
       "      <td>106715.501842</td>\n",
       "      <td>7843.678700</td>\n",
       "    </tr>\n",
       "    <tr>\n",
       "      <th>nissan altima</th>\n",
       "      <td>37.585897</td>\n",
       "      <td>106989.852794</td>\n",
       "      <td>7229.934615</td>\n",
       "    </tr>\n",
       "    <tr>\n",
       "      <th>ford f250 super duty</th>\n",
       "      <td>37.617391</td>\n",
       "      <td>137761.739382</td>\n",
       "      <td>15611.426087</td>\n",
       "    </tr>\n",
       "    <tr>\n",
       "      <th>chevrolet camaro</th>\n",
       "      <td>37.792517</td>\n",
       "      <td>77620.043715</td>\n",
       "      <td>15119.197279</td>\n",
       "    </tr>\n",
       "    <tr>\n",
       "      <th>ford edge</th>\n",
       "      <td>37.869565</td>\n",
       "      <td>105904.347438</td>\n",
       "      <td>12206.442935</td>\n",
       "    </tr>\n",
       "  </tbody>\n",
       "</table>\n",
       "</div>\n",
       "      <button class=\"colab-df-convert\" onclick=\"convertToInteractive('df-9293f3b5-1c7f-4f46-8ee3-888c2117853c')\"\n",
       "              title=\"Convert this dataframe to an interactive table.\"\n",
       "              style=\"display:none;\">\n",
       "        \n",
       "  <svg xmlns=\"http://www.w3.org/2000/svg\" height=\"24px\"viewBox=\"0 0 24 24\"\n",
       "       width=\"24px\">\n",
       "    <path d=\"M0 0h24v24H0V0z\" fill=\"none\"/>\n",
       "    <path d=\"M18.56 5.44l.94 2.06.94-2.06 2.06-.94-2.06-.94-.94-2.06-.94 2.06-2.06.94zm-11 1L8.5 8.5l.94-2.06 2.06-.94-2.06-.94L8.5 2.5l-.94 2.06-2.06.94zm10 10l.94 2.06.94-2.06 2.06-.94-2.06-.94-.94-2.06-.94 2.06-2.06.94z\"/><path d=\"M17.41 7.96l-1.37-1.37c-.4-.4-.92-.59-1.43-.59-.52 0-1.04.2-1.43.59L10.3 9.45l-7.72 7.72c-.78.78-.78 2.05 0 2.83L4 21.41c.39.39.9.59 1.41.59.51 0 1.02-.2 1.41-.59l7.78-7.78 2.81-2.81c.8-.78.8-2.07 0-2.86zM5.41 20L4 18.59l7.72-7.72 1.47 1.35L5.41 20z\"/>\n",
       "  </svg>\n",
       "      </button>\n",
       "      \n",
       "  <style>\n",
       "    .colab-df-container {\n",
       "      display:flex;\n",
       "      flex-wrap:wrap;\n",
       "      gap: 12px;\n",
       "    }\n",
       "\n",
       "    .colab-df-convert {\n",
       "      background-color: #E8F0FE;\n",
       "      border: none;\n",
       "      border-radius: 50%;\n",
       "      cursor: pointer;\n",
       "      display: none;\n",
       "      fill: #1967D2;\n",
       "      height: 32px;\n",
       "      padding: 0 0 0 0;\n",
       "      width: 32px;\n",
       "    }\n",
       "\n",
       "    .colab-df-convert:hover {\n",
       "      background-color: #E2EBFA;\n",
       "      box-shadow: 0px 1px 2px rgba(60, 64, 67, 0.3), 0px 1px 3px 1px rgba(60, 64, 67, 0.15);\n",
       "      fill: #174EA6;\n",
       "    }\n",
       "\n",
       "    [theme=dark] .colab-df-convert {\n",
       "      background-color: #3B4455;\n",
       "      fill: #D2E3FC;\n",
       "    }\n",
       "\n",
       "    [theme=dark] .colab-df-convert:hover {\n",
       "      background-color: #434B5C;\n",
       "      box-shadow: 0px 1px 3px 1px rgba(0, 0, 0, 0.15);\n",
       "      filter: drop-shadow(0px 1px 2px rgba(0, 0, 0, 0.3));\n",
       "      fill: #FFFFFF;\n",
       "    }\n",
       "  </style>\n",
       "\n",
       "      <script>\n",
       "        const buttonEl =\n",
       "          document.querySelector('#df-9293f3b5-1c7f-4f46-8ee3-888c2117853c button.colab-df-convert');\n",
       "        buttonEl.style.display =\n",
       "          google.colab.kernel.accessAllowed ? 'block' : 'none';\n",
       "\n",
       "        async function convertToInteractive(key) {\n",
       "          const element = document.querySelector('#df-9293f3b5-1c7f-4f46-8ee3-888c2117853c');\n",
       "          const dataTable =\n",
       "            await google.colab.kernel.invokeFunction('convertToInteractive',\n",
       "                                                     [key], {});\n",
       "          if (!dataTable) return;\n",
       "\n",
       "          const docLinkHtml = 'Like what you see? Visit the ' +\n",
       "            '<a target=\"_blank\" href=https://colab.research.google.com/notebooks/data_table.ipynb>data table notebook</a>'\n",
       "            + ' to learn more about interactive tables.';\n",
       "          element.innerHTML = '';\n",
       "          dataTable['output_type'] = 'display_data';\n",
       "          await google.colab.output.renderOutput(dataTable, element);\n",
       "          const docLink = document.createElement('div');\n",
       "          docLink.innerHTML = docLinkHtml;\n",
       "          element.appendChild(docLink);\n",
       "        }\n",
       "      </script>\n",
       "    </div>\n",
       "  </div>\n",
       "  "
      ],
      "text/plain": [
       "                      days_listed       odometer         price\n",
       "model                                                         \n",
       "dodge dakota            35.487805  142497.171504   5360.600000\n",
       "ford f250               36.193333  131100.615162  18076.046667\n",
       "honda pilot             37.109272  137192.286838   9728.543046\n",
       "volkswagen passat       37.233038   90632.204248   8719.185841\n",
       "hyundai elantra         37.420673   92624.378729   7461.860577\n",
       "nissan maxima           37.512635  106715.501842   7843.678700\n",
       "nissan altima           37.585897  106989.852794   7229.934615\n",
       "ford f250 super duty    37.617391  137761.739382  15611.426087\n",
       "chevrolet camaro        37.792517   77620.043715  15119.197279\n",
       "ford edge               37.869565  105904.347438  12206.442935"
      ]
     },
     "execution_count": 1304,
     "metadata": {},
     "output_type": "execute_result"
    }
   ],
   "source": [
    "autos_mas_vendidos = autos_sin_a.pivot_table(index = 'model', values = ['days_listed','price','odometer']).sort_values(by = 'days_listed')\n",
    "autos_mas_vendidos.head(10)"
   ]
  },
  {
   "cell_type": "code",
   "execution_count": 1305,
   "metadata": {
    "colab": {
     "base_uri": "https://localhost:8080/",
     "height": 530
    },
    "id": "T6uhYGN1bbpt",
    "outputId": "5a37e3e1-d17a-48a3-dde3-dcdff1303990"
   },
   "outputs": [
    {
     "data": {
      "image/png": "[encoded data removed]",
      "text/plain": [
       "<Figure size 1512x360 with 1 Axes>"
      ]
     },
     "metadata": {},
     "output_type": "display_data"
    }
   ],
   "source": [
    "autos_mas_vendidos.plot(kind = 'bar', y ='days_listed', figsize = (21,5))\n",
    "plt.show()"
   ]
  },
  {
   "cell_type": "markdown",
   "metadata": {
    "id": "D8DqLHzlZooW"
   },
   "source": [
    "Aquí podemos observar cuales on los modelos de autos que se vendieron más rápidamente, y cual fue su precio medio. Podemos ver que en su mayoría son económicos y tienen bajo kilometraje. Sin embargo, esta infomación no es demasiado util, ya que la diferencia entre el máximo y el mínimo de días es solo de 5 en promedio."
   ]
  },
  {
   "cell_type": "markdown",
   "metadata": {
    "id": "GlAKgZBhjCN4"
   },
   "source": [
    "## Precio promedio por cada tipo de vehículo"
   ]
  },
  {
   "cell_type": "markdown",
   "metadata": {
    "id": "XADEUSO8jCN5"
   },
   "source": [
    "A continuación se procede a analizar, el precio promedio según la marca de los vehículos y cuantos anuncios de estos se mostraron, para con ello poder saber qeu modelo es el más vendido y cual fué su precio. "
   ]
  },
  {
   "cell_type": "code",
   "execution_count": 1306,
   "metadata": {
    "colab": {
     "base_uri": "https://localhost:8080/",
     "height": 394
    },
    "id": "CdniFwqljCN6",
    "outputId": "ea2bc715-4161-4d4e-bc07-4f6f805f2354"
   },
   "outputs": [
    {
     "data": {
      "text/html": [
       "\n",
       "  <div id=\"df-ba57dc75-2b3f-40a7-a236-953375e40b3d\">\n",
       "    <div class=\"colab-df-container\">\n",
       "      <div>\n",
       "<style scoped>\n",
       "    .dataframe tbody tr th:only-of-type {\n",
       "        vertical-align: middle;\n",
       "    }\n",
       "\n",
       "    .dataframe tbody tr th {\n",
       "        vertical-align: top;\n",
       "    }\n",
       "\n",
       "    .dataframe thead th {\n",
       "        text-align: right;\n",
       "    }\n",
       "</style>\n",
       "<table border=\"1\" class=\"dataframe\">\n",
       "  <thead>\n",
       "    <tr style=\"text-align: right;\">\n",
       "      <th></th>\n",
       "      <th>mean_price</th>\n",
       "      <th>ad_number</th>\n",
       "    </tr>\n",
       "    <tr>\n",
       "      <th>model</th>\n",
       "      <th></th>\n",
       "      <th></th>\n",
       "    </tr>\n",
       "  </thead>\n",
       "  <tbody>\n",
       "    <tr>\n",
       "      <th>ford f-150</th>\n",
       "      <td>14505.753792</td>\n",
       "      <td>2571</td>\n",
       "    </tr>\n",
       "    <tr>\n",
       "      <th>chevrolet silverado 1500</th>\n",
       "      <td>16005.617154</td>\n",
       "      <td>2087</td>\n",
       "    </tr>\n",
       "    <tr>\n",
       "      <th>ram 1500</th>\n",
       "      <td>15056.571862</td>\n",
       "      <td>1649</td>\n",
       "    </tr>\n",
       "    <tr>\n",
       "      <th>chevrolet silverado</th>\n",
       "      <td>14804.300870</td>\n",
       "      <td>1150</td>\n",
       "    </tr>\n",
       "    <tr>\n",
       "      <th>ram 2500</th>\n",
       "      <td>22539.033673</td>\n",
       "      <td>980</td>\n",
       "    </tr>\n",
       "    <tr>\n",
       "      <th>jeep wrangler</th>\n",
       "      <td>16899.216017</td>\n",
       "      <td>949</td>\n",
       "    </tr>\n",
       "    <tr>\n",
       "      <th>toyota camry</th>\n",
       "      <td>7246.932476</td>\n",
       "      <td>933</td>\n",
       "    </tr>\n",
       "    <tr>\n",
       "      <th>honda accord</th>\n",
       "      <td>6685.634066</td>\n",
       "      <td>910</td>\n",
       "    </tr>\n",
       "    <tr>\n",
       "      <th>chevrolet silverado 2500hd</th>\n",
       "      <td>19145.815851</td>\n",
       "      <td>858</td>\n",
       "    </tr>\n",
       "    <tr>\n",
       "      <th>gmc sierra 1500</th>\n",
       "      <td>16725.135135</td>\n",
       "      <td>851</td>\n",
       "    </tr>\n",
       "  </tbody>\n",
       "</table>\n",
       "</div>\n",
       "      <button class=\"colab-df-convert\" onclick=\"convertToInteractive('df-ba57dc75-2b3f-40a7-a236-953375e40b3d')\"\n",
       "              title=\"Convert this dataframe to an interactive table.\"\n",
       "              style=\"display:none;\">\n",
       "        \n",
       "  <svg xmlns=\"http://www.w3.org/2000/svg\" height=\"24px\"viewBox=\"0 0 24 24\"\n",
       "       width=\"24px\">\n",
       "    <path d=\"M0 0h24v24H0V0z\" fill=\"none\"/>\n",
       "    <path d=\"M18.56 5.44l.94 2.06.94-2.06 2.06-.94-2.06-.94-.94-2.06-.94 2.06-2.06.94zm-11 1L8.5 8.5l.94-2.06 2.06-.94-2.06-.94L8.5 2.5l-.94 2.06-2.06.94zm10 10l.94 2.06.94-2.06 2.06-.94-2.06-.94-.94-2.06-.94 2.06-2.06.94z\"/><path d=\"M17.41 7.96l-1.37-1.37c-.4-.4-.92-.59-1.43-.59-.52 0-1.04.2-1.43.59L10.3 9.45l-7.72 7.72c-.78.78-.78 2.05 0 2.83L4 21.41c.39.39.9.59 1.41.59.51 0 1.02-.2 1.41-.59l7.78-7.78 2.81-2.81c.8-.78.8-2.07 0-2.86zM5.41 20L4 18.59l7.72-7.72 1.47 1.35L5.41 20z\"/>\n",
       "  </svg>\n",
       "      </button>\n",
       "      \n",
       "  <style>\n",
       "    .colab-df-container {\n",
       "      display:flex;\n",
       "      flex-wrap:wrap;\n",
       "      gap: 12px;\n",
       "    }\n",
       "\n",
       "    .colab-df-convert {\n",
       "      background-color: #E8F0FE;\n",
       "      border: none;\n",
       "      border-radius: 50%;\n",
       "      cursor: pointer;\n",
       "      display: none;\n",
       "      fill: #1967D2;\n",
       "      height: 32px;\n",
       "      padding: 0 0 0 0;\n",
       "      width: 32px;\n",
       "    }\n",
       "\n",
       "    .colab-df-convert:hover {\n",
       "      background-color: #E2EBFA;\n",
       "      box-shadow: 0px 1px 2px rgba(60, 64, 67, 0.3), 0px 1px 3px 1px rgba(60, 64, 67, 0.15);\n",
       "      fill: #174EA6;\n",
       "    }\n",
       "\n",
       "    [theme=dark] .colab-df-convert {\n",
       "      background-color: #3B4455;\n",
       "      fill: #D2E3FC;\n",
       "    }\n",
       "\n",
       "    [theme=dark] .colab-df-convert:hover {\n",
       "      background-color: #434B5C;\n",
       "      box-shadow: 0px 1px 3px 1px rgba(0, 0, 0, 0.15);\n",
       "      filter: drop-shadow(0px 1px 2px rgba(0, 0, 0, 0.3));\n",
       "      fill: #FFFFFF;\n",
       "    }\n",
       "  </style>\n",
       "\n",
       "      <script>\n",
       "        const buttonEl =\n",
       "          document.querySelector('#df-ba57dc75-2b3f-40a7-a236-953375e40b3d button.colab-df-convert');\n",
       "        buttonEl.style.display =\n",
       "          google.colab.kernel.accessAllowed ? 'block' : 'none';\n",
       "\n",
       "        async function convertToInteractive(key) {\n",
       "          const element = document.querySelector('#df-ba57dc75-2b3f-40a7-a236-953375e40b3d');\n",
       "          const dataTable =\n",
       "            await google.colab.kernel.invokeFunction('convertToInteractive',\n",
       "                                                     [key], {});\n",
       "          if (!dataTable) return;\n",
       "\n",
       "          const docLinkHtml = 'Like what you see? Visit the ' +\n",
       "            '<a target=\"_blank\" href=https://colab.research.google.com/notebooks/data_table.ipynb>data table notebook</a>'\n",
       "            + ' to learn more about interactive tables.';\n",
       "          element.innerHTML = '';\n",
       "          dataTable['output_type'] = 'display_data';\n",
       "          await google.colab.output.renderOutput(dataTable, element);\n",
       "          const docLink = document.createElement('div');\n",
       "          docLink.innerHTML = docLinkHtml;\n",
       "          element.appendChild(docLink);\n",
       "        }\n",
       "      </script>\n",
       "    </div>\n",
       "  </div>\n",
       "  "
      ],
      "text/plain": [
       "                              mean_price  ad_number\n",
       "model                                              \n",
       "ford f-150                  14505.753792       2571\n",
       "chevrolet silverado 1500    16005.617154       2087\n",
       "ram 1500                    15056.571862       1649\n",
       "chevrolet silverado         14804.300870       1150\n",
       "ram 2500                    22539.033673        980\n",
       "jeep wrangler               16899.216017        949\n",
       "toyota camry                 7246.932476        933\n",
       "honda accord                 6685.634066        910\n",
       "chevrolet silverado 2500hd  19145.815851        858\n",
       "gmc sierra 1500             16725.135135        851"
      ]
     },
     "execution_count": 1306,
     "metadata": {},
     "output_type": "execute_result"
    }
   ],
   "source": [
    "autos_modelo = autos_sin_a.pivot_table(index = 'model', values = 'price', aggfunc = ['mean','count'])\n",
    "autos_modelo.columns = ['mean_price','ad_number']\n",
    "autos_modelo = autos_modelo.sort_values(by = 'ad_number', ascending = False )\n",
    "autos_modelo.head(10)"
   ]
  },
  {
   "cell_type": "markdown",
   "metadata": {
    "id": "Vrgr7jF0V95H"
   },
   "source": [
    "Podemos ver que los dos vehículos con más anuncios son el `ford f-150` y el `chevrolet silverado 1500` con un precio de 14505 y 16005 respectivamente. Podemos ver su dependencia en la siguiente gráfica."
   ]
  },
  {
   "cell_type": "code",
   "execution_count": 1307,
   "metadata": {
    "colab": {
     "base_uri": "https://localhost:8080/",
     "height": 530
    },
    "id": "whAnjJW4SVXZ",
    "outputId": "015702ab-c5be-4ee0-ead3-8d44c3c1dda7"
   },
   "outputs": [
    {
     "data": {
      "image/png": "[encoded data removed]",
      "text/plain": [
       "<Figure size 1512x360 with 1 Axes>"
      ]
     },
     "metadata": {},
     "output_type": "display_data"
    }
   ],
   "source": [
    "autos_modelo.plot(kind = 'bar', y ='ad_number', figsize = (21,5))\n",
    "plt.show()"
   ]
  },
  {
   "cell_type": "markdown",
   "metadata": {
    "id": "KKzO1QVaWhJI"
   },
   "source": [
    "Del mismo modo se procede a estudiar la correlación entre el precio medio y la cantidad de autos vendidos, para determinar si esto es algo a considrar o no."
   ]
  },
  {
   "cell_type": "code",
   "execution_count": 1308,
   "metadata": {
    "colab": {
     "base_uri": "https://localhost:8080/",
     "height": 572
    },
    "id": "jZR9599HQqQx",
    "outputId": "b499bfcb-9a3d-45fb-ec25-93a078d31855"
   },
   "outputs": [
    {
     "data": {
      "image/png": "[encoded data removed]",
      "text/plain": [
       "<Figure size 648x648 with 4 Axes>"
      ]
     },
     "metadata": {},
     "output_type": "display_data"
    }
   ],
   "source": [
    "pd.plotting.scatter_matrix(autos_modelo, figsize=(9, 9), grid = True)\n",
    "plt.show()"
   ]
  },
  {
   "cell_type": "markdown",
   "metadata": {
    "id": "jAHQdvs_WuJf"
   },
   "source": [
    "Como podemos ver, no hay una clara correlación, por lo que el precio no es la única variable que consideran los individuos a la hora de comprar un auto."
   ]
  },
  {
   "cell_type": "markdown",
   "metadata": {
    "id": "LEAnvhNEjCN6"
   },
   "source": [
    "## Factores de precio"
   ]
  },
  {
   "cell_type": "markdown",
   "metadata": {
    "id": "nvH2atQUjCN6"
   },
   "source": [
    "Para poder determinar ¿Qué factores impactan más sobre el precio?, se va a estudiar el mismo con respecto a diversos factores como la edad, millaje, condición, tipo de transmisión, color, entre otros. Para las variables numéricas, se estudiarán los valores por medio de matrices y graficos de correlación. Mientras que las categóricas se analizarán por medio de las tablas y los gráficos de caja y bigotes."
   ]
  },
  {
   "cell_type": "markdown",
   "metadata": {
    "id": "8UYvLjTqjCN7"
   },
   "source": [
    "Primeramente se crea la tabla con la que se estudiarán las matrices y gráficos de disperción."
   ]
  },
  {
   "cell_type": "code",
   "execution_count": 1309,
   "metadata": {
    "colab": {
     "base_uri": "https://localhost:8080/",
     "height": 363
    },
    "id": "EbRClUoMjCN7",
    "outputId": "5979bdd4-cc39-435b-ec79-9059f7b07bb0"
   },
   "outputs": [
    {
     "data": {
      "text/html": [
       "\n",
       "  <div id=\"df-e40dbcdb-b897-43c6-b494-f3f3ac84b7ba\">\n",
       "    <div class=\"colab-df-container\">\n",
       "      <div>\n",
       "<style scoped>\n",
       "    .dataframe tbody tr th:only-of-type {\n",
       "        vertical-align: middle;\n",
       "    }\n",
       "\n",
       "    .dataframe tbody tr th {\n",
       "        vertical-align: top;\n",
       "    }\n",
       "\n",
       "    .dataframe thead th {\n",
       "        text-align: right;\n",
       "    }\n",
       "</style>\n",
       "<table border=\"1\" class=\"dataframe\">\n",
       "  <thead>\n",
       "    <tr style=\"text-align: right;\">\n",
       "      <th></th>\n",
       "      <th>model</th>\n",
       "      <th>days_listed</th>\n",
       "      <th>odometer</th>\n",
       "      <th>odometer_mean</th>\n",
       "      <th>years_to_bougth</th>\n",
       "      <th>mean_price</th>\n",
       "      <th>ad_number</th>\n",
       "    </tr>\n",
       "  </thead>\n",
       "  <tbody>\n",
       "    <tr>\n",
       "      <th>32</th>\n",
       "      <td>ford f-150</td>\n",
       "      <td>38.677946</td>\n",
       "      <td>122686.089818</td>\n",
       "      <td>20139.951589</td>\n",
       "      <td>8.185744</td>\n",
       "      <td>14505.753792</td>\n",
       "      <td>2571</td>\n",
       "    </tr>\n",
       "    <tr>\n",
       "      <th>13</th>\n",
       "      <td>chevrolet silverado 1500</td>\n",
       "      <td>39.122664</td>\n",
       "      <td>117878.377199</td>\n",
       "      <td>20696.717989</td>\n",
       "      <td>7.611284</td>\n",
       "      <td>16005.617154</td>\n",
       "      <td>2087</td>\n",
       "    </tr>\n",
       "    <tr>\n",
       "      <th>82</th>\n",
       "      <td>ram 1500</td>\n",
       "      <td>39.388114</td>\n",
       "      <td>110993.473372</td>\n",
       "      <td>21175.318718</td>\n",
       "      <td>7.436482</td>\n",
       "      <td>15056.571862</td>\n",
       "      <td>1649</td>\n",
       "    </tr>\n",
       "    <tr>\n",
       "      <th>12</th>\n",
       "      <td>chevrolet silverado</td>\n",
       "      <td>40.806957</td>\n",
       "      <td>124800.230264</td>\n",
       "      <td>18274.955317</td>\n",
       "      <td>9.111637</td>\n",
       "      <td>14804.300870</td>\n",
       "      <td>1150</td>\n",
       "    </tr>\n",
       "    <tr>\n",
       "      <th>83</th>\n",
       "      <td>ram 2500</td>\n",
       "      <td>41.467347</td>\n",
       "      <td>130139.939359</td>\n",
       "      <td>23109.895115</td>\n",
       "      <td>8.394475</td>\n",
       "      <td>22539.033673</td>\n",
       "      <td>980</td>\n",
       "    </tr>\n",
       "    <tr>\n",
       "      <th>69</th>\n",
       "      <td>jeep wrangler</td>\n",
       "      <td>39.774499</td>\n",
       "      <td>103012.576996</td>\n",
       "      <td>14647.073356</td>\n",
       "      <td>9.598416</td>\n",
       "      <td>16899.216017</td>\n",
       "      <td>949</td>\n",
       "    </tr>\n",
       "    <tr>\n",
       "      <th>89</th>\n",
       "      <td>toyota camry</td>\n",
       "      <td>39.390139</td>\n",
       "      <td>124795.511200</td>\n",
       "      <td>16942.100411</td>\n",
       "      <td>9.396141</td>\n",
       "      <td>7246.932476</td>\n",
       "      <td>933</td>\n",
       "    </tr>\n",
       "    <tr>\n",
       "      <th>56</th>\n",
       "      <td>honda accord</td>\n",
       "      <td>39.009890</td>\n",
       "      <td>124744.066641</td>\n",
       "      <td>15643.695078</td>\n",
       "      <td>9.644658</td>\n",
       "      <td>6685.634066</td>\n",
       "      <td>910</td>\n",
       "    </tr>\n",
       "    <tr>\n",
       "      <th>15</th>\n",
       "      <td>chevrolet silverado 2500hd</td>\n",
       "      <td>38.187646</td>\n",
       "      <td>136984.194490</td>\n",
       "      <td>21294.506492</td>\n",
       "      <td>8.806452</td>\n",
       "      <td>19145.815851</td>\n",
       "      <td>858</td>\n",
       "    </tr>\n",
       "    <tr>\n",
       "      <th>53</th>\n",
       "      <td>gmc sierra 1500</td>\n",
       "      <td>41.754407</td>\n",
       "      <td>118089.208111</td>\n",
       "      <td>20063.454913</td>\n",
       "      <td>7.821473</td>\n",
       "      <td>16725.135135</td>\n",
       "      <td>851</td>\n",
       "    </tr>\n",
       "  </tbody>\n",
       "</table>\n",
       "</div>\n",
       "      <button class=\"colab-df-convert\" onclick=\"convertToInteractive('df-e40dbcdb-b897-43c6-b494-f3f3ac84b7ba')\"\n",
       "              title=\"Convert this dataframe to an interactive table.\"\n",
       "              style=\"display:none;\">\n",
       "        \n",
       "  <svg xmlns=\"http://www.w3.org/2000/svg\" height=\"24px\"viewBox=\"0 0 24 24\"\n",
       "       width=\"24px\">\n",
       "    <path d=\"M0 0h24v24H0V0z\" fill=\"none\"/>\n",
       "    <path d=\"M18.56 5.44l.94 2.06.94-2.06 2.06-.94-2.06-.94-.94-2.06-.94 2.06-2.06.94zm-11 1L8.5 8.5l.94-2.06 2.06-.94-2.06-.94L8.5 2.5l-.94 2.06-2.06.94zm10 10l.94 2.06.94-2.06 2.06-.94-2.06-.94-.94-2.06-.94 2.06-2.06.94z\"/><path d=\"M17.41 7.96l-1.37-1.37c-.4-.4-.92-.59-1.43-.59-.52 0-1.04.2-1.43.59L10.3 9.45l-7.72 7.72c-.78.78-.78 2.05 0 2.83L4 21.41c.39.39.9.59 1.41.59.51 0 1.02-.2 1.41-.59l7.78-7.78 2.81-2.81c.8-.78.8-2.07 0-2.86zM5.41 20L4 18.59l7.72-7.72 1.47 1.35L5.41 20z\"/>\n",
       "  </svg>\n",
       "      </button>\n",
       "      \n",
       "  <style>\n",
       "    .colab-df-container {\n",
       "      display:flex;\n",
       "      flex-wrap:wrap;\n",
       "      gap: 12px;\n",
       "    }\n",
       "\n",
       "    .colab-df-convert {\n",
       "      background-color: #E8F0FE;\n",
       "      border: none;\n",
       "      border-radius: 50%;\n",
       "      cursor: pointer;\n",
       "      display: none;\n",
       "      fill: #1967D2;\n",
       "      height: 32px;\n",
       "      padding: 0 0 0 0;\n",
       "      width: 32px;\n",
       "    }\n",
       "\n",
       "    .colab-df-convert:hover {\n",
       "      background-color: #E2EBFA;\n",
       "      box-shadow: 0px 1px 2px rgba(60, 64, 67, 0.3), 0px 1px 3px 1px rgba(60, 64, 67, 0.15);\n",
       "      fill: #174EA6;\n",
       "    }\n",
       "\n",
       "    [theme=dark] .colab-df-convert {\n",
       "      background-color: #3B4455;\n",
       "      fill: #D2E3FC;\n",
       "    }\n",
       "\n",
       "    [theme=dark] .colab-df-convert:hover {\n",
       "      background-color: #434B5C;\n",
       "      box-shadow: 0px 1px 3px 1px rgba(0, 0, 0, 0.15);\n",
       "      filter: drop-shadow(0px 1px 2px rgba(0, 0, 0, 0.3));\n",
       "      fill: #FFFFFF;\n",
       "    }\n",
       "  </style>\n",
       "\n",
       "      <script>\n",
       "        const buttonEl =\n",
       "          document.querySelector('#df-e40dbcdb-b897-43c6-b494-f3f3ac84b7ba button.colab-df-convert');\n",
       "        buttonEl.style.display =\n",
       "          google.colab.kernel.accessAllowed ? 'block' : 'none';\n",
       "\n",
       "        async function convertToInteractive(key) {\n",
       "          const element = document.querySelector('#df-e40dbcdb-b897-43c6-b494-f3f3ac84b7ba');\n",
       "          const dataTable =\n",
       "            await google.colab.kernel.invokeFunction('convertToInteractive',\n",
       "                                                     [key], {});\n",
       "          if (!dataTable) return;\n",
       "\n",
       "          const docLinkHtml = 'Like what you see? Visit the ' +\n",
       "            '<a target=\"_blank\" href=https://colab.research.google.com/notebooks/data_table.ipynb>data table notebook</a>'\n",
       "            + ' to learn more about interactive tables.';\n",
       "          element.innerHTML = '';\n",
       "          dataTable['output_type'] = 'display_data';\n",
       "          await google.colab.output.renderOutput(dataTable, element);\n",
       "          const docLink = document.createElement('div');\n",
       "          docLink.innerHTML = docLinkHtml;\n",
       "          element.appendChild(docLink);\n",
       "        }\n",
       "      </script>\n",
       "    </div>\n",
       "  </div>\n",
       "  "
      ],
      "text/plain": [
       "                         model  days_listed       odometer  odometer_mean  \\\n",
       "32                  ford f-150    38.677946  122686.089818   20139.951589   \n",
       "13    chevrolet silverado 1500    39.122664  117878.377199   20696.717989   \n",
       "82                    ram 1500    39.388114  110993.473372   21175.318718   \n",
       "12         chevrolet silverado    40.806957  124800.230264   18274.955317   \n",
       "83                    ram 2500    41.467347  130139.939359   23109.895115   \n",
       "69               jeep wrangler    39.774499  103012.576996   14647.073356   \n",
       "89                toyota camry    39.390139  124795.511200   16942.100411   \n",
       "56                honda accord    39.009890  124744.066641   15643.695078   \n",
       "15  chevrolet silverado 2500hd    38.187646  136984.194490   21294.506492   \n",
       "53             gmc sierra 1500    41.754407  118089.208111   20063.454913   \n",
       "\n",
       "    years_to_bougth    mean_price  ad_number  \n",
       "32         8.185744  14505.753792       2571  \n",
       "13         7.611284  16005.617154       2087  \n",
       "82         7.436482  15056.571862       1649  \n",
       "12         9.111637  14804.300870       1150  \n",
       "83         8.394475  22539.033673        980  \n",
       "69         9.598416  16899.216017        949  \n",
       "89         9.396141   7246.932476        933  \n",
       "56         9.644658   6685.634066        910  \n",
       "15         8.806452  19145.815851        858  \n",
       "53         7.821473  16725.135135        851  "
      ]
     },
     "execution_count": 1309,
     "metadata": {},
     "output_type": "execute_result"
    }
   ],
   "source": [
    "autos_dependencia = autos_sin_a.pivot_table(index = 'model', values = ['years_to_bougth','odometer','odometer_mean','days_listed'], aggfunc = 'mean').reset_index()\n",
    "autos_modelo = autos_modelo.reset_index()\n",
    "autos_dependencia = autos_dependencia.merge(autos_modelo,on = 'model').sort_values(by = 'ad_number', ascending = False)\n",
    "autos_dependencia.head(10)\n"
   ]
  },
  {
   "cell_type": "markdown",
   "metadata": {
    "id": "Cf03aYQf6PKM"
   },
   "source": [
    "Se procede a realizar la matriz de correlación."
   ]
  },
  {
   "cell_type": "code",
   "execution_count": 1310,
   "metadata": {
    "colab": {
     "base_uri": "https://localhost:8080/",
     "height": 238
    },
    "id": "jH0VSsmMkdTX",
    "outputId": "394fe554-ed22-438a-c089-6258d6ef6a1a"
   },
   "outputs": [
    {
     "data": {
      "text/html": [
       "\n",
       "  <div id=\"df-9a84639a-88d6-4c1f-bc03-0aa2a248bf7e\">\n",
       "    <div class=\"colab-df-container\">\n",
       "      <div>\n",
       "<style scoped>\n",
       "    .dataframe tbody tr th:only-of-type {\n",
       "        vertical-align: middle;\n",
       "    }\n",
       "\n",
       "    .dataframe tbody tr th {\n",
       "        vertical-align: top;\n",
       "    }\n",
       "\n",
       "    .dataframe thead th {\n",
       "        text-align: right;\n",
       "    }\n",
       "</style>\n",
       "<table border=\"1\" class=\"dataframe\">\n",
       "  <thead>\n",
       "    <tr style=\"text-align: right;\">\n",
       "      <th></th>\n",
       "      <th>days_listed</th>\n",
       "      <th>odometer</th>\n",
       "      <th>odometer_mean</th>\n",
       "      <th>years_to_bougth</th>\n",
       "      <th>mean_price</th>\n",
       "      <th>ad_number</th>\n",
       "    </tr>\n",
       "  </thead>\n",
       "  <tbody>\n",
       "    <tr>\n",
       "      <th>days_listed</th>\n",
       "      <td>1.000000</td>\n",
       "      <td>0.043255</td>\n",
       "      <td>0.048463</td>\n",
       "      <td>-0.043468</td>\n",
       "      <td>-0.005623</td>\n",
       "      <td>-0.006289</td>\n",
       "    </tr>\n",
       "    <tr>\n",
       "      <th>odometer</th>\n",
       "      <td>0.043255</td>\n",
       "      <td>1.000000</td>\n",
       "      <td>-0.430458</td>\n",
       "      <td>0.791839</td>\n",
       "      <td>-0.235685</td>\n",
       "      <td>0.074364</td>\n",
       "    </tr>\n",
       "    <tr>\n",
       "      <th>odometer_mean</th>\n",
       "      <td>0.048463</td>\n",
       "      <td>-0.430458</td>\n",
       "      <td>1.000000</td>\n",
       "      <td>-0.814666</td>\n",
       "      <td>0.305169</td>\n",
       "      <td>0.062954</td>\n",
       "    </tr>\n",
       "    <tr>\n",
       "      <th>years_to_bougth</th>\n",
       "      <td>-0.043468</td>\n",
       "      <td>0.791839</td>\n",
       "      <td>-0.814666</td>\n",
       "      <td>1.000000</td>\n",
       "      <td>-0.271448</td>\n",
       "      <td>0.016034</td>\n",
       "    </tr>\n",
       "    <tr>\n",
       "      <th>mean_price</th>\n",
       "      <td>-0.005623</td>\n",
       "      <td>-0.235685</td>\n",
       "      <td>0.305169</td>\n",
       "      <td>-0.271448</td>\n",
       "      <td>1.000000</td>\n",
       "      <td>0.005151</td>\n",
       "    </tr>\n",
       "    <tr>\n",
       "      <th>ad_number</th>\n",
       "      <td>-0.006289</td>\n",
       "      <td>0.074364</td>\n",
       "      <td>0.062954</td>\n",
       "      <td>0.016034</td>\n",
       "      <td>0.005151</td>\n",
       "      <td>1.000000</td>\n",
       "    </tr>\n",
       "  </tbody>\n",
       "</table>\n",
       "</div>\n",
       "      <button class=\"colab-df-convert\" onclick=\"convertToInteractive('df-9a84639a-88d6-4c1f-bc03-0aa2a248bf7e')\"\n",
       "              title=\"Convert this dataframe to an interactive table.\"\n",
       "              style=\"display:none;\">\n",
       "        \n",
       "  <svg xmlns=\"http://www.w3.org/2000/svg\" height=\"24px\"viewBox=\"0 0 24 24\"\n",
       "       width=\"24px\">\n",
       "    <path d=\"M0 0h24v24H0V0z\" fill=\"none\"/>\n",
       "    <path d=\"M18.56 5.44l.94 2.06.94-2.06 2.06-.94-2.06-.94-.94-2.06-.94 2.06-2.06.94zm-11 1L8.5 8.5l.94-2.06 2.06-.94-2.06-.94L8.5 2.5l-.94 2.06-2.06.94zm10 10l.94 2.06.94-2.06 2.06-.94-2.06-.94-.94-2.06-.94 2.06-2.06.94z\"/><path d=\"M17.41 7.96l-1.37-1.37c-.4-.4-.92-.59-1.43-.59-.52 0-1.04.2-1.43.59L10.3 9.45l-7.72 7.72c-.78.78-.78 2.05 0 2.83L4 21.41c.39.39.9.59 1.41.59.51 0 1.02-.2 1.41-.59l7.78-7.78 2.81-2.81c.8-.78.8-2.07 0-2.86zM5.41 20L4 18.59l7.72-7.72 1.47 1.35L5.41 20z\"/>\n",
       "  </svg>\n",
       "      </button>\n",
       "      \n",
       "  <style>\n",
       "    .colab-df-container {\n",
       "      display:flex;\n",
       "      flex-wrap:wrap;\n",
       "      gap: 12px;\n",
       "    }\n",
       "\n",
       "    .colab-df-convert {\n",
       "      background-color: #E8F0FE;\n",
       "      border: none;\n",
       "      border-radius: 50%;\n",
       "      cursor: pointer;\n",
       "      display: none;\n",
       "      fill: #1967D2;\n",
       "      height: 32px;\n",
       "      padding: 0 0 0 0;\n",
       "      width: 32px;\n",
       "    }\n",
       "\n",
       "    .colab-df-convert:hover {\n",
       "      background-color: #E2EBFA;\n",
       "      box-shadow: 0px 1px 2px rgba(60, 64, 67, 0.3), 0px 1px 3px 1px rgba(60, 64, 67, 0.15);\n",
       "      fill: #174EA6;\n",
       "    }\n",
       "\n",
       "    [theme=dark] .colab-df-convert {\n",
       "      background-color: #3B4455;\n",
       "      fill: #D2E3FC;\n",
       "    }\n",
       "\n",
       "    [theme=dark] .colab-df-convert:hover {\n",
       "      background-color: #434B5C;\n",
       "      box-shadow: 0px 1px 3px 1px rgba(0, 0, 0, 0.15);\n",
       "      filter: drop-shadow(0px 1px 2px rgba(0, 0, 0, 0.3));\n",
       "      fill: #FFFFFF;\n",
       "    }\n",
       "  </style>\n",
       "\n",
       "      <script>\n",
       "        const buttonEl =\n",
       "          document.querySelector('#df-9a84639a-88d6-4c1f-bc03-0aa2a248bf7e button.colab-df-convert');\n",
       "        buttonEl.style.display =\n",
       "          google.colab.kernel.accessAllowed ? 'block' : 'none';\n",
       "\n",
       "        async function convertToInteractive(key) {\n",
       "          const element = document.querySelector('#df-9a84639a-88d6-4c1f-bc03-0aa2a248bf7e');\n",
       "          const dataTable =\n",
       "            await google.colab.kernel.invokeFunction('convertToInteractive',\n",
       "                                                     [key], {});\n",
       "          if (!dataTable) return;\n",
       "\n",
       "          const docLinkHtml = 'Like what you see? Visit the ' +\n",
       "            '<a target=\"_blank\" href=https://colab.research.google.com/notebooks/data_table.ipynb>data table notebook</a>'\n",
       "            + ' to learn more about interactive tables.';\n",
       "          element.innerHTML = '';\n",
       "          dataTable['output_type'] = 'display_data';\n",
       "          await google.colab.output.renderOutput(dataTable, element);\n",
       "          const docLink = document.createElement('div');\n",
       "          docLink.innerHTML = docLinkHtml;\n",
       "          element.appendChild(docLink);\n",
       "        }\n",
       "      </script>\n",
       "    </div>\n",
       "  </div>\n",
       "  "
      ],
      "text/plain": [
       "                 days_listed  odometer  odometer_mean  years_to_bougth  \\\n",
       "days_listed         1.000000  0.043255       0.048463        -0.043468   \n",
       "odometer            0.043255  1.000000      -0.430458         0.791839   \n",
       "odometer_mean       0.048463 -0.430458       1.000000        -0.814666   \n",
       "years_to_bougth    -0.043468  0.791839      -0.814666         1.000000   \n",
       "mean_price         -0.005623 -0.235685       0.305169        -0.271448   \n",
       "ad_number          -0.006289  0.074364       0.062954         0.016034   \n",
       "\n",
       "                 mean_price  ad_number  \n",
       "days_listed       -0.005623  -0.006289  \n",
       "odometer          -0.235685   0.074364  \n",
       "odometer_mean      0.305169   0.062954  \n",
       "years_to_bougth   -0.271448   0.016034  \n",
       "mean_price         1.000000   0.005151  \n",
       "ad_number          0.005151   1.000000  "
      ]
     },
     "execution_count": 1310,
     "metadata": {},
     "output_type": "execute_result"
    }
   ],
   "source": [
    "autos_dependencia.corr()"
   ]
  },
  {
   "cell_type": "markdown",
   "metadata": {
    "id": "M7og9_iI6c-b"
   },
   "source": [
    "Analizando detenidamente los factores que más influyen en el precio. Tenemos el millaje, el cual es inversamnete proporcional, entre más millas tiene un carro recorridas, menor será el precio, de la misma manera que con la edad del auto. Y aunque parezca la cantidad de millas por año es inversamente proporcional a la cantidad de millas reocrridas. Sin embargo esto hace sentido, ya que entre más años tenga un auto, mayor será entonces la cantidad de millas recorridas, pero también esas millas pueden dividirse entre más años, haciendo que sean menos millas por año las que se recorren. Pueto en un jemplo, si en un año no sacas tu carro y al siguiente lo susas todo los días la media te dará al 50% del recorrido original en 2 años, una relación  inversamente proporcional que depende del uso del usuario.\n",
    "\n",
    "Los demás valores no afectan de ninguna manera el precio, ni la cantidad de anuncios, ni la cantidad de días listados. y todo esto se evidencia de manera gráfica a continuación."
   ]
  },
  {
   "cell_type": "code",
   "execution_count": 1311,
   "metadata": {
    "colab": {
     "base_uri": "https://localhost:8080/",
     "height": 631
    },
    "id": "skvbLNGTicSZ",
    "outputId": "01b82015-942c-4419-b13c-93793f7e1db1"
   },
   "outputs": [
    {
     "data": {
      "image/png": "[encoded data removed]",
      "text/plain": [
       "<Figure size 720x720 with 36 Axes>"
      ]
     },
     "metadata": {},
     "output_type": "display_data"
    }
   ],
   "source": [
    "pd.plotting.scatter_matrix(autos_dependencia, figsize=(10,10), grid = True)\n",
    "plt.show()"
   ]
  },
  {
   "cell_type": "markdown",
   "metadata": {
    "id": "QTtzHxLc8hAj"
   },
   "source": [
    "Ahora estudiaremos las variables categóricas, comanzando por el color de los autos:"
   ]
  },
  {
   "cell_type": "code",
   "execution_count": 1312,
   "metadata": {
    "id": "q-D-v7jWqqn1"
   },
   "outputs": [],
   "source": [
    "def autos_categoria(categ):\n",
    "  autos_categ = autos_sin_a.pivot_table(index = ['model',categ], values = 'price', aggfunc = ['mean','count'])\n",
    "  autos_categ.columns = ['mean_price','ad_number']\n",
    "  autos_categ = autos_categ.query('ad_number > 50').sort_values(by = 'ad_number', ascending = False).reset_index()\n",
    "\n",
    "    \n",
    "  fig, ax = plt.subplots(figsize = (10, 5))\n",
    "  seaborn.set(style='whitegrid')\n",
    "\n",
    "  seaborn.boxplot(x=autos_categ[categ],\n",
    "                  y=autos_categ['mean_price'],)\n",
    "  plt.show()\n",
    "\n",
    "  return autos_categ.head(10)"
   ]
  },
  {
   "cell_type": "code",
   "execution_count": 1313,
   "metadata": {
    "colab": {
     "base_uri": "https://localhost:8080/",
     "height": 685
    },
    "id": "5ZFg_VbG2zwn",
    "outputId": "dd1e444d-b737-48cf-f16c-df70bdfcceec"
   },
   "outputs": [
    {
     "data": {
      "image/png": "[encoded data removed]",
      "text/plain": [
       "<Figure size 720x360 with 1 Axes>"
      ]
     },
     "metadata": {},
     "output_type": "display_data"
    },
    {
     "data": {
      "text/html": [
       "\n",
       "  <div id=\"df-d31b582b-8ff9-4573-8985-ab577cdb048c\">\n",
       "    <div class=\"colab-df-container\">\n",
       "      <div>\n",
       "<style scoped>\n",
       "    .dataframe tbody tr th:only-of-type {\n",
       "        vertical-align: middle;\n",
       "    }\n",
       "\n",
       "    .dataframe tbody tr th {\n",
       "        vertical-align: top;\n",
       "    }\n",
       "\n",
       "    .dataframe thead th {\n",
       "        text-align: right;\n",
       "    }\n",
       "</style>\n",
       "<table border=\"1\" class=\"dataframe\">\n",
       "  <thead>\n",
       "    <tr style=\"text-align: right;\">\n",
       "      <th></th>\n",
       "      <th>model</th>\n",
       "      <th>paint_color</th>\n",
       "      <th>mean_price</th>\n",
       "      <th>ad_number</th>\n",
       "    </tr>\n",
       "  </thead>\n",
       "  <tbody>\n",
       "    <tr>\n",
       "      <th>0</th>\n",
       "      <td>ford f-150</td>\n",
       "      <td>white</td>\n",
       "      <td>13890.034732</td>\n",
       "      <td>691</td>\n",
       "    </tr>\n",
       "    <tr>\n",
       "      <th>1</th>\n",
       "      <td>chevrolet silverado 1500</td>\n",
       "      <td>white</td>\n",
       "      <td>15498.206413</td>\n",
       "      <td>499</td>\n",
       "    </tr>\n",
       "    <tr>\n",
       "      <th>2</th>\n",
       "      <td>ford f-150</td>\n",
       "      <td>black</td>\n",
       "      <td>16463.307263</td>\n",
       "      <td>358</td>\n",
       "    </tr>\n",
       "    <tr>\n",
       "      <th>3</th>\n",
       "      <td>ram 1500</td>\n",
       "      <td>white</td>\n",
       "      <td>16008.602339</td>\n",
       "      <td>342</td>\n",
       "    </tr>\n",
       "    <tr>\n",
       "      <th>4</th>\n",
       "      <td>ram 2500</td>\n",
       "      <td>white</td>\n",
       "      <td>22318.287926</td>\n",
       "      <td>323</td>\n",
       "    </tr>\n",
       "    <tr>\n",
       "      <th>5</th>\n",
       "      <td>ford f-150</td>\n",
       "      <td>red</td>\n",
       "      <td>12964.141956</td>\n",
       "      <td>317</td>\n",
       "    </tr>\n",
       "    <tr>\n",
       "      <th>6</th>\n",
       "      <td>chevrolet silverado 1500</td>\n",
       "      <td>black</td>\n",
       "      <td>18415.182410</td>\n",
       "      <td>307</td>\n",
       "    </tr>\n",
       "    <tr>\n",
       "      <th>7</th>\n",
       "      <td>chevrolet silverado</td>\n",
       "      <td>white</td>\n",
       "      <td>14433.599327</td>\n",
       "      <td>297</td>\n",
       "    </tr>\n",
       "    <tr>\n",
       "      <th>8</th>\n",
       "      <td>chevrolet silverado 2500hd</td>\n",
       "      <td>white</td>\n",
       "      <td>19185.790378</td>\n",
       "      <td>291</td>\n",
       "    </tr>\n",
       "    <tr>\n",
       "      <th>9</th>\n",
       "      <td>ram 1500</td>\n",
       "      <td>black</td>\n",
       "      <td>16857.375887</td>\n",
       "      <td>282</td>\n",
       "    </tr>\n",
       "  </tbody>\n",
       "</table>\n",
       "</div>\n",
       "      <button class=\"colab-df-convert\" onclick=\"convertToInteractive('df-d31b582b-8ff9-4573-8985-ab577cdb048c')\"\n",
       "              title=\"Convert this dataframe to an interactive table.\"\n",
       "              style=\"display:none;\">\n",
       "        \n",
       "  <svg xmlns=\"http://www.w3.org/2000/svg\" height=\"24px\"viewBox=\"0 0 24 24\"\n",
       "       width=\"24px\">\n",
       "    <path d=\"M0 0h24v24H0V0z\" fill=\"none\"/>\n",
       "    <path d=\"M18.56 5.44l.94 2.06.94-2.06 2.06-.94-2.06-.94-.94-2.06-.94 2.06-2.06.94zm-11 1L8.5 8.5l.94-2.06 2.06-.94-2.06-.94L8.5 2.5l-.94 2.06-2.06.94zm10 10l.94 2.06.94-2.06 2.06-.94-2.06-.94-.94-2.06-.94 2.06-2.06.94z\"/><path d=\"M17.41 7.96l-1.37-1.37c-.4-.4-.92-.59-1.43-.59-.52 0-1.04.2-1.43.59L10.3 9.45l-7.72 7.72c-.78.78-.78 2.05 0 2.83L4 21.41c.39.39.9.59 1.41.59.51 0 1.02-.2 1.41-.59l7.78-7.78 2.81-2.81c.8-.78.8-2.07 0-2.86zM5.41 20L4 18.59l7.72-7.72 1.47 1.35L5.41 20z\"/>\n",
       "  </svg>\n",
       "      </button>\n",
       "      \n",
       "  <style>\n",
       "    .colab-df-container {\n",
       "      display:flex;\n",
       "      flex-wrap:wrap;\n",
       "      gap: 12px;\n",
       "    }\n",
       "\n",
       "    .colab-df-convert {\n",
       "      background-color: #E8F0FE;\n",
       "      border: none;\n",
       "      border-radius: 50%;\n",
       "      cursor: pointer;\n",
       "      display: none;\n",
       "      fill: #1967D2;\n",
       "      height: 32px;\n",
       "      padding: 0 0 0 0;\n",
       "      width: 32px;\n",
       "    }\n",
       "\n",
       "    .colab-df-convert:hover {\n",
       "      background-color: #E2EBFA;\n",
       "      box-shadow: 0px 1px 2px rgba(60, 64, 67, 0.3), 0px 1px 3px 1px rgba(60, 64, 67, 0.15);\n",
       "      fill: #174EA6;\n",
       "    }\n",
       "\n",
       "    [theme=dark] .colab-df-convert {\n",
       "      background-color: #3B4455;\n",
       "      fill: #D2E3FC;\n",
       "    }\n",
       "\n",
       "    [theme=dark] .colab-df-convert:hover {\n",
       "      background-color: #434B5C;\n",
       "      box-shadow: 0px 1px 3px 1px rgba(0, 0, 0, 0.15);\n",
       "      filter: drop-shadow(0px 1px 2px rgba(0, 0, 0, 0.3));\n",
       "      fill: #FFFFFF;\n",
       "    }\n",
       "  </style>\n",
       "\n",
       "      <script>\n",
       "        const buttonEl =\n",
       "          document.querySelector('#df-d31b582b-8ff9-4573-8985-ab577cdb048c button.colab-df-convert');\n",
       "        buttonEl.style.display =\n",
       "          google.colab.kernel.accessAllowed ? 'block' : 'none';\n",
       "\n",
       "        async function convertToInteractive(key) {\n",
       "          const element = document.querySelector('#df-d31b582b-8ff9-4573-8985-ab577cdb048c');\n",
       "          const dataTable =\n",
       "            await google.colab.kernel.invokeFunction('convertToInteractive',\n",
       "                                                     [key], {});\n",
       "          if (!dataTable) return;\n",
       "\n",
       "          const docLinkHtml = 'Like what you see? Visit the ' +\n",
       "            '<a target=\"_blank\" href=https://colab.research.google.com/notebooks/data_table.ipynb>data table notebook</a>'\n",
       "            + ' to learn more about interactive tables.';\n",
       "          element.innerHTML = '';\n",
       "          dataTable['output_type'] = 'display_data';\n",
       "          await google.colab.output.renderOutput(dataTable, element);\n",
       "          const docLink = document.createElement('div');\n",
       "          docLink.innerHTML = docLinkHtml;\n",
       "          element.appendChild(docLink);\n",
       "        }\n",
       "      </script>\n",
       "    </div>\n",
       "  </div>\n",
       "  "
      ],
      "text/plain": [
       "                        model paint_color    mean_price  ad_number\n",
       "0                  ford f-150       white  13890.034732        691\n",
       "1    chevrolet silverado 1500       white  15498.206413        499\n",
       "2                  ford f-150       black  16463.307263        358\n",
       "3                    ram 1500       white  16008.602339        342\n",
       "4                    ram 2500       white  22318.287926        323\n",
       "5                  ford f-150         red  12964.141956        317\n",
       "6    chevrolet silverado 1500       black  18415.182410        307\n",
       "7         chevrolet silverado       white  14433.599327        297\n",
       "8  chevrolet silverado 2500hd       white  19185.790378        291\n",
       "9                    ram 1500       black  16857.375887        282"
      ]
     },
     "execution_count": 1313,
     "metadata": {},
     "output_type": "execute_result"
    }
   ],
   "source": [
    "autos_categoria('paint_color')"
   ]
  },
  {
   "cell_type": "markdown",
   "metadata": {
    "id": "VVqiIsW487nL"
   },
   "source": [
    "Podemos observar, que el color de los autos no es un factor demasiado determinante en lo que aumentar el valor de un auto se refiere. De hecho los mantiene en un valor mediano de unos 10000. Sin embargo observando los graficos obtenidos, podemos ver que los colores que más venden los autos, y que efectivamente aumentan el precio de estos son el blanco, el negro y un tanto el rojo."
   ]
  },
  {
   "cell_type": "markdown",
   "metadata": {
    "id": "E85EVYUg-PDi"
   },
   "source": [
    "Ahora anlizamos la trasnmisión:"
   ]
  },
  {
   "cell_type": "code",
   "execution_count": 1314,
   "metadata": {
    "colab": {
     "base_uri": "https://localhost:8080/",
     "height": 685
    },
    "id": "SGyCd_8T29IV",
    "outputId": "5d4b27a4-6731-4e64-d862-0fbb78937657"
   },
   "outputs": [
    {
     "data": {
      "image/png": "[encoded data removed]",
      "text/plain": [
       "<Figure size 720x360 with 1 Axes>"
      ]
     },
     "metadata": {},
     "output_type": "display_data"
    },
    {
     "data": {
      "text/html": [
       "\n",
       "  <div id=\"df-6f04f107-80ff-48a2-9623-8c927e2ef9fb\">\n",
       "    <div class=\"colab-df-container\">\n",
       "      <div>\n",
       "<style scoped>\n",
       "    .dataframe tbody tr th:only-of-type {\n",
       "        vertical-align: middle;\n",
       "    }\n",
       "\n",
       "    .dataframe tbody tr th {\n",
       "        vertical-align: top;\n",
       "    }\n",
       "\n",
       "    .dataframe thead th {\n",
       "        text-align: right;\n",
       "    }\n",
       "</style>\n",
       "<table border=\"1\" class=\"dataframe\">\n",
       "  <thead>\n",
       "    <tr style=\"text-align: right;\">\n",
       "      <th></th>\n",
       "      <th>model</th>\n",
       "      <th>transmission</th>\n",
       "      <th>mean_price</th>\n",
       "      <th>ad_number</th>\n",
       "    </tr>\n",
       "  </thead>\n",
       "  <tbody>\n",
       "    <tr>\n",
       "      <th>0</th>\n",
       "      <td>ford f-150</td>\n",
       "      <td>automatic</td>\n",
       "      <td>14647.360571</td>\n",
       "      <td>2521</td>\n",
       "    </tr>\n",
       "    <tr>\n",
       "      <th>1</th>\n",
       "      <td>chevrolet silverado 1500</td>\n",
       "      <td>automatic</td>\n",
       "      <td>16057.027563</td>\n",
       "      <td>2068</td>\n",
       "    </tr>\n",
       "    <tr>\n",
       "      <th>2</th>\n",
       "      <td>ram 1500</td>\n",
       "      <td>automatic</td>\n",
       "      <td>15257.106608</td>\n",
       "      <td>1604</td>\n",
       "    </tr>\n",
       "    <tr>\n",
       "      <th>3</th>\n",
       "      <td>chevrolet silverado</td>\n",
       "      <td>automatic</td>\n",
       "      <td>14899.573192</td>\n",
       "      <td>1134</td>\n",
       "    </tr>\n",
       "    <tr>\n",
       "      <th>4</th>\n",
       "      <td>toyota camry</td>\n",
       "      <td>automatic</td>\n",
       "      <td>7270.832427</td>\n",
       "      <td>919</td>\n",
       "    </tr>\n",
       "    <tr>\n",
       "      <th>5</th>\n",
       "      <td>ram 2500</td>\n",
       "      <td>automatic</td>\n",
       "      <td>23075.467269</td>\n",
       "      <td>886</td>\n",
       "    </tr>\n",
       "    <tr>\n",
       "      <th>6</th>\n",
       "      <td>chevrolet silverado 2500hd</td>\n",
       "      <td>automatic</td>\n",
       "      <td>19163.955659</td>\n",
       "      <td>857</td>\n",
       "    </tr>\n",
       "    <tr>\n",
       "      <th>7</th>\n",
       "      <td>honda accord</td>\n",
       "      <td>automatic</td>\n",
       "      <td>6716.290437</td>\n",
       "      <td>847</td>\n",
       "    </tr>\n",
       "    <tr>\n",
       "      <th>8</th>\n",
       "      <td>gmc sierra 1500</td>\n",
       "      <td>automatic</td>\n",
       "      <td>16766.723731</td>\n",
       "      <td>847</td>\n",
       "    </tr>\n",
       "    <tr>\n",
       "      <th>9</th>\n",
       "      <td>ford escape</td>\n",
       "      <td>automatic</td>\n",
       "      <td>8351.720443</td>\n",
       "      <td>812</td>\n",
       "    </tr>\n",
       "  </tbody>\n",
       "</table>\n",
       "</div>\n",
       "      <button class=\"colab-df-convert\" onclick=\"convertToInteractive('df-6f04f107-80ff-48a2-9623-8c927e2ef9fb')\"\n",
       "              title=\"Convert this dataframe to an interactive table.\"\n",
       "              style=\"display:none;\">\n",
       "        \n",
       "  <svg xmlns=\"http://www.w3.org/2000/svg\" height=\"24px\"viewBox=\"0 0 24 24\"\n",
       "       width=\"24px\">\n",
       "    <path d=\"M0 0h24v24H0V0z\" fill=\"none\"/>\n",
       "    <path d=\"M18.56 5.44l.94 2.06.94-2.06 2.06-.94-2.06-.94-.94-2.06-.94 2.06-2.06.94zm-11 1L8.5 8.5l.94-2.06 2.06-.94-2.06-.94L8.5 2.5l-.94 2.06-2.06.94zm10 10l.94 2.06.94-2.06 2.06-.94-2.06-.94-.94-2.06-.94 2.06-2.06.94z\"/><path d=\"M17.41 7.96l-1.37-1.37c-.4-.4-.92-.59-1.43-.59-.52 0-1.04.2-1.43.59L10.3 9.45l-7.72 7.72c-.78.78-.78 2.05 0 2.83L4 21.41c.39.39.9.59 1.41.59.51 0 1.02-.2 1.41-.59l7.78-7.78 2.81-2.81c.8-.78.8-2.07 0-2.86zM5.41 20L4 18.59l7.72-7.72 1.47 1.35L5.41 20z\"/>\n",
       "  </svg>\n",
       "      </button>\n",
       "      \n",
       "  <style>\n",
       "    .colab-df-container {\n",
       "      display:flex;\n",
       "      flex-wrap:wrap;\n",
       "      gap: 12px;\n",
       "    }\n",
       "\n",
       "    .colab-df-convert {\n",
       "      background-color: #E8F0FE;\n",
       "      border: none;\n",
       "      border-radius: 50%;\n",
       "      cursor: pointer;\n",
       "      display: none;\n",
       "      fill: #1967D2;\n",
       "      height: 32px;\n",
       "      padding: 0 0 0 0;\n",
       "      width: 32px;\n",
       "    }\n",
       "\n",
       "    .colab-df-convert:hover {\n",
       "      background-color: #E2EBFA;\n",
       "      box-shadow: 0px 1px 2px rgba(60, 64, 67, 0.3), 0px 1px 3px 1px rgba(60, 64, 67, 0.15);\n",
       "      fill: #174EA6;\n",
       "    }\n",
       "\n",
       "    [theme=dark] .colab-df-convert {\n",
       "      background-color: #3B4455;\n",
       "      fill: #D2E3FC;\n",
       "    }\n",
       "\n",
       "    [theme=dark] .colab-df-convert:hover {\n",
       "      background-color: #434B5C;\n",
       "      box-shadow: 0px 1px 3px 1px rgba(0, 0, 0, 0.15);\n",
       "      filter: drop-shadow(0px 1px 2px rgba(0, 0, 0, 0.3));\n",
       "      fill: #FFFFFF;\n",
       "    }\n",
       "  </style>\n",
       "\n",
       "      <script>\n",
       "        const buttonEl =\n",
       "          document.querySelector('#df-6f04f107-80ff-48a2-9623-8c927e2ef9fb button.colab-df-convert');\n",
       "        buttonEl.style.display =\n",
       "          google.colab.kernel.accessAllowed ? 'block' : 'none';\n",
       "\n",
       "        async function convertToInteractive(key) {\n",
       "          const element = document.querySelector('#df-6f04f107-80ff-48a2-9623-8c927e2ef9fb');\n",
       "          const dataTable =\n",
       "            await google.colab.kernel.invokeFunction('convertToInteractive',\n",
       "                                                     [key], {});\n",
       "          if (!dataTable) return;\n",
       "\n",
       "          const docLinkHtml = 'Like what you see? Visit the ' +\n",
       "            '<a target=\"_blank\" href=https://colab.research.google.com/notebooks/data_table.ipynb>data table notebook</a>'\n",
       "            + ' to learn more about interactive tables.';\n",
       "          element.innerHTML = '';\n",
       "          dataTable['output_type'] = 'display_data';\n",
       "          await google.colab.output.renderOutput(dataTable, element);\n",
       "          const docLink = document.createElement('div');\n",
       "          docLink.innerHTML = docLinkHtml;\n",
       "          element.appendChild(docLink);\n",
       "        }\n",
       "      </script>\n",
       "    </div>\n",
       "  </div>\n",
       "  "
      ],
      "text/plain": [
       "                        model transmission    mean_price  ad_number\n",
       "0                  ford f-150    automatic  14647.360571       2521\n",
       "1    chevrolet silverado 1500    automatic  16057.027563       2068\n",
       "2                    ram 1500    automatic  15257.106608       1604\n",
       "3         chevrolet silverado    automatic  14899.573192       1134\n",
       "4                toyota camry    automatic   7270.832427        919\n",
       "5                    ram 2500    automatic  23075.467269        886\n",
       "6  chevrolet silverado 2500hd    automatic  19163.955659        857\n",
       "7                honda accord    automatic   6716.290437        847\n",
       "8             gmc sierra 1500    automatic  16766.723731        847\n",
       "9                 ford escape    automatic   8351.720443        812"
      ]
     },
     "execution_count": 1314,
     "metadata": {},
     "output_type": "execute_result"
    }
   ],
   "source": [
    "autos_categoria('transmission')"
   ]
  },
  {
   "cell_type": "markdown",
   "metadata": {
    "id": "p_5flaarF5oI"
   },
   "source": [
    "Como podemos observar, tener una transmisión hibrida si es un factor determinante que aumenta el precio de los autos, sin embargo la automatica en promedio esta u poco por encima de la manual."
   ]
  },
  {
   "cell_type": "code",
   "execution_count": 1315,
   "metadata": {
    "colab": {
     "base_uri": "https://localhost:8080/",
     "height": 685
    },
    "id": "cjYRr59R29An",
    "outputId": "baddf528-87fa-4167-b2a8-883f7f56f9b4"
   },
   "outputs": [
    {
     "data": {
      "image/png": "[encoded data removed]",
      "text/plain": [
       "<Figure size 720x360 with 1 Axes>"
      ]
     },
     "metadata": {},
     "output_type": "display_data"
    },
    {
     "data": {
      "text/html": [
       "\n",
       "  <div id=\"df-08a0fc63-9a0e-4b51-b495-8fed86c3cb6e\">\n",
       "    <div class=\"colab-df-container\">\n",
       "      <div>\n",
       "<style scoped>\n",
       "    .dataframe tbody tr th:only-of-type {\n",
       "        vertical-align: middle;\n",
       "    }\n",
       "\n",
       "    .dataframe tbody tr th {\n",
       "        vertical-align: top;\n",
       "    }\n",
       "\n",
       "    .dataframe thead th {\n",
       "        text-align: right;\n",
       "    }\n",
       "</style>\n",
       "<table border=\"1\" class=\"dataframe\">\n",
       "  <thead>\n",
       "    <tr style=\"text-align: right;\">\n",
       "      <th></th>\n",
       "      <th>model</th>\n",
       "      <th>fuel</th>\n",
       "      <th>mean_price</th>\n",
       "      <th>ad_number</th>\n",
       "    </tr>\n",
       "  </thead>\n",
       "  <tbody>\n",
       "    <tr>\n",
       "      <th>0</th>\n",
       "      <td>ford f-150</td>\n",
       "      <td>gas</td>\n",
       "      <td>14483.052344</td>\n",
       "      <td>2560</td>\n",
       "    </tr>\n",
       "    <tr>\n",
       "      <th>1</th>\n",
       "      <td>chevrolet silverado 1500</td>\n",
       "      <td>gas</td>\n",
       "      <td>15998.173661</td>\n",
       "      <td>2073</td>\n",
       "    </tr>\n",
       "    <tr>\n",
       "      <th>2</th>\n",
       "      <td>ram 1500</td>\n",
       "      <td>gas</td>\n",
       "      <td>14809.045028</td>\n",
       "      <td>1599</td>\n",
       "    </tr>\n",
       "    <tr>\n",
       "      <th>3</th>\n",
       "      <td>chevrolet silverado</td>\n",
       "      <td>gas</td>\n",
       "      <td>14046.319882</td>\n",
       "      <td>1016</td>\n",
       "    </tr>\n",
       "    <tr>\n",
       "      <th>4</th>\n",
       "      <td>jeep wrangler</td>\n",
       "      <td>gas</td>\n",
       "      <td>16899.216017</td>\n",
       "      <td>949</td>\n",
       "    </tr>\n",
       "    <tr>\n",
       "      <th>5</th>\n",
       "      <td>toyota camry</td>\n",
       "      <td>gas</td>\n",
       "      <td>7243.524946</td>\n",
       "      <td>922</td>\n",
       "    </tr>\n",
       "    <tr>\n",
       "      <th>6</th>\n",
       "      <td>honda accord</td>\n",
       "      <td>gas</td>\n",
       "      <td>6676.996685</td>\n",
       "      <td>905</td>\n",
       "    </tr>\n",
       "    <tr>\n",
       "      <th>7</th>\n",
       "      <td>gmc sierra 1500</td>\n",
       "      <td>gas</td>\n",
       "      <td>16733.351001</td>\n",
       "      <td>849</td>\n",
       "    </tr>\n",
       "    <tr>\n",
       "      <th>8</th>\n",
       "      <td>ford escape</td>\n",
       "      <td>gas</td>\n",
       "      <td>8299.179141</td>\n",
       "      <td>815</td>\n",
       "    </tr>\n",
       "    <tr>\n",
       "      <th>9</th>\n",
       "      <td>ford explorer</td>\n",
       "      <td>gas</td>\n",
       "      <td>10840.571072</td>\n",
       "      <td>802</td>\n",
       "    </tr>\n",
       "  </tbody>\n",
       "</table>\n",
       "</div>\n",
       "      <button class=\"colab-df-convert\" onclick=\"convertToInteractive('df-08a0fc63-9a0e-4b51-b495-8fed86c3cb6e')\"\n",
       "              title=\"Convert this dataframe to an interactive table.\"\n",
       "              style=\"display:none;\">\n",
       "        \n",
       "  <svg xmlns=\"http://www.w3.org/2000/svg\" height=\"24px\"viewBox=\"0 0 24 24\"\n",
       "       width=\"24px\">\n",
       "    <path d=\"M0 0h24v24H0V0z\" fill=\"none\"/>\n",
       "    <path d=\"M18.56 5.44l.94 2.06.94-2.06 2.06-.94-2.06-.94-.94-2.06-.94 2.06-2.06.94zm-11 1L8.5 8.5l.94-2.06 2.06-.94-2.06-.94L8.5 2.5l-.94 2.06-2.06.94zm10 10l.94 2.06.94-2.06 2.06-.94-2.06-.94-.94-2.06-.94 2.06-2.06.94z\"/><path d=\"M17.41 7.96l-1.37-1.37c-.4-.4-.92-.59-1.43-.59-.52 0-1.04.2-1.43.59L10.3 9.45l-7.72 7.72c-.78.78-.78 2.05 0 2.83L4 21.41c.39.39.9.59 1.41.59.51 0 1.02-.2 1.41-.59l7.78-7.78 2.81-2.81c.8-.78.8-2.07 0-2.86zM5.41 20L4 18.59l7.72-7.72 1.47 1.35L5.41 20z\"/>\n",
       "  </svg>\n",
       "      </button>\n",
       "      \n",
       "  <style>\n",
       "    .colab-df-container {\n",
       "      display:flex;\n",
       "      flex-wrap:wrap;\n",
       "      gap: 12px;\n",
       "    }\n",
       "\n",
       "    .colab-df-convert {\n",
       "      background-color: #E8F0FE;\n",
       "      border: none;\n",
       "      border-radius: 50%;\n",
       "      cursor: pointer;\n",
       "      display: none;\n",
       "      fill: #1967D2;\n",
       "      height: 32px;\n",
       "      padding: 0 0 0 0;\n",
       "      width: 32px;\n",
       "    }\n",
       "\n",
       "    .colab-df-convert:hover {\n",
       "      background-color: #E2EBFA;\n",
       "      box-shadow: 0px 1px 2px rgba(60, 64, 67, 0.3), 0px 1px 3px 1px rgba(60, 64, 67, 0.15);\n",
       "      fill: #174EA6;\n",
       "    }\n",
       "\n",
       "    [theme=dark] .colab-df-convert {\n",
       "      background-color: #3B4455;\n",
       "      fill: #D2E3FC;\n",
       "    }\n",
       "\n",
       "    [theme=dark] .colab-df-convert:hover {\n",
       "      background-color: #434B5C;\n",
       "      box-shadow: 0px 1px 3px 1px rgba(0, 0, 0, 0.15);\n",
       "      filter: drop-shadow(0px 1px 2px rgba(0, 0, 0, 0.3));\n",
       "      fill: #FFFFFF;\n",
       "    }\n",
       "  </style>\n",
       "\n",
       "      <script>\n",
       "        const buttonEl =\n",
       "          document.querySelector('#df-08a0fc63-9a0e-4b51-b495-8fed86c3cb6e button.colab-df-convert');\n",
       "        buttonEl.style.display =\n",
       "          google.colab.kernel.accessAllowed ? 'block' : 'none';\n",
       "\n",
       "        async function convertToInteractive(key) {\n",
       "          const element = document.querySelector('#df-08a0fc63-9a0e-4b51-b495-8fed86c3cb6e');\n",
       "          const dataTable =\n",
       "            await google.colab.kernel.invokeFunction('convertToInteractive',\n",
       "                                                     [key], {});\n",
       "          if (!dataTable) return;\n",
       "\n",
       "          const docLinkHtml = 'Like what you see? Visit the ' +\n",
       "            '<a target=\"_blank\" href=https://colab.research.google.com/notebooks/data_table.ipynb>data table notebook</a>'\n",
       "            + ' to learn more about interactive tables.';\n",
       "          element.innerHTML = '';\n",
       "          dataTable['output_type'] = 'display_data';\n",
       "          await google.colab.output.renderOutput(dataTable, element);\n",
       "          const docLink = document.createElement('div');\n",
       "          docLink.innerHTML = docLinkHtml;\n",
       "          element.appendChild(docLink);\n",
       "        }\n",
       "      </script>\n",
       "    </div>\n",
       "  </div>\n",
       "  "
      ],
      "text/plain": [
       "                      model fuel    mean_price  ad_number\n",
       "0                ford f-150  gas  14483.052344       2560\n",
       "1  chevrolet silverado 1500  gas  15998.173661       2073\n",
       "2                  ram 1500  gas  14809.045028       1599\n",
       "3       chevrolet silverado  gas  14046.319882       1016\n",
       "4             jeep wrangler  gas  16899.216017        949\n",
       "5              toyota camry  gas   7243.524946        922\n",
       "6              honda accord  gas   6676.996685        905\n",
       "7           gmc sierra 1500  gas  16733.351001        849\n",
       "8               ford escape  gas   8299.179141        815\n",
       "9             ford explorer  gas  10840.571072        802"
      ]
     },
     "execution_count": 1315,
     "metadata": {},
     "output_type": "execute_result"
    }
   ],
   "source": [
    "autos_categoria('fuel')"
   ]
  },
  {
   "cell_type": "markdown",
   "metadata": {
    "id": "bLQYDbOpGRPB"
   },
   "source": [
    "Tener un auto a diesel es un factor bastanet determinante que aumenta mucho el precio de los autos, debido a que este es más economico en muchos paiese y por lo tanto más solicitados."
   ]
  },
  {
   "cell_type": "code",
   "execution_count": 1316,
   "metadata": {
    "colab": {
     "base_uri": "https://localhost:8080/",
     "height": 685
    },
    "id": "Ca_Aub7y3ami",
    "outputId": "4524bdcc-f4a5-4f00-dccc-2b1982173376"
   },
   "outputs": [
    {
     "data": {
      "image/png": "[encoded data removed]",
      "text/plain": [
       "<Figure size 720x360 with 1 Axes>"
      ]
     },
     "metadata": {},
     "output_type": "display_data"
    },
    {
     "data": {
      "text/html": [
       "\n",
       "  <div id=\"df-4ae6d7b0-7529-4f88-af95-4f004349d57a\">\n",
       "    <div class=\"colab-df-container\">\n",
       "      <div>\n",
       "<style scoped>\n",
       "    .dataframe tbody tr th:only-of-type {\n",
       "        vertical-align: middle;\n",
       "    }\n",
       "\n",
       "    .dataframe tbody tr th {\n",
       "        vertical-align: top;\n",
       "    }\n",
       "\n",
       "    .dataframe thead th {\n",
       "        text-align: right;\n",
       "    }\n",
       "</style>\n",
       "<table border=\"1\" class=\"dataframe\">\n",
       "  <thead>\n",
       "    <tr style=\"text-align: right;\">\n",
       "      <th></th>\n",
       "      <th>model</th>\n",
       "      <th>type</th>\n",
       "      <th>mean_price</th>\n",
       "      <th>ad_number</th>\n",
       "    </tr>\n",
       "  </thead>\n",
       "  <tbody>\n",
       "    <tr>\n",
       "      <th>0</th>\n",
       "      <td>ford f-150</td>\n",
       "      <td>truck</td>\n",
       "      <td>14889.469942</td>\n",
       "      <td>1730</td>\n",
       "    </tr>\n",
       "    <tr>\n",
       "      <th>1</th>\n",
       "      <td>chevrolet silverado 1500</td>\n",
       "      <td>truck</td>\n",
       "      <td>16528.349306</td>\n",
       "      <td>1440</td>\n",
       "    </tr>\n",
       "    <tr>\n",
       "      <th>2</th>\n",
       "      <td>ram 1500</td>\n",
       "      <td>truck</td>\n",
       "      <td>15907.385782</td>\n",
       "      <td>1055</td>\n",
       "    </tr>\n",
       "    <tr>\n",
       "      <th>3</th>\n",
       "      <td>toyota camry</td>\n",
       "      <td>sedan</td>\n",
       "      <td>7260.254625</td>\n",
       "      <td>919</td>\n",
       "    </tr>\n",
       "    <tr>\n",
       "      <th>4</th>\n",
       "      <td>ford f-150</td>\n",
       "      <td>pickup</td>\n",
       "      <td>13756.718938</td>\n",
       "      <td>829</td>\n",
       "    </tr>\n",
       "    <tr>\n",
       "      <th>5</th>\n",
       "      <td>honda accord</td>\n",
       "      <td>sedan</td>\n",
       "      <td>6740.681529</td>\n",
       "      <td>785</td>\n",
       "    </tr>\n",
       "    <tr>\n",
       "      <th>6</th>\n",
       "      <td>jeep wrangler</td>\n",
       "      <td>SUV</td>\n",
       "      <td>17569.515584</td>\n",
       "      <td>770</td>\n",
       "    </tr>\n",
       "    <tr>\n",
       "      <th>7</th>\n",
       "      <td>ford escape</td>\n",
       "      <td>SUV</td>\n",
       "      <td>8304.161725</td>\n",
       "      <td>742</td>\n",
       "    </tr>\n",
       "    <tr>\n",
       "      <th>8</th>\n",
       "      <td>ford explorer</td>\n",
       "      <td>SUV</td>\n",
       "      <td>10774.544180</td>\n",
       "      <td>713</td>\n",
       "    </tr>\n",
       "    <tr>\n",
       "      <th>9</th>\n",
       "      <td>nissan altima</td>\n",
       "      <td>sedan</td>\n",
       "      <td>7286.994366</td>\n",
       "      <td>710</td>\n",
       "    </tr>\n",
       "  </tbody>\n",
       "</table>\n",
       "</div>\n",
       "      <button class=\"colab-df-convert\" onclick=\"convertToInteractive('df-4ae6d7b0-7529-4f88-af95-4f004349d57a')\"\n",
       "              title=\"Convert this dataframe to an interactive table.\"\n",
       "              style=\"display:none;\">\n",
       "        \n",
       "  <svg xmlns=\"http://www.w3.org/2000/svg\" height=\"24px\"viewBox=\"0 0 24 24\"\n",
       "       width=\"24px\">\n",
       "    <path d=\"M0 0h24v24H0V0z\" fill=\"none\"/>\n",
       "    <path d=\"M18.56 5.44l.94 2.06.94-2.06 2.06-.94-2.06-.94-.94-2.06-.94 2.06-2.06.94zm-11 1L8.5 8.5l.94-2.06 2.06-.94-2.06-.94L8.5 2.5l-.94 2.06-2.06.94zm10 10l.94 2.06.94-2.06 2.06-.94-2.06-.94-.94-2.06-.94 2.06-2.06.94z\"/><path d=\"M17.41 7.96l-1.37-1.37c-.4-.4-.92-.59-1.43-.59-.52 0-1.04.2-1.43.59L10.3 9.45l-7.72 7.72c-.78.78-.78 2.05 0 2.83L4 21.41c.39.39.9.59 1.41.59.51 0 1.02-.2 1.41-.59l7.78-7.78 2.81-2.81c.8-.78.8-2.07 0-2.86zM5.41 20L4 18.59l7.72-7.72 1.47 1.35L5.41 20z\"/>\n",
       "  </svg>\n",
       "      </button>\n",
       "      \n",
       "  <style>\n",
       "    .colab-df-container {\n",
       "      display:flex;\n",
       "      flex-wrap:wrap;\n",
       "      gap: 12px;\n",
       "    }\n",
       "\n",
       "    .colab-df-convert {\n",
       "      background-color: #E8F0FE;\n",
       "      border: none;\n",
       "      border-radius: 50%;\n",
       "      cursor: pointer;\n",
       "      display: none;\n",
       "      fill: #1967D2;\n",
       "      height: 32px;\n",
       "      padding: 0 0 0 0;\n",
       "      width: 32px;\n",
       "    }\n",
       "\n",
       "    .colab-df-convert:hover {\n",
       "      background-color: #E2EBFA;\n",
       "      box-shadow: 0px 1px 2px rgba(60, 64, 67, 0.3), 0px 1px 3px 1px rgba(60, 64, 67, 0.15);\n",
       "      fill: #174EA6;\n",
       "    }\n",
       "\n",
       "    [theme=dark] .colab-df-convert {\n",
       "      background-color: #3B4455;\n",
       "      fill: #D2E3FC;\n",
       "    }\n",
       "\n",
       "    [theme=dark] .colab-df-convert:hover {\n",
       "      background-color: #434B5C;\n",
       "      box-shadow: 0px 1px 3px 1px rgba(0, 0, 0, 0.15);\n",
       "      filter: drop-shadow(0px 1px 2px rgba(0, 0, 0, 0.3));\n",
       "      fill: #FFFFFF;\n",
       "    }\n",
       "  </style>\n",
       "\n",
       "      <script>\n",
       "        const buttonEl =\n",
       "          document.querySelector('#df-4ae6d7b0-7529-4f88-af95-4f004349d57a button.colab-df-convert');\n",
       "        buttonEl.style.display =\n",
       "          google.colab.kernel.accessAllowed ? 'block' : 'none';\n",
       "\n",
       "        async function convertToInteractive(key) {\n",
       "          const element = document.querySelector('#df-4ae6d7b0-7529-4f88-af95-4f004349d57a');\n",
       "          const dataTable =\n",
       "            await google.colab.kernel.invokeFunction('convertToInteractive',\n",
       "                                                     [key], {});\n",
       "          if (!dataTable) return;\n",
       "\n",
       "          const docLinkHtml = 'Like what you see? Visit the ' +\n",
       "            '<a target=\"_blank\" href=https://colab.research.google.com/notebooks/data_table.ipynb>data table notebook</a>'\n",
       "            + ' to learn more about interactive tables.';\n",
       "          element.innerHTML = '';\n",
       "          dataTable['output_type'] = 'display_data';\n",
       "          await google.colab.output.renderOutput(dataTable, element);\n",
       "          const docLink = document.createElement('div');\n",
       "          docLink.innerHTML = docLinkHtml;\n",
       "          element.appendChild(docLink);\n",
       "        }\n",
       "      </script>\n",
       "    </div>\n",
       "  </div>\n",
       "  "
      ],
      "text/plain": [
       "                      model    type    mean_price  ad_number\n",
       "0                ford f-150   truck  14889.469942       1730\n",
       "1  chevrolet silverado 1500   truck  16528.349306       1440\n",
       "2                  ram 1500   truck  15907.385782       1055\n",
       "3              toyota camry   sedan   7260.254625        919\n",
       "4                ford f-150  pickup  13756.718938        829\n",
       "5              honda accord   sedan   6740.681529        785\n",
       "6             jeep wrangler     SUV  17569.515584        770\n",
       "7               ford escape     SUV   8304.161725        742\n",
       "8             ford explorer     SUV  10774.544180        713\n",
       "9             nissan altima   sedan   7286.994366        710"
      ]
     },
     "execution_count": 1316,
     "metadata": {},
     "output_type": "execute_result"
    }
   ],
   "source": [
    "autos_categoria('type')"
   ]
  },
  {
   "cell_type": "markdown",
   "metadata": {
    "id": "jxqZgTgsGlyA"
   },
   "source": [
    "También podemos observar que los autos que más aumentan el precio de los mismos, son los tipo, tractor, pickup, dependiendo del tipo de coupe, y los convertibles."
   ]
  },
  {
   "cell_type": "code",
   "execution_count": 1317,
   "metadata": {
    "colab": {
     "base_uri": "https://localhost:8080/",
     "height": 685
    },
    "id": "vc0Yo78j3lkC",
    "outputId": "05adf345-3acb-4829-ae0d-188504bb0fbd"
   },
   "outputs": [
    {
     "data": {
      "image/png": "[encoded data removed]",
      "text/plain": [
       "<Figure size 720x360 with 1 Axes>"
      ]
     },
     "metadata": {},
     "output_type": "display_data"
    },
    {
     "data": {
      "text/html": [
       "\n",
       "  <div id=\"df-562a2080-fced-4a2e-a64c-b15d9673d136\">\n",
       "    <div class=\"colab-df-container\">\n",
       "      <div>\n",
       "<style scoped>\n",
       "    .dataframe tbody tr th:only-of-type {\n",
       "        vertical-align: middle;\n",
       "    }\n",
       "\n",
       "    .dataframe tbody tr th {\n",
       "        vertical-align: top;\n",
       "    }\n",
       "\n",
       "    .dataframe thead th {\n",
       "        text-align: right;\n",
       "    }\n",
       "</style>\n",
       "<table border=\"1\" class=\"dataframe\">\n",
       "  <thead>\n",
       "    <tr style=\"text-align: right;\">\n",
       "      <th></th>\n",
       "      <th>model</th>\n",
       "      <th>is_4wd</th>\n",
       "      <th>mean_price</th>\n",
       "      <th>ad_number</th>\n",
       "    </tr>\n",
       "  </thead>\n",
       "  <tbody>\n",
       "    <tr>\n",
       "      <th>0</th>\n",
       "      <td>ford f-150</td>\n",
       "      <td>1</td>\n",
       "      <td>16163.878646</td>\n",
       "      <td>1920</td>\n",
       "    </tr>\n",
       "    <tr>\n",
       "      <th>1</th>\n",
       "      <td>chevrolet silverado 1500</td>\n",
       "      <td>1</td>\n",
       "      <td>17322.391714</td>\n",
       "      <td>1593</td>\n",
       "    </tr>\n",
       "    <tr>\n",
       "      <th>2</th>\n",
       "      <td>ram 1500</td>\n",
       "      <td>1</td>\n",
       "      <td>16729.197935</td>\n",
       "      <td>1162</td>\n",
       "    </tr>\n",
       "    <tr>\n",
       "      <th>3</th>\n",
       "      <td>jeep wrangler</td>\n",
       "      <td>1</td>\n",
       "      <td>16959.740821</td>\n",
       "      <td>926</td>\n",
       "    </tr>\n",
       "    <tr>\n",
       "      <th>4</th>\n",
       "      <td>toyota camry</td>\n",
       "      <td>0</td>\n",
       "      <td>7204.342764</td>\n",
       "      <td>919</td>\n",
       "    </tr>\n",
       "    <tr>\n",
       "      <th>5</th>\n",
       "      <td>honda accord</td>\n",
       "      <td>0</td>\n",
       "      <td>6707.194229</td>\n",
       "      <td>901</td>\n",
       "    </tr>\n",
       "    <tr>\n",
       "      <th>6</th>\n",
       "      <td>ram 2500</td>\n",
       "      <td>1</td>\n",
       "      <td>23968.961717</td>\n",
       "      <td>862</td>\n",
       "    </tr>\n",
       "    <tr>\n",
       "      <th>7</th>\n",
       "      <td>chevrolet silverado</td>\n",
       "      <td>1</td>\n",
       "      <td>16070.410165</td>\n",
       "      <td>846</td>\n",
       "    </tr>\n",
       "    <tr>\n",
       "      <th>8</th>\n",
       "      <td>nissan altima</td>\n",
       "      <td>0</td>\n",
       "      <td>7233.997429</td>\n",
       "      <td>778</td>\n",
       "    </tr>\n",
       "    <tr>\n",
       "      <th>9</th>\n",
       "      <td>chevrolet silverado 2500hd</td>\n",
       "      <td>1</td>\n",
       "      <td>20162.463514</td>\n",
       "      <td>740</td>\n",
       "    </tr>\n",
       "  </tbody>\n",
       "</table>\n",
       "</div>\n",
       "      <button class=\"colab-df-convert\" onclick=\"convertToInteractive('df-562a2080-fced-4a2e-a64c-b15d9673d136')\"\n",
       "              title=\"Convert this dataframe to an interactive table.\"\n",
       "              style=\"display:none;\">\n",
       "        \n",
       "  <svg xmlns=\"http://www.w3.org/2000/svg\" height=\"24px\"viewBox=\"0 0 24 24\"\n",
       "       width=\"24px\">\n",
       "    <path d=\"M0 0h24v24H0V0z\" fill=\"none\"/>\n",
       "    <path d=\"M18.56 5.44l.94 2.06.94-2.06 2.06-.94-2.06-.94-.94-2.06-.94 2.06-2.06.94zm-11 1L8.5 8.5l.94-2.06 2.06-.94-2.06-.94L8.5 2.5l-.94 2.06-2.06.94zm10 10l.94 2.06.94-2.06 2.06-.94-2.06-.94-.94-2.06-.94 2.06-2.06.94z\"/><path d=\"M17.41 7.96l-1.37-1.37c-.4-.4-.92-.59-1.43-.59-.52 0-1.04.2-1.43.59L10.3 9.45l-7.72 7.72c-.78.78-.78 2.05 0 2.83L4 21.41c.39.39.9.59 1.41.59.51 0 1.02-.2 1.41-.59l7.78-7.78 2.81-2.81c.8-.78.8-2.07 0-2.86zM5.41 20L4 18.59l7.72-7.72 1.47 1.35L5.41 20z\"/>\n",
       "  </svg>\n",
       "      </button>\n",
       "      \n",
       "  <style>\n",
       "    .colab-df-container {\n",
       "      display:flex;\n",
       "      flex-wrap:wrap;\n",
       "      gap: 12px;\n",
       "    }\n",
       "\n",
       "    .colab-df-convert {\n",
       "      background-color: #E8F0FE;\n",
       "      border: none;\n",
       "      border-radius: 50%;\n",
       "      cursor: pointer;\n",
       "      display: none;\n",
       "      fill: #1967D2;\n",
       "      height: 32px;\n",
       "      padding: 0 0 0 0;\n",
       "      width: 32px;\n",
       "    }\n",
       "\n",
       "    .colab-df-convert:hover {\n",
       "      background-color: #E2EBFA;\n",
       "      box-shadow: 0px 1px 2px rgba(60, 64, 67, 0.3), 0px 1px 3px 1px rgba(60, 64, 67, 0.15);\n",
       "      fill: #174EA6;\n",
       "    }\n",
       "\n",
       "    [theme=dark] .colab-df-convert {\n",
       "      background-color: #3B4455;\n",
       "      fill: #D2E3FC;\n",
       "    }\n",
       "\n",
       "    [theme=dark] .colab-df-convert:hover {\n",
       "      background-color: #434B5C;\n",
       "      box-shadow: 0px 1px 3px 1px rgba(0, 0, 0, 0.15);\n",
       "      filter: drop-shadow(0px 1px 2px rgba(0, 0, 0, 0.3));\n",
       "      fill: #FFFFFF;\n",
       "    }\n",
       "  </style>\n",
       "\n",
       "      <script>\n",
       "        const buttonEl =\n",
       "          document.querySelector('#df-562a2080-fced-4a2e-a64c-b15d9673d136 button.colab-df-convert');\n",
       "        buttonEl.style.display =\n",
       "          google.colab.kernel.accessAllowed ? 'block' : 'none';\n",
       "\n",
       "        async function convertToInteractive(key) {\n",
       "          const element = document.querySelector('#df-562a2080-fced-4a2e-a64c-b15d9673d136');\n",
       "          const dataTable =\n",
       "            await google.colab.kernel.invokeFunction('convertToInteractive',\n",
       "                                                     [key], {});\n",
       "          if (!dataTable) return;\n",
       "\n",
       "          const docLinkHtml = 'Like what you see? Visit the ' +\n",
       "            '<a target=\"_blank\" href=https://colab.research.google.com/notebooks/data_table.ipynb>data table notebook</a>'\n",
       "            + ' to learn more about interactive tables.';\n",
       "          element.innerHTML = '';\n",
       "          dataTable['output_type'] = 'display_data';\n",
       "          await google.colab.output.renderOutput(dataTable, element);\n",
       "          const docLink = document.createElement('div');\n",
       "          docLink.innerHTML = docLinkHtml;\n",
       "          element.appendChild(docLink);\n",
       "        }\n",
       "      </script>\n",
       "    </div>\n",
       "  </div>\n",
       "  "
      ],
      "text/plain": [
       "                        model  is_4wd    mean_price  ad_number\n",
       "0                  ford f-150       1  16163.878646       1920\n",
       "1    chevrolet silverado 1500       1  17322.391714       1593\n",
       "2                    ram 1500       1  16729.197935       1162\n",
       "3               jeep wrangler       1  16959.740821        926\n",
       "4                toyota camry       0   7204.342764        919\n",
       "5                honda accord       0   6707.194229        901\n",
       "6                    ram 2500       1  23968.961717        862\n",
       "7         chevrolet silverado       1  16070.410165        846\n",
       "8               nissan altima       0   7233.997429        778\n",
       "9  chevrolet silverado 2500hd       1  20162.463514        740"
      ]
     },
     "execution_count": 1317,
     "metadata": {},
     "output_type": "execute_result"
    }
   ],
   "source": [
    "autos_categoria('is_4wd')"
   ]
  },
  {
   "cell_type": "markdown",
   "metadata": {
    "id": "FVEltCRpG76g"
   },
   "source": [
    "Por último los carros con tracción de 4 ruedas definitivamente aumentan el precio de estos."
   ]
  },
  {
   "cell_type": "markdown",
   "metadata": {
    "id": "oBT3Ec4xWd-I"
   },
   "source": [
    "## Conclusión general\n",
    "En conclusión se pudieron llegar a estudiar en profundidad, que factores son los que pueden afectar el precio de los autos en este caso de estudio.\n",
    "\n",
    "**Preprocesameinto de datos:**\n",
    "\n",
    "* En este caso el reto fúe lograr completar los valores ausentes y determinar los tipo de datos a utilizar\n",
    "  * Primeramente se rellenaron los valores ausentes en alas millas tomando enc uenta la correlación que debe existoir entre el tiepo devida de un auto y cuando recorre este.\n",
    "  *   Así mismo de cambiaron los valores NAN de las tracción en las 4 ruedas por 0, ya que querian decri falso.\n",
    "  * Sin embargo, no fué posible rellenar los valores ausnetes en el año del modelo, número de cilindros o el color de la pintura. El año del modelo y número de cilindros son especificaciones de cada modelo, colocarlo basandonos en este y en el año no sería corrcto, ya que puede haber un ford f-150 del 2008 con 4 cilindros o de 8, y que incluso uno del 2010 con 6 u 10 cilindros, por lo que rellenandolo con la media, mediano o moda lo unico que causará será sesgar los datos. Con el color, es una característica arbitraria, no se puede rellenar por las mismas razones antes mencionadas. Por lo que son un mla necesario.\n",
    "  * Se cambiaron los tipos de dato `float` a `Int64` en el caso de los cilindros y a `DateTime` en el caso del año  de modelo y la fecha de venta.\n",
    "\n",
    "**Tratamiento de valores atípicos**\n",
    "* Al realizar los histogramas de las variables númericas de la tabla principal, se observó la gran canridad de atípicos que habian. Cosa que no es de extrañar cuando de autos se refiere, ya que hay muy antiguos que valen mucho o poco, así como carros muy caros o muy económicos. Lo que se hizo fué mediante gráficos de caja y bigotes determinar que valores estaban fuera de rango y truncar la data almacenandola en otro DataFrame.\n",
    "  * Se deciciío que el precio debia oscilar entre 1000 y 50000, ya que precios inferiores no hacen sentido y superiores son demasiado atípicos para la clase media alta, como para considerarlos en el análisis.\n",
    "  * Se decidió Truncar los años de 20años hacia abajo, ya que el resto son muy viejos, y pueden perjudicar el análisis, ya que son carros que no compra el común denominador de las personas.\n",
    "  * Se truncó el millaje a un máximo de 300000 millas, ya que por encima son basatent dificiles de vender y probablemente signifique que es un auto viejo, o que lo han usado demasiado, por lo que es de más cuidado.\n",
    "  * El resto de columnas no se considera que tuvieran atípicos.\n",
    "\n",
    "**Análisis del precio**\n",
    "\n",
    "* Se llegó a la conclusión que los dos autos más publicados son el ford f-150 y el chevrolet silverado 1500, Así mismo, los valores que más contribuyen a las fluctuaciones en el precio son:\n",
    "  * Los factores numéricos que más influyen en el precio, son el millaje, el cual es inversamnete proporcional, entre más millas tiene un carro recorridas, menor será el precio, de la misma manera que con la edad del auto. Sin embargo la correlación entre estos no es tan fuerte, como para considerarse como tal.\n",
    "  * Podemos observar, que el color de los autos no es un factor demasiado determinante en lo que aumentar el valor de un auto se refiere. De hecho los mantiene en un valor mediano de unos 10000. Sin embargo observando los graficos obtenidos, podemos ver que los colores que más venden los autos, y que efectivamente aumentan el precio de estos son el blanco, el negro y un tanto el rojo.\n",
    "  * Tener una transmisión hibrida si es un factor determinante que aumenta el precio de los autos, sin embargo la automatica en promedio esta u poco por encima de la manual.\n",
    "  * Tener un auto a diesel es un factor bastanet determinante que aumenta mucho el precio de los autos, debido a que este es más economico en muchos paiese y por lo tanto más solicitados.\n",
    "  * También podemos observar que los autos que más aumentan el precio de los mismos, son los tipo, tractor, pickup, dependiendo del tipo de coupe, y los convertibles.\n",
    "  * Por último los carros con tracción de 4 ruedas definitivamente aumentan el precio de estos."
   ]
  }
 ],
 "metadata": {
  "ExecuteTimeLog": [
   {
    "duration": 828,
    "start_time": "2021-11-16T09:21:11.304Z"
   },
   {
    "duration": 893,
    "start_time": "2021-11-16T09:21:17.728Z"
   },
   {
    "duration": 1150,
    "start_time": "2021-11-16T09:21:29.568Z"
   },
   {
    "duration": 3,
    "start_time": "2021-11-16T09:24:14.495Z"
   },
   {
    "duration": 120,
    "start_time": "2021-11-16T09:24:46.630Z"
   },
   {
    "duration": 3,
    "start_time": "2021-11-16T09:28:27.882Z"
   },
   {
    "duration": 4,
    "start_time": "2021-11-16T09:29:54.281Z"
   },
   {
    "duration": 3,
    "start_time": "2021-11-16T09:30:45.936Z"
   },
   {
    "duration": 4,
    "start_time": "2021-11-16T09:31:06.300Z"
   },
   {
    "duration": 113,
    "start_time": "2021-11-16T09:31:37.208Z"
   },
   {
    "duration": 143,
    "start_time": "2021-11-16T09:31:48.656Z"
   },
   {
    "duration": 98,
    "start_time": "2021-11-16T09:31:55.678Z"
   },
   {
    "duration": 3,
    "start_time": "2021-11-16T09:32:08.535Z"
   },
   {
    "duration": 111,
    "start_time": "2021-11-16T09:32:10.120Z"
   },
   {
    "duration": 3,
    "start_time": "2021-11-16T09:32:15.732Z"
   },
   {
    "duration": 4,
    "start_time": "2021-11-16T09:32:29.423Z"
   },
   {
    "duration": 3,
    "start_time": "2021-11-16T10:03:03.074Z"
   },
   {
    "duration": 3,
    "start_time": "2021-11-16T10:10:01.288Z"
   },
   {
    "duration": 3,
    "start_time": "2021-11-16T10:10:46.923Z"
   },
   {
    "duration": 121,
    "start_time": "2021-11-16T10:37:46.494Z"
   },
   {
    "duration": 125,
    "start_time": "2021-11-16T10:38:20.632Z"
   },
   {
    "duration": 112,
    "start_time": "2021-11-16T10:46:53.001Z"
   },
   {
    "duration": 110,
    "start_time": "2021-11-16T10:48:25.775Z"
   },
   {
    "duration": 3,
    "start_time": "2021-11-16T10:50:18.720Z"
   },
   {
    "duration": 4,
    "start_time": "2021-11-16T10:50:37.649Z"
   },
   {
    "duration": 2,
    "start_time": "2021-11-16T10:50:51.884Z"
   },
   {
    "duration": 3,
    "start_time": "2021-11-16T10:51:56.237Z"
   },
   {
    "duration": 101,
    "start_time": "2021-11-16T10:53:13.791Z"
   },
   {
    "duration": 3,
    "start_time": "2021-11-16T10:55:59.186Z"
   },
   {
    "duration": 3,
    "start_time": "2021-11-16T10:56:10.751Z"
   },
   {
    "duration": 3,
    "start_time": "2021-11-16T10:56:49.038Z"
   },
   {
    "duration": 3,
    "start_time": "2021-11-16T10:56:49.174Z"
   },
   {
    "duration": 4,
    "start_time": "2021-11-16T10:56:49.414Z"
   },
   {
    "duration": 3,
    "start_time": "2021-11-16T10:56:49.680Z"
   },
   {
    "duration": 3,
    "start_time": "2021-11-16T10:56:50.370Z"
   },
   {
    "duration": 114,
    "start_time": "2021-11-16T10:59:34.518Z"
   },
   {
    "duration": 3,
    "start_time": "2021-11-16T11:01:41.201Z"
   },
   {
    "duration": 116,
    "start_time": "2021-11-16T11:01:48.754Z"
   },
   {
    "duration": 3,
    "start_time": "2021-11-16T11:02:16.685Z"
   },
   {
    "duration": 3,
    "start_time": "2021-11-16T11:02:19.479Z"
   },
   {
    "duration": 3,
    "start_time": "2021-11-16T11:02:47.067Z"
   },
   {
    "duration": 3,
    "start_time": "2021-11-16T11:02:49.353Z"
   },
   {
    "duration": 3,
    "start_time": "2021-11-16T11:03:07.835Z"
   },
   {
    "duration": 3,
    "start_time": "2021-11-16T11:03:07.953Z"
   },
   {
    "duration": 112,
    "start_time": "2021-11-16T11:07:52.072Z"
   },
   {
    "duration": 187,
    "start_time": "2021-11-16T11:09:23.468Z"
   },
   {
    "duration": 4,
    "start_time": "2021-11-16T11:10:01.455Z"
   },
   {
    "duration": 3,
    "start_time": "2021-11-16T11:10:05.069Z"
   },
   {
    "duration": 4,
    "start_time": "2021-11-16T11:10:13.376Z"
   },
   {
    "duration": 3,
    "start_time": "2021-11-16T11:10:14.434Z"
   },
   {
    "duration": 3,
    "start_time": "2021-11-16T11:10:22.853Z"
   },
   {
    "duration": 4,
    "start_time": "2021-11-16T11:27:29.279Z"
   },
   {
    "duration": 4,
    "start_time": "2021-11-16T11:29:08.919Z"
   },
   {
    "duration": 118,
    "start_time": "2021-11-16T11:29:46.703Z"
   },
   {
    "duration": 437,
    "start_time": "2021-11-16T11:36:02.181Z"
   },
   {
    "duration": 157,
    "start_time": "2021-11-16T11:36:14.388Z"
   },
   {
    "duration": 207,
    "start_time": "2021-11-16T11:47:15.898Z"
   },
   {
    "duration": 3,
    "start_time": "2021-11-16T11:53:52.092Z"
   },
   {
    "duration": 3,
    "start_time": "2021-11-16T11:53:52.236Z"
   },
   {
    "duration": 3,
    "start_time": "2021-11-16T11:59:12.005Z"
   },
   {
    "duration": 112,
    "start_time": "2021-11-16T12:00:33.446Z"
   },
   {
    "duration": 3,
    "start_time": "2021-11-16T12:02:14.453Z"
   },
   {
    "duration": 3,
    "start_time": "2021-11-16T12:02:39.512Z"
   },
   {
    "duration": 106,
    "start_time": "2021-11-16T12:03:03.460Z"
   }
  ],
  "colab": {
   "collapsed_sections": [],
   "provenance": []
  },
  "kernelspec": {
   "display_name": "Python 3 (ipykernel)",
   "language": "python",
   "name": "python3"
  },
  "language_info": {
   "codemirror_mode": {
    "name": "ipython",
    "version": 3
   },
   "file_extension": ".py",
   "mimetype": "text/x-python",
   "name": "python",
   "nbconvert_exporter": "python",
   "pygments_lexer": "ipython3",
   "version": "3.9.5"
  },
  "toc": {
   "base_numbering": 1,
   "nav_menu": {},
   "number_sections": true,
   "sideBar": true,
   "skip_h1_title": false,
   "title_cell": "Table of Contents",
   "title_sidebar": "Contents",
   "toc_cell": false,
   "toc_position": {},
   "toc_section_display": true,
   "toc_window_display": true
  }
 },
 "nbformat": 4,
 "nbformat_minor": 1
}
